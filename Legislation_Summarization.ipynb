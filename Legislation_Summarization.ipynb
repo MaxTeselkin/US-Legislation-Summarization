{
  "nbformat": 4,
  "nbformat_minor": 0,
  "metadata": {
    "colab": {
      "provenance": []
    },
    "kernelspec": {
      "name": "python3",
      "display_name": "Python 3"
    },
    "language_info": {
      "name": "python"
    },
    "gpuClass": "standard",
    "widgets": {
      "application/vnd.jupyter.widget-state+json": {
        "3c22b2c7a9b64eeb8c8825a95c72a37c": {
          "model_module": "@jupyter-widgets/controls",
          "model_name": "HBoxModel",
          "model_module_version": "1.5.0",
          "state": {
            "_dom_classes": [],
            "_model_module": "@jupyter-widgets/controls",
            "_model_module_version": "1.5.0",
            "_model_name": "HBoxModel",
            "_view_count": null,
            "_view_module": "@jupyter-widgets/controls",
            "_view_module_version": "1.5.0",
            "_view_name": "HBoxView",
            "box_style": "",
            "children": [
              "IPY_MODEL_6546511d4261492a812798a38be898c8",
              "IPY_MODEL_6b6b7ee8e18b4580b9f0eca166510393",
              "IPY_MODEL_d31d9ea674104d8a91c53789bf1ded81"
            ],
            "layout": "IPY_MODEL_630186d612b543fd8b049ee9627baaaf"
          }
        },
        "6546511d4261492a812798a38be898c8": {
          "model_module": "@jupyter-widgets/controls",
          "model_name": "HTMLModel",
          "model_module_version": "1.5.0",
          "state": {
            "_dom_classes": [],
            "_model_module": "@jupyter-widgets/controls",
            "_model_module_version": "1.5.0",
            "_model_name": "HTMLModel",
            "_view_count": null,
            "_view_module": "@jupyter-widgets/controls",
            "_view_module_version": "1.5.0",
            "_view_name": "HTMLView",
            "description": "",
            "description_tooltip": null,
            "layout": "IPY_MODEL_44b210054805451181850ce9be0dbe5c",
            "placeholder": "​",
            "style": "IPY_MODEL_9ab35271529c47a08587a3923016ddac",
            "value": "100%"
          }
        },
        "6b6b7ee8e18b4580b9f0eca166510393": {
          "model_module": "@jupyter-widgets/controls",
          "model_name": "FloatProgressModel",
          "model_module_version": "1.5.0",
          "state": {
            "_dom_classes": [],
            "_model_module": "@jupyter-widgets/controls",
            "_model_module_version": "1.5.0",
            "_model_name": "FloatProgressModel",
            "_view_count": null,
            "_view_module": "@jupyter-widgets/controls",
            "_view_module_version": "1.5.0",
            "_view_name": "ProgressView",
            "bar_style": "success",
            "description": "",
            "description_tooltip": null,
            "layout": "IPY_MODEL_ede8db042a6149c5bd362f2b2c1dda1c",
            "max": 125,
            "min": 0,
            "orientation": "horizontal",
            "style": "IPY_MODEL_6ba874ea635e4359a3382f0e9f0d35d5",
            "value": 125
          }
        },
        "d31d9ea674104d8a91c53789bf1ded81": {
          "model_module": "@jupyter-widgets/controls",
          "model_name": "HTMLModel",
          "model_module_version": "1.5.0",
          "state": {
            "_dom_classes": [],
            "_model_module": "@jupyter-widgets/controls",
            "_model_module_version": "1.5.0",
            "_model_name": "HTMLModel",
            "_view_count": null,
            "_view_module": "@jupyter-widgets/controls",
            "_view_module_version": "1.5.0",
            "_view_name": "HTMLView",
            "description": "",
            "description_tooltip": null,
            "layout": "IPY_MODEL_5773923e0e9a49778adbe4b907db4db9",
            "placeholder": "​",
            "style": "IPY_MODEL_fa1b4a6dbda54fffba35ef1522ff0819",
            "value": " 125/125 [00:07&lt;00:00, 14.02ba/s]"
          }
        },
        "630186d612b543fd8b049ee9627baaaf": {
          "model_module": "@jupyter-widgets/base",
          "model_name": "LayoutModel",
          "model_module_version": "1.2.0",
          "state": {
            "_model_module": "@jupyter-widgets/base",
            "_model_module_version": "1.2.0",
            "_model_name": "LayoutModel",
            "_view_count": null,
            "_view_module": "@jupyter-widgets/base",
            "_view_module_version": "1.2.0",
            "_view_name": "LayoutView",
            "align_content": null,
            "align_items": null,
            "align_self": null,
            "border": null,
            "bottom": null,
            "display": null,
            "flex": null,
            "flex_flow": null,
            "grid_area": null,
            "grid_auto_columns": null,
            "grid_auto_flow": null,
            "grid_auto_rows": null,
            "grid_column": null,
            "grid_gap": null,
            "grid_row": null,
            "grid_template_areas": null,
            "grid_template_columns": null,
            "grid_template_rows": null,
            "height": null,
            "justify_content": null,
            "justify_items": null,
            "left": null,
            "margin": null,
            "max_height": null,
            "max_width": null,
            "min_height": null,
            "min_width": null,
            "object_fit": null,
            "object_position": null,
            "order": null,
            "overflow": null,
            "overflow_x": null,
            "overflow_y": null,
            "padding": null,
            "right": null,
            "top": null,
            "visibility": null,
            "width": null
          }
        },
        "44b210054805451181850ce9be0dbe5c": {
          "model_module": "@jupyter-widgets/base",
          "model_name": "LayoutModel",
          "model_module_version": "1.2.0",
          "state": {
            "_model_module": "@jupyter-widgets/base",
            "_model_module_version": "1.2.0",
            "_model_name": "LayoutModel",
            "_view_count": null,
            "_view_module": "@jupyter-widgets/base",
            "_view_module_version": "1.2.0",
            "_view_name": "LayoutView",
            "align_content": null,
            "align_items": null,
            "align_self": null,
            "border": null,
            "bottom": null,
            "display": null,
            "flex": null,
            "flex_flow": null,
            "grid_area": null,
            "grid_auto_columns": null,
            "grid_auto_flow": null,
            "grid_auto_rows": null,
            "grid_column": null,
            "grid_gap": null,
            "grid_row": null,
            "grid_template_areas": null,
            "grid_template_columns": null,
            "grid_template_rows": null,
            "height": null,
            "justify_content": null,
            "justify_items": null,
            "left": null,
            "margin": null,
            "max_height": null,
            "max_width": null,
            "min_height": null,
            "min_width": null,
            "object_fit": null,
            "object_position": null,
            "order": null,
            "overflow": null,
            "overflow_x": null,
            "overflow_y": null,
            "padding": null,
            "right": null,
            "top": null,
            "visibility": null,
            "width": null
          }
        },
        "9ab35271529c47a08587a3923016ddac": {
          "model_module": "@jupyter-widgets/controls",
          "model_name": "DescriptionStyleModel",
          "model_module_version": "1.5.0",
          "state": {
            "_model_module": "@jupyter-widgets/controls",
            "_model_module_version": "1.5.0",
            "_model_name": "DescriptionStyleModel",
            "_view_count": null,
            "_view_module": "@jupyter-widgets/base",
            "_view_module_version": "1.2.0",
            "_view_name": "StyleView",
            "description_width": ""
          }
        },
        "ede8db042a6149c5bd362f2b2c1dda1c": {
          "model_module": "@jupyter-widgets/base",
          "model_name": "LayoutModel",
          "model_module_version": "1.2.0",
          "state": {
            "_model_module": "@jupyter-widgets/base",
            "_model_module_version": "1.2.0",
            "_model_name": "LayoutModel",
            "_view_count": null,
            "_view_module": "@jupyter-widgets/base",
            "_view_module_version": "1.2.0",
            "_view_name": "LayoutView",
            "align_content": null,
            "align_items": null,
            "align_self": null,
            "border": null,
            "bottom": null,
            "display": null,
            "flex": null,
            "flex_flow": null,
            "grid_area": null,
            "grid_auto_columns": null,
            "grid_auto_flow": null,
            "grid_auto_rows": null,
            "grid_column": null,
            "grid_gap": null,
            "grid_row": null,
            "grid_template_areas": null,
            "grid_template_columns": null,
            "grid_template_rows": null,
            "height": null,
            "justify_content": null,
            "justify_items": null,
            "left": null,
            "margin": null,
            "max_height": null,
            "max_width": null,
            "min_height": null,
            "min_width": null,
            "object_fit": null,
            "object_position": null,
            "order": null,
            "overflow": null,
            "overflow_x": null,
            "overflow_y": null,
            "padding": null,
            "right": null,
            "top": null,
            "visibility": null,
            "width": null
          }
        },
        "6ba874ea635e4359a3382f0e9f0d35d5": {
          "model_module": "@jupyter-widgets/controls",
          "model_name": "ProgressStyleModel",
          "model_module_version": "1.5.0",
          "state": {
            "_model_module": "@jupyter-widgets/controls",
            "_model_module_version": "1.5.0",
            "_model_name": "ProgressStyleModel",
            "_view_count": null,
            "_view_module": "@jupyter-widgets/base",
            "_view_module_version": "1.2.0",
            "_view_name": "StyleView",
            "bar_color": null,
            "description_width": ""
          }
        },
        "5773923e0e9a49778adbe4b907db4db9": {
          "model_module": "@jupyter-widgets/base",
          "model_name": "LayoutModel",
          "model_module_version": "1.2.0",
          "state": {
            "_model_module": "@jupyter-widgets/base",
            "_model_module_version": "1.2.0",
            "_model_name": "LayoutModel",
            "_view_count": null,
            "_view_module": "@jupyter-widgets/base",
            "_view_module_version": "1.2.0",
            "_view_name": "LayoutView",
            "align_content": null,
            "align_items": null,
            "align_self": null,
            "border": null,
            "bottom": null,
            "display": null,
            "flex": null,
            "flex_flow": null,
            "grid_area": null,
            "grid_auto_columns": null,
            "grid_auto_flow": null,
            "grid_auto_rows": null,
            "grid_column": null,
            "grid_gap": null,
            "grid_row": null,
            "grid_template_areas": null,
            "grid_template_columns": null,
            "grid_template_rows": null,
            "height": null,
            "justify_content": null,
            "justify_items": null,
            "left": null,
            "margin": null,
            "max_height": null,
            "max_width": null,
            "min_height": null,
            "min_width": null,
            "object_fit": null,
            "object_position": null,
            "order": null,
            "overflow": null,
            "overflow_x": null,
            "overflow_y": null,
            "padding": null,
            "right": null,
            "top": null,
            "visibility": null,
            "width": null
          }
        },
        "fa1b4a6dbda54fffba35ef1522ff0819": {
          "model_module": "@jupyter-widgets/controls",
          "model_name": "DescriptionStyleModel",
          "model_module_version": "1.5.0",
          "state": {
            "_model_module": "@jupyter-widgets/controls",
            "_model_module_version": "1.5.0",
            "_model_name": "DescriptionStyleModel",
            "_view_count": null,
            "_view_module": "@jupyter-widgets/base",
            "_view_module_version": "1.2.0",
            "_view_name": "StyleView",
            "description_width": ""
          }
        },
        "c19e9b6007ac4f45a25030531017c7a7": {
          "model_module": "@jupyter-widgets/controls",
          "model_name": "HBoxModel",
          "model_module_version": "1.5.0",
          "state": {
            "_dom_classes": [],
            "_model_module": "@jupyter-widgets/controls",
            "_model_module_version": "1.5.0",
            "_model_name": "HBoxModel",
            "_view_count": null,
            "_view_module": "@jupyter-widgets/controls",
            "_view_module_version": "1.5.0",
            "_view_name": "HBoxView",
            "box_style": "",
            "children": [
              "IPY_MODEL_5303056ef8c2410ead578675705be8d3",
              "IPY_MODEL_c0f8e65d7a0a4ab1b158694afa35ad07",
              "IPY_MODEL_0e0ac3ed6692423ca353b62eeac969e5"
            ],
            "layout": "IPY_MODEL_a7935e3b056044729e413a280beeb8be"
          }
        },
        "5303056ef8c2410ead578675705be8d3": {
          "model_module": "@jupyter-widgets/controls",
          "model_name": "HTMLModel",
          "model_module_version": "1.5.0",
          "state": {
            "_dom_classes": [],
            "_model_module": "@jupyter-widgets/controls",
            "_model_module_version": "1.5.0",
            "_model_name": "HTMLModel",
            "_view_count": null,
            "_view_module": "@jupyter-widgets/controls",
            "_view_module_version": "1.5.0",
            "_view_name": "HTMLView",
            "description": "",
            "description_tooltip": null,
            "layout": "IPY_MODEL_8bf2f9a4bdce4f94ada13f07adbca17c",
            "placeholder": "​",
            "style": "IPY_MODEL_d94569f30cfb47bf97a941d92b57fe1c",
            "value": "100%"
          }
        },
        "c0f8e65d7a0a4ab1b158694afa35ad07": {
          "model_module": "@jupyter-widgets/controls",
          "model_name": "FloatProgressModel",
          "model_module_version": "1.5.0",
          "state": {
            "_dom_classes": [],
            "_model_module": "@jupyter-widgets/controls",
            "_model_module_version": "1.5.0",
            "_model_name": "FloatProgressModel",
            "_view_count": null,
            "_view_module": "@jupyter-widgets/controls",
            "_view_module_version": "1.5.0",
            "_view_name": "ProgressView",
            "bar_style": "success",
            "description": "",
            "description_tooltip": null,
            "layout": "IPY_MODEL_d98860cf376b4c5f8ce41fe0b9f1e54d",
            "max": 5,
            "min": 0,
            "orientation": "horizontal",
            "style": "IPY_MODEL_4dc35a331f2d426a9c2b7d6fda92d564",
            "value": 5
          }
        },
        "0e0ac3ed6692423ca353b62eeac969e5": {
          "model_module": "@jupyter-widgets/controls",
          "model_name": "HTMLModel",
          "model_module_version": "1.5.0",
          "state": {
            "_dom_classes": [],
            "_model_module": "@jupyter-widgets/controls",
            "_model_module_version": "1.5.0",
            "_model_name": "HTMLModel",
            "_view_count": null,
            "_view_module": "@jupyter-widgets/controls",
            "_view_module_version": "1.5.0",
            "_view_name": "HTMLView",
            "description": "",
            "description_tooltip": null,
            "layout": "IPY_MODEL_cf07a7c5e35f4c2b97f6161eb73736f4",
            "placeholder": "​",
            "style": "IPY_MODEL_a49cf30bc6af4957ad9ac24d70314134",
            "value": " 5/5 [00:00&lt;00:00, 13.80ba/s]"
          }
        },
        "a7935e3b056044729e413a280beeb8be": {
          "model_module": "@jupyter-widgets/base",
          "model_name": "LayoutModel",
          "model_module_version": "1.2.0",
          "state": {
            "_model_module": "@jupyter-widgets/base",
            "_model_module_version": "1.2.0",
            "_model_name": "LayoutModel",
            "_view_count": null,
            "_view_module": "@jupyter-widgets/base",
            "_view_module_version": "1.2.0",
            "_view_name": "LayoutView",
            "align_content": null,
            "align_items": null,
            "align_self": null,
            "border": null,
            "bottom": null,
            "display": null,
            "flex": null,
            "flex_flow": null,
            "grid_area": null,
            "grid_auto_columns": null,
            "grid_auto_flow": null,
            "grid_auto_rows": null,
            "grid_column": null,
            "grid_gap": null,
            "grid_row": null,
            "grid_template_areas": null,
            "grid_template_columns": null,
            "grid_template_rows": null,
            "height": null,
            "justify_content": null,
            "justify_items": null,
            "left": null,
            "margin": null,
            "max_height": null,
            "max_width": null,
            "min_height": null,
            "min_width": null,
            "object_fit": null,
            "object_position": null,
            "order": null,
            "overflow": null,
            "overflow_x": null,
            "overflow_y": null,
            "padding": null,
            "right": null,
            "top": null,
            "visibility": null,
            "width": null
          }
        },
        "8bf2f9a4bdce4f94ada13f07adbca17c": {
          "model_module": "@jupyter-widgets/base",
          "model_name": "LayoutModel",
          "model_module_version": "1.2.0",
          "state": {
            "_model_module": "@jupyter-widgets/base",
            "_model_module_version": "1.2.0",
            "_model_name": "LayoutModel",
            "_view_count": null,
            "_view_module": "@jupyter-widgets/base",
            "_view_module_version": "1.2.0",
            "_view_name": "LayoutView",
            "align_content": null,
            "align_items": null,
            "align_self": null,
            "border": null,
            "bottom": null,
            "display": null,
            "flex": null,
            "flex_flow": null,
            "grid_area": null,
            "grid_auto_columns": null,
            "grid_auto_flow": null,
            "grid_auto_rows": null,
            "grid_column": null,
            "grid_gap": null,
            "grid_row": null,
            "grid_template_areas": null,
            "grid_template_columns": null,
            "grid_template_rows": null,
            "height": null,
            "justify_content": null,
            "justify_items": null,
            "left": null,
            "margin": null,
            "max_height": null,
            "max_width": null,
            "min_height": null,
            "min_width": null,
            "object_fit": null,
            "object_position": null,
            "order": null,
            "overflow": null,
            "overflow_x": null,
            "overflow_y": null,
            "padding": null,
            "right": null,
            "top": null,
            "visibility": null,
            "width": null
          }
        },
        "d94569f30cfb47bf97a941d92b57fe1c": {
          "model_module": "@jupyter-widgets/controls",
          "model_name": "DescriptionStyleModel",
          "model_module_version": "1.5.0",
          "state": {
            "_model_module": "@jupyter-widgets/controls",
            "_model_module_version": "1.5.0",
            "_model_name": "DescriptionStyleModel",
            "_view_count": null,
            "_view_module": "@jupyter-widgets/base",
            "_view_module_version": "1.2.0",
            "_view_name": "StyleView",
            "description_width": ""
          }
        },
        "d98860cf376b4c5f8ce41fe0b9f1e54d": {
          "model_module": "@jupyter-widgets/base",
          "model_name": "LayoutModel",
          "model_module_version": "1.2.0",
          "state": {
            "_model_module": "@jupyter-widgets/base",
            "_model_module_version": "1.2.0",
            "_model_name": "LayoutModel",
            "_view_count": null,
            "_view_module": "@jupyter-widgets/base",
            "_view_module_version": "1.2.0",
            "_view_name": "LayoutView",
            "align_content": null,
            "align_items": null,
            "align_self": null,
            "border": null,
            "bottom": null,
            "display": null,
            "flex": null,
            "flex_flow": null,
            "grid_area": null,
            "grid_auto_columns": null,
            "grid_auto_flow": null,
            "grid_auto_rows": null,
            "grid_column": null,
            "grid_gap": null,
            "grid_row": null,
            "grid_template_areas": null,
            "grid_template_columns": null,
            "grid_template_rows": null,
            "height": null,
            "justify_content": null,
            "justify_items": null,
            "left": null,
            "margin": null,
            "max_height": null,
            "max_width": null,
            "min_height": null,
            "min_width": null,
            "object_fit": null,
            "object_position": null,
            "order": null,
            "overflow": null,
            "overflow_x": null,
            "overflow_y": null,
            "padding": null,
            "right": null,
            "top": null,
            "visibility": null,
            "width": null
          }
        },
        "4dc35a331f2d426a9c2b7d6fda92d564": {
          "model_module": "@jupyter-widgets/controls",
          "model_name": "ProgressStyleModel",
          "model_module_version": "1.5.0",
          "state": {
            "_model_module": "@jupyter-widgets/controls",
            "_model_module_version": "1.5.0",
            "_model_name": "ProgressStyleModel",
            "_view_count": null,
            "_view_module": "@jupyter-widgets/base",
            "_view_module_version": "1.2.0",
            "_view_name": "StyleView",
            "bar_color": null,
            "description_width": ""
          }
        },
        "cf07a7c5e35f4c2b97f6161eb73736f4": {
          "model_module": "@jupyter-widgets/base",
          "model_name": "LayoutModel",
          "model_module_version": "1.2.0",
          "state": {
            "_model_module": "@jupyter-widgets/base",
            "_model_module_version": "1.2.0",
            "_model_name": "LayoutModel",
            "_view_count": null,
            "_view_module": "@jupyter-widgets/base",
            "_view_module_version": "1.2.0",
            "_view_name": "LayoutView",
            "align_content": null,
            "align_items": null,
            "align_self": null,
            "border": null,
            "bottom": null,
            "display": null,
            "flex": null,
            "flex_flow": null,
            "grid_area": null,
            "grid_auto_columns": null,
            "grid_auto_flow": null,
            "grid_auto_rows": null,
            "grid_column": null,
            "grid_gap": null,
            "grid_row": null,
            "grid_template_areas": null,
            "grid_template_columns": null,
            "grid_template_rows": null,
            "height": null,
            "justify_content": null,
            "justify_items": null,
            "left": null,
            "margin": null,
            "max_height": null,
            "max_width": null,
            "min_height": null,
            "min_width": null,
            "object_fit": null,
            "object_position": null,
            "order": null,
            "overflow": null,
            "overflow_x": null,
            "overflow_y": null,
            "padding": null,
            "right": null,
            "top": null,
            "visibility": null,
            "width": null
          }
        },
        "a49cf30bc6af4957ad9ac24d70314134": {
          "model_module": "@jupyter-widgets/controls",
          "model_name": "DescriptionStyleModel",
          "model_module_version": "1.5.0",
          "state": {
            "_model_module": "@jupyter-widgets/controls",
            "_model_module_version": "1.5.0",
            "_model_name": "DescriptionStyleModel",
            "_view_count": null,
            "_view_module": "@jupyter-widgets/base",
            "_view_module_version": "1.2.0",
            "_view_name": "StyleView",
            "description_width": ""
          }
        },
        "547c50a2de0e4f998ccd362cf24c6770": {
          "model_module": "@jupyter-widgets/controls",
          "model_name": "HBoxModel",
          "model_module_version": "1.5.0",
          "state": {
            "_dom_classes": [],
            "_model_module": "@jupyter-widgets/controls",
            "_model_module_version": "1.5.0",
            "_model_name": "HBoxModel",
            "_view_count": null,
            "_view_module": "@jupyter-widgets/controls",
            "_view_module_version": "1.5.0",
            "_view_name": "HBoxView",
            "box_style": "",
            "children": [
              "IPY_MODEL_4b1d45fe50a040ea9881e6f1bf31dad3",
              "IPY_MODEL_225ddbc2a4024f18818781c61c653bcf",
              "IPY_MODEL_0946ea6d4ac145fe9e3c75b6af92fe4e"
            ],
            "layout": "IPY_MODEL_7ed33398e7c44e039ea157ba9fbade2f"
          }
        },
        "4b1d45fe50a040ea9881e6f1bf31dad3": {
          "model_module": "@jupyter-widgets/controls",
          "model_name": "HTMLModel",
          "model_module_version": "1.5.0",
          "state": {
            "_dom_classes": [],
            "_model_module": "@jupyter-widgets/controls",
            "_model_module_version": "1.5.0",
            "_model_name": "HTMLModel",
            "_view_count": null,
            "_view_module": "@jupyter-widgets/controls",
            "_view_module_version": "1.5.0",
            "_view_name": "HTMLView",
            "description": "",
            "description_tooltip": null,
            "layout": "IPY_MODEL_42959dfc9e814af0a88cfdf467c439ee",
            "placeholder": "​",
            "style": "IPY_MODEL_4c7bcd3ca6074d3c8c89dda9df2c0d5c",
            "value": "Downloading: 100%"
          }
        },
        "225ddbc2a4024f18818781c61c653bcf": {
          "model_module": "@jupyter-widgets/controls",
          "model_name": "FloatProgressModel",
          "model_module_version": "1.5.0",
          "state": {
            "_dom_classes": [],
            "_model_module": "@jupyter-widgets/controls",
            "_model_module_version": "1.5.0",
            "_model_name": "FloatProgressModel",
            "_view_count": null,
            "_view_module": "@jupyter-widgets/controls",
            "_view_module_version": "1.5.0",
            "_view_name": "ProgressView",
            "bar_style": "success",
            "description": "",
            "description_tooltip": null,
            "layout": "IPY_MODEL_15054c97139f4687860e5f1638f697fe",
            "max": 1092,
            "min": 0,
            "orientation": "horizontal",
            "style": "IPY_MODEL_83f57bdd75c6426583276a402e0d3965",
            "value": 1092
          }
        },
        "0946ea6d4ac145fe9e3c75b6af92fe4e": {
          "model_module": "@jupyter-widgets/controls",
          "model_name": "HTMLModel",
          "model_module_version": "1.5.0",
          "state": {
            "_dom_classes": [],
            "_model_module": "@jupyter-widgets/controls",
            "_model_module_version": "1.5.0",
            "_model_name": "HTMLModel",
            "_view_count": null,
            "_view_module": "@jupyter-widgets/controls",
            "_view_module_version": "1.5.0",
            "_view_name": "HTMLView",
            "description": "",
            "description_tooltip": null,
            "layout": "IPY_MODEL_6e7946b62c6e4720924ea1891c7f7446",
            "placeholder": "​",
            "style": "IPY_MODEL_4806828acb5b47c191e2256fd7fb61ad",
            "value": " 1.09k/1.09k [00:00&lt;00:00, 33.6kB/s]"
          }
        },
        "7ed33398e7c44e039ea157ba9fbade2f": {
          "model_module": "@jupyter-widgets/base",
          "model_name": "LayoutModel",
          "model_module_version": "1.2.0",
          "state": {
            "_model_module": "@jupyter-widgets/base",
            "_model_module_version": "1.2.0",
            "_model_name": "LayoutModel",
            "_view_count": null,
            "_view_module": "@jupyter-widgets/base",
            "_view_module_version": "1.2.0",
            "_view_name": "LayoutView",
            "align_content": null,
            "align_items": null,
            "align_self": null,
            "border": null,
            "bottom": null,
            "display": null,
            "flex": null,
            "flex_flow": null,
            "grid_area": null,
            "grid_auto_columns": null,
            "grid_auto_flow": null,
            "grid_auto_rows": null,
            "grid_column": null,
            "grid_gap": null,
            "grid_row": null,
            "grid_template_areas": null,
            "grid_template_columns": null,
            "grid_template_rows": null,
            "height": null,
            "justify_content": null,
            "justify_items": null,
            "left": null,
            "margin": null,
            "max_height": null,
            "max_width": null,
            "min_height": null,
            "min_width": null,
            "object_fit": null,
            "object_position": null,
            "order": null,
            "overflow": null,
            "overflow_x": null,
            "overflow_y": null,
            "padding": null,
            "right": null,
            "top": null,
            "visibility": null,
            "width": null
          }
        },
        "42959dfc9e814af0a88cfdf467c439ee": {
          "model_module": "@jupyter-widgets/base",
          "model_name": "LayoutModel",
          "model_module_version": "1.2.0",
          "state": {
            "_model_module": "@jupyter-widgets/base",
            "_model_module_version": "1.2.0",
            "_model_name": "LayoutModel",
            "_view_count": null,
            "_view_module": "@jupyter-widgets/base",
            "_view_module_version": "1.2.0",
            "_view_name": "LayoutView",
            "align_content": null,
            "align_items": null,
            "align_self": null,
            "border": null,
            "bottom": null,
            "display": null,
            "flex": null,
            "flex_flow": null,
            "grid_area": null,
            "grid_auto_columns": null,
            "grid_auto_flow": null,
            "grid_auto_rows": null,
            "grid_column": null,
            "grid_gap": null,
            "grid_row": null,
            "grid_template_areas": null,
            "grid_template_columns": null,
            "grid_template_rows": null,
            "height": null,
            "justify_content": null,
            "justify_items": null,
            "left": null,
            "margin": null,
            "max_height": null,
            "max_width": null,
            "min_height": null,
            "min_width": null,
            "object_fit": null,
            "object_position": null,
            "order": null,
            "overflow": null,
            "overflow_x": null,
            "overflow_y": null,
            "padding": null,
            "right": null,
            "top": null,
            "visibility": null,
            "width": null
          }
        },
        "4c7bcd3ca6074d3c8c89dda9df2c0d5c": {
          "model_module": "@jupyter-widgets/controls",
          "model_name": "DescriptionStyleModel",
          "model_module_version": "1.5.0",
          "state": {
            "_model_module": "@jupyter-widgets/controls",
            "_model_module_version": "1.5.0",
            "_model_name": "DescriptionStyleModel",
            "_view_count": null,
            "_view_module": "@jupyter-widgets/base",
            "_view_module_version": "1.2.0",
            "_view_name": "StyleView",
            "description_width": ""
          }
        },
        "15054c97139f4687860e5f1638f697fe": {
          "model_module": "@jupyter-widgets/base",
          "model_name": "LayoutModel",
          "model_module_version": "1.2.0",
          "state": {
            "_model_module": "@jupyter-widgets/base",
            "_model_module_version": "1.2.0",
            "_model_name": "LayoutModel",
            "_view_count": null,
            "_view_module": "@jupyter-widgets/base",
            "_view_module_version": "1.2.0",
            "_view_name": "LayoutView",
            "align_content": null,
            "align_items": null,
            "align_self": null,
            "border": null,
            "bottom": null,
            "display": null,
            "flex": null,
            "flex_flow": null,
            "grid_area": null,
            "grid_auto_columns": null,
            "grid_auto_flow": null,
            "grid_auto_rows": null,
            "grid_column": null,
            "grid_gap": null,
            "grid_row": null,
            "grid_template_areas": null,
            "grid_template_columns": null,
            "grid_template_rows": null,
            "height": null,
            "justify_content": null,
            "justify_items": null,
            "left": null,
            "margin": null,
            "max_height": null,
            "max_width": null,
            "min_height": null,
            "min_width": null,
            "object_fit": null,
            "object_position": null,
            "order": null,
            "overflow": null,
            "overflow_x": null,
            "overflow_y": null,
            "padding": null,
            "right": null,
            "top": null,
            "visibility": null,
            "width": null
          }
        },
        "83f57bdd75c6426583276a402e0d3965": {
          "model_module": "@jupyter-widgets/controls",
          "model_name": "ProgressStyleModel",
          "model_module_version": "1.5.0",
          "state": {
            "_model_module": "@jupyter-widgets/controls",
            "_model_module_version": "1.5.0",
            "_model_name": "ProgressStyleModel",
            "_view_count": null,
            "_view_module": "@jupyter-widgets/base",
            "_view_module_version": "1.2.0",
            "_view_name": "StyleView",
            "bar_color": null,
            "description_width": ""
          }
        },
        "6e7946b62c6e4720924ea1891c7f7446": {
          "model_module": "@jupyter-widgets/base",
          "model_name": "LayoutModel",
          "model_module_version": "1.2.0",
          "state": {
            "_model_module": "@jupyter-widgets/base",
            "_model_module_version": "1.2.0",
            "_model_name": "LayoutModel",
            "_view_count": null,
            "_view_module": "@jupyter-widgets/base",
            "_view_module_version": "1.2.0",
            "_view_name": "LayoutView",
            "align_content": null,
            "align_items": null,
            "align_self": null,
            "border": null,
            "bottom": null,
            "display": null,
            "flex": null,
            "flex_flow": null,
            "grid_area": null,
            "grid_auto_columns": null,
            "grid_auto_flow": null,
            "grid_auto_rows": null,
            "grid_column": null,
            "grid_gap": null,
            "grid_row": null,
            "grid_template_areas": null,
            "grid_template_columns": null,
            "grid_template_rows": null,
            "height": null,
            "justify_content": null,
            "justify_items": null,
            "left": null,
            "margin": null,
            "max_height": null,
            "max_width": null,
            "min_height": null,
            "min_width": null,
            "object_fit": null,
            "object_position": null,
            "order": null,
            "overflow": null,
            "overflow_x": null,
            "overflow_y": null,
            "padding": null,
            "right": null,
            "top": null,
            "visibility": null,
            "width": null
          }
        },
        "4806828acb5b47c191e2256fd7fb61ad": {
          "model_module": "@jupyter-widgets/controls",
          "model_name": "DescriptionStyleModel",
          "model_module_version": "1.5.0",
          "state": {
            "_model_module": "@jupyter-widgets/controls",
            "_model_module_version": "1.5.0",
            "_model_name": "DescriptionStyleModel",
            "_view_count": null,
            "_view_module": "@jupyter-widgets/base",
            "_view_module_version": "1.2.0",
            "_view_name": "StyleView",
            "description_width": ""
          }
        },
        "11fa7b7e6bfe4a3083d080f5d5b49d1c": {
          "model_module": "@jupyter-widgets/controls",
          "model_name": "HBoxModel",
          "model_module_version": "1.5.0",
          "state": {
            "_dom_classes": [],
            "_model_module": "@jupyter-widgets/controls",
            "_model_module_version": "1.5.0",
            "_model_name": "HBoxModel",
            "_view_count": null,
            "_view_module": "@jupyter-widgets/controls",
            "_view_module_version": "1.5.0",
            "_view_name": "HBoxView",
            "box_style": "",
            "children": [
              "IPY_MODEL_00571d0c2fb24998bc6619b1f4452410",
              "IPY_MODEL_8dc80cc3613148ed80bbab5b70ab0578",
              "IPY_MODEL_2eadc93faa56437bb4b1f31f4f8d6142"
            ],
            "layout": "IPY_MODEL_9d158b3a3a2c4e559bdba26d6c7bba4e"
          }
        },
        "00571d0c2fb24998bc6619b1f4452410": {
          "model_module": "@jupyter-widgets/controls",
          "model_name": "HTMLModel",
          "model_module_version": "1.5.0",
          "state": {
            "_dom_classes": [],
            "_model_module": "@jupyter-widgets/controls",
            "_model_module_version": "1.5.0",
            "_model_name": "HTMLModel",
            "_view_count": null,
            "_view_module": "@jupyter-widgets/controls",
            "_view_module_version": "1.5.0",
            "_view_name": "HTMLView",
            "description": "",
            "description_tooltip": null,
            "layout": "IPY_MODEL_c645d89077d14aa797eab473f65c1e82",
            "placeholder": "​",
            "style": "IPY_MODEL_5acd1f72a6874bd19be456607116406f",
            "value": "Downloading: 100%"
          }
        },
        "8dc80cc3613148ed80bbab5b70ab0578": {
          "model_module": "@jupyter-widgets/controls",
          "model_name": "FloatProgressModel",
          "model_module_version": "1.5.0",
          "state": {
            "_dom_classes": [],
            "_model_module": "@jupyter-widgets/controls",
            "_model_module_version": "1.5.0",
            "_model_name": "FloatProgressModel",
            "_view_count": null,
            "_view_module": "@jupyter-widgets/controls",
            "_view_module_version": "1.5.0",
            "_view_name": "ProgressView",
            "bar_style": "success",
            "description": "",
            "description_tooltip": null,
            "layout": "IPY_MODEL_142a99e315a24afeb897745f590847a4",
            "max": 898822,
            "min": 0,
            "orientation": "horizontal",
            "style": "IPY_MODEL_5d22b81b78cf49a581b8587b5ad69cad",
            "value": 898822
          }
        },
        "2eadc93faa56437bb4b1f31f4f8d6142": {
          "model_module": "@jupyter-widgets/controls",
          "model_name": "HTMLModel",
          "model_module_version": "1.5.0",
          "state": {
            "_dom_classes": [],
            "_model_module": "@jupyter-widgets/controls",
            "_model_module_version": "1.5.0",
            "_model_name": "HTMLModel",
            "_view_count": null,
            "_view_module": "@jupyter-widgets/controls",
            "_view_module_version": "1.5.0",
            "_view_name": "HTMLView",
            "description": "",
            "description_tooltip": null,
            "layout": "IPY_MODEL_d4c9a719267b4ced8ebc1309d7182ace",
            "placeholder": "​",
            "style": "IPY_MODEL_46d67e24655845a19cc94d72c26079f4",
            "value": " 899k/899k [00:00&lt;00:00, 759kB/s]"
          }
        },
        "9d158b3a3a2c4e559bdba26d6c7bba4e": {
          "model_module": "@jupyter-widgets/base",
          "model_name": "LayoutModel",
          "model_module_version": "1.2.0",
          "state": {
            "_model_module": "@jupyter-widgets/base",
            "_model_module_version": "1.2.0",
            "_model_name": "LayoutModel",
            "_view_count": null,
            "_view_module": "@jupyter-widgets/base",
            "_view_module_version": "1.2.0",
            "_view_name": "LayoutView",
            "align_content": null,
            "align_items": null,
            "align_self": null,
            "border": null,
            "bottom": null,
            "display": null,
            "flex": null,
            "flex_flow": null,
            "grid_area": null,
            "grid_auto_columns": null,
            "grid_auto_flow": null,
            "grid_auto_rows": null,
            "grid_column": null,
            "grid_gap": null,
            "grid_row": null,
            "grid_template_areas": null,
            "grid_template_columns": null,
            "grid_template_rows": null,
            "height": null,
            "justify_content": null,
            "justify_items": null,
            "left": null,
            "margin": null,
            "max_height": null,
            "max_width": null,
            "min_height": null,
            "min_width": null,
            "object_fit": null,
            "object_position": null,
            "order": null,
            "overflow": null,
            "overflow_x": null,
            "overflow_y": null,
            "padding": null,
            "right": null,
            "top": null,
            "visibility": null,
            "width": null
          }
        },
        "c645d89077d14aa797eab473f65c1e82": {
          "model_module": "@jupyter-widgets/base",
          "model_name": "LayoutModel",
          "model_module_version": "1.2.0",
          "state": {
            "_model_module": "@jupyter-widgets/base",
            "_model_module_version": "1.2.0",
            "_model_name": "LayoutModel",
            "_view_count": null,
            "_view_module": "@jupyter-widgets/base",
            "_view_module_version": "1.2.0",
            "_view_name": "LayoutView",
            "align_content": null,
            "align_items": null,
            "align_self": null,
            "border": null,
            "bottom": null,
            "display": null,
            "flex": null,
            "flex_flow": null,
            "grid_area": null,
            "grid_auto_columns": null,
            "grid_auto_flow": null,
            "grid_auto_rows": null,
            "grid_column": null,
            "grid_gap": null,
            "grid_row": null,
            "grid_template_areas": null,
            "grid_template_columns": null,
            "grid_template_rows": null,
            "height": null,
            "justify_content": null,
            "justify_items": null,
            "left": null,
            "margin": null,
            "max_height": null,
            "max_width": null,
            "min_height": null,
            "min_width": null,
            "object_fit": null,
            "object_position": null,
            "order": null,
            "overflow": null,
            "overflow_x": null,
            "overflow_y": null,
            "padding": null,
            "right": null,
            "top": null,
            "visibility": null,
            "width": null
          }
        },
        "5acd1f72a6874bd19be456607116406f": {
          "model_module": "@jupyter-widgets/controls",
          "model_name": "DescriptionStyleModel",
          "model_module_version": "1.5.0",
          "state": {
            "_model_module": "@jupyter-widgets/controls",
            "_model_module_version": "1.5.0",
            "_model_name": "DescriptionStyleModel",
            "_view_count": null,
            "_view_module": "@jupyter-widgets/base",
            "_view_module_version": "1.2.0",
            "_view_name": "StyleView",
            "description_width": ""
          }
        },
        "142a99e315a24afeb897745f590847a4": {
          "model_module": "@jupyter-widgets/base",
          "model_name": "LayoutModel",
          "model_module_version": "1.2.0",
          "state": {
            "_model_module": "@jupyter-widgets/base",
            "_model_module_version": "1.2.0",
            "_model_name": "LayoutModel",
            "_view_count": null,
            "_view_module": "@jupyter-widgets/base",
            "_view_module_version": "1.2.0",
            "_view_name": "LayoutView",
            "align_content": null,
            "align_items": null,
            "align_self": null,
            "border": null,
            "bottom": null,
            "display": null,
            "flex": null,
            "flex_flow": null,
            "grid_area": null,
            "grid_auto_columns": null,
            "grid_auto_flow": null,
            "grid_auto_rows": null,
            "grid_column": null,
            "grid_gap": null,
            "grid_row": null,
            "grid_template_areas": null,
            "grid_template_columns": null,
            "grid_template_rows": null,
            "height": null,
            "justify_content": null,
            "justify_items": null,
            "left": null,
            "margin": null,
            "max_height": null,
            "max_width": null,
            "min_height": null,
            "min_width": null,
            "object_fit": null,
            "object_position": null,
            "order": null,
            "overflow": null,
            "overflow_x": null,
            "overflow_y": null,
            "padding": null,
            "right": null,
            "top": null,
            "visibility": null,
            "width": null
          }
        },
        "5d22b81b78cf49a581b8587b5ad69cad": {
          "model_module": "@jupyter-widgets/controls",
          "model_name": "ProgressStyleModel",
          "model_module_version": "1.5.0",
          "state": {
            "_model_module": "@jupyter-widgets/controls",
            "_model_module_version": "1.5.0",
            "_model_name": "ProgressStyleModel",
            "_view_count": null,
            "_view_module": "@jupyter-widgets/base",
            "_view_module_version": "1.2.0",
            "_view_name": "StyleView",
            "bar_color": null,
            "description_width": ""
          }
        },
        "d4c9a719267b4ced8ebc1309d7182ace": {
          "model_module": "@jupyter-widgets/base",
          "model_name": "LayoutModel",
          "model_module_version": "1.2.0",
          "state": {
            "_model_module": "@jupyter-widgets/base",
            "_model_module_version": "1.2.0",
            "_model_name": "LayoutModel",
            "_view_count": null,
            "_view_module": "@jupyter-widgets/base",
            "_view_module_version": "1.2.0",
            "_view_name": "LayoutView",
            "align_content": null,
            "align_items": null,
            "align_self": null,
            "border": null,
            "bottom": null,
            "display": null,
            "flex": null,
            "flex_flow": null,
            "grid_area": null,
            "grid_auto_columns": null,
            "grid_auto_flow": null,
            "grid_auto_rows": null,
            "grid_column": null,
            "grid_gap": null,
            "grid_row": null,
            "grid_template_areas": null,
            "grid_template_columns": null,
            "grid_template_rows": null,
            "height": null,
            "justify_content": null,
            "justify_items": null,
            "left": null,
            "margin": null,
            "max_height": null,
            "max_width": null,
            "min_height": null,
            "min_width": null,
            "object_fit": null,
            "object_position": null,
            "order": null,
            "overflow": null,
            "overflow_x": null,
            "overflow_y": null,
            "padding": null,
            "right": null,
            "top": null,
            "visibility": null,
            "width": null
          }
        },
        "46d67e24655845a19cc94d72c26079f4": {
          "model_module": "@jupyter-widgets/controls",
          "model_name": "DescriptionStyleModel",
          "model_module_version": "1.5.0",
          "state": {
            "_model_module": "@jupyter-widgets/controls",
            "_model_module_version": "1.5.0",
            "_model_name": "DescriptionStyleModel",
            "_view_count": null,
            "_view_module": "@jupyter-widgets/base",
            "_view_module_version": "1.2.0",
            "_view_name": "StyleView",
            "description_width": ""
          }
        },
        "1903da9429d64e2796e0111e22dc554b": {
          "model_module": "@jupyter-widgets/controls",
          "model_name": "HBoxModel",
          "model_module_version": "1.5.0",
          "state": {
            "_dom_classes": [],
            "_model_module": "@jupyter-widgets/controls",
            "_model_module_version": "1.5.0",
            "_model_name": "HBoxModel",
            "_view_count": null,
            "_view_module": "@jupyter-widgets/controls",
            "_view_module_version": "1.5.0",
            "_view_name": "HBoxView",
            "box_style": "",
            "children": [
              "IPY_MODEL_29d89dc7ae794252b68c705de0a20e28",
              "IPY_MODEL_aa3c0bd5bc6846c1bd91b1dc00f2b2d6",
              "IPY_MODEL_711c30084f074865975e554fd2fa34dd"
            ],
            "layout": "IPY_MODEL_721e28cb45ed446c86583e880e8c16a0"
          }
        },
        "29d89dc7ae794252b68c705de0a20e28": {
          "model_module": "@jupyter-widgets/controls",
          "model_name": "HTMLModel",
          "model_module_version": "1.5.0",
          "state": {
            "_dom_classes": [],
            "_model_module": "@jupyter-widgets/controls",
            "_model_module_version": "1.5.0",
            "_model_name": "HTMLModel",
            "_view_count": null,
            "_view_module": "@jupyter-widgets/controls",
            "_view_module_version": "1.5.0",
            "_view_name": "HTMLView",
            "description": "",
            "description_tooltip": null,
            "layout": "IPY_MODEL_887fecc2d38e4328b94816a35800892d",
            "placeholder": "​",
            "style": "IPY_MODEL_fa985449b799426483dbff4060a52b4f",
            "value": "Downloading: 100%"
          }
        },
        "aa3c0bd5bc6846c1bd91b1dc00f2b2d6": {
          "model_module": "@jupyter-widgets/controls",
          "model_name": "FloatProgressModel",
          "model_module_version": "1.5.0",
          "state": {
            "_dom_classes": [],
            "_model_module": "@jupyter-widgets/controls",
            "_model_module_version": "1.5.0",
            "_model_name": "FloatProgressModel",
            "_view_count": null,
            "_view_module": "@jupyter-widgets/controls",
            "_view_module_version": "1.5.0",
            "_view_name": "ProgressView",
            "bar_style": "success",
            "description": "",
            "description_tooltip": null,
            "layout": "IPY_MODEL_eedeef923f6b48c0903c06ff07a140ac",
            "max": 456318,
            "min": 0,
            "orientation": "horizontal",
            "style": "IPY_MODEL_0e73f77d7d294592849250746f1047c5",
            "value": 456318
          }
        },
        "711c30084f074865975e554fd2fa34dd": {
          "model_module": "@jupyter-widgets/controls",
          "model_name": "HTMLModel",
          "model_module_version": "1.5.0",
          "state": {
            "_dom_classes": [],
            "_model_module": "@jupyter-widgets/controls",
            "_model_module_version": "1.5.0",
            "_model_name": "HTMLModel",
            "_view_count": null,
            "_view_module": "@jupyter-widgets/controls",
            "_view_module_version": "1.5.0",
            "_view_name": "HTMLView",
            "description": "",
            "description_tooltip": null,
            "layout": "IPY_MODEL_9ba2a354c2e942f5943ad1fc350e34f6",
            "placeholder": "​",
            "style": "IPY_MODEL_474f1ef5922c4edc88fc0f9838f40c3a",
            "value": " 456k/456k [00:00&lt;00:00, 667kB/s]"
          }
        },
        "721e28cb45ed446c86583e880e8c16a0": {
          "model_module": "@jupyter-widgets/base",
          "model_name": "LayoutModel",
          "model_module_version": "1.2.0",
          "state": {
            "_model_module": "@jupyter-widgets/base",
            "_model_module_version": "1.2.0",
            "_model_name": "LayoutModel",
            "_view_count": null,
            "_view_module": "@jupyter-widgets/base",
            "_view_module_version": "1.2.0",
            "_view_name": "LayoutView",
            "align_content": null,
            "align_items": null,
            "align_self": null,
            "border": null,
            "bottom": null,
            "display": null,
            "flex": null,
            "flex_flow": null,
            "grid_area": null,
            "grid_auto_columns": null,
            "grid_auto_flow": null,
            "grid_auto_rows": null,
            "grid_column": null,
            "grid_gap": null,
            "grid_row": null,
            "grid_template_areas": null,
            "grid_template_columns": null,
            "grid_template_rows": null,
            "height": null,
            "justify_content": null,
            "justify_items": null,
            "left": null,
            "margin": null,
            "max_height": null,
            "max_width": null,
            "min_height": null,
            "min_width": null,
            "object_fit": null,
            "object_position": null,
            "order": null,
            "overflow": null,
            "overflow_x": null,
            "overflow_y": null,
            "padding": null,
            "right": null,
            "top": null,
            "visibility": null,
            "width": null
          }
        },
        "887fecc2d38e4328b94816a35800892d": {
          "model_module": "@jupyter-widgets/base",
          "model_name": "LayoutModel",
          "model_module_version": "1.2.0",
          "state": {
            "_model_module": "@jupyter-widgets/base",
            "_model_module_version": "1.2.0",
            "_model_name": "LayoutModel",
            "_view_count": null,
            "_view_module": "@jupyter-widgets/base",
            "_view_module_version": "1.2.0",
            "_view_name": "LayoutView",
            "align_content": null,
            "align_items": null,
            "align_self": null,
            "border": null,
            "bottom": null,
            "display": null,
            "flex": null,
            "flex_flow": null,
            "grid_area": null,
            "grid_auto_columns": null,
            "grid_auto_flow": null,
            "grid_auto_rows": null,
            "grid_column": null,
            "grid_gap": null,
            "grid_row": null,
            "grid_template_areas": null,
            "grid_template_columns": null,
            "grid_template_rows": null,
            "height": null,
            "justify_content": null,
            "justify_items": null,
            "left": null,
            "margin": null,
            "max_height": null,
            "max_width": null,
            "min_height": null,
            "min_width": null,
            "object_fit": null,
            "object_position": null,
            "order": null,
            "overflow": null,
            "overflow_x": null,
            "overflow_y": null,
            "padding": null,
            "right": null,
            "top": null,
            "visibility": null,
            "width": null
          }
        },
        "fa985449b799426483dbff4060a52b4f": {
          "model_module": "@jupyter-widgets/controls",
          "model_name": "DescriptionStyleModel",
          "model_module_version": "1.5.0",
          "state": {
            "_model_module": "@jupyter-widgets/controls",
            "_model_module_version": "1.5.0",
            "_model_name": "DescriptionStyleModel",
            "_view_count": null,
            "_view_module": "@jupyter-widgets/base",
            "_view_module_version": "1.2.0",
            "_view_name": "StyleView",
            "description_width": ""
          }
        },
        "eedeef923f6b48c0903c06ff07a140ac": {
          "model_module": "@jupyter-widgets/base",
          "model_name": "LayoutModel",
          "model_module_version": "1.2.0",
          "state": {
            "_model_module": "@jupyter-widgets/base",
            "_model_module_version": "1.2.0",
            "_model_name": "LayoutModel",
            "_view_count": null,
            "_view_module": "@jupyter-widgets/base",
            "_view_module_version": "1.2.0",
            "_view_name": "LayoutView",
            "align_content": null,
            "align_items": null,
            "align_self": null,
            "border": null,
            "bottom": null,
            "display": null,
            "flex": null,
            "flex_flow": null,
            "grid_area": null,
            "grid_auto_columns": null,
            "grid_auto_flow": null,
            "grid_auto_rows": null,
            "grid_column": null,
            "grid_gap": null,
            "grid_row": null,
            "grid_template_areas": null,
            "grid_template_columns": null,
            "grid_template_rows": null,
            "height": null,
            "justify_content": null,
            "justify_items": null,
            "left": null,
            "margin": null,
            "max_height": null,
            "max_width": null,
            "min_height": null,
            "min_width": null,
            "object_fit": null,
            "object_position": null,
            "order": null,
            "overflow": null,
            "overflow_x": null,
            "overflow_y": null,
            "padding": null,
            "right": null,
            "top": null,
            "visibility": null,
            "width": null
          }
        },
        "0e73f77d7d294592849250746f1047c5": {
          "model_module": "@jupyter-widgets/controls",
          "model_name": "ProgressStyleModel",
          "model_module_version": "1.5.0",
          "state": {
            "_model_module": "@jupyter-widgets/controls",
            "_model_module_version": "1.5.0",
            "_model_name": "ProgressStyleModel",
            "_view_count": null,
            "_view_module": "@jupyter-widgets/base",
            "_view_module_version": "1.2.0",
            "_view_name": "StyleView",
            "bar_color": null,
            "description_width": ""
          }
        },
        "9ba2a354c2e942f5943ad1fc350e34f6": {
          "model_module": "@jupyter-widgets/base",
          "model_name": "LayoutModel",
          "model_module_version": "1.2.0",
          "state": {
            "_model_module": "@jupyter-widgets/base",
            "_model_module_version": "1.2.0",
            "_model_name": "LayoutModel",
            "_view_count": null,
            "_view_module": "@jupyter-widgets/base",
            "_view_module_version": "1.2.0",
            "_view_name": "LayoutView",
            "align_content": null,
            "align_items": null,
            "align_self": null,
            "border": null,
            "bottom": null,
            "display": null,
            "flex": null,
            "flex_flow": null,
            "grid_area": null,
            "grid_auto_columns": null,
            "grid_auto_flow": null,
            "grid_auto_rows": null,
            "grid_column": null,
            "grid_gap": null,
            "grid_row": null,
            "grid_template_areas": null,
            "grid_template_columns": null,
            "grid_template_rows": null,
            "height": null,
            "justify_content": null,
            "justify_items": null,
            "left": null,
            "margin": null,
            "max_height": null,
            "max_width": null,
            "min_height": null,
            "min_width": null,
            "object_fit": null,
            "object_position": null,
            "order": null,
            "overflow": null,
            "overflow_x": null,
            "overflow_y": null,
            "padding": null,
            "right": null,
            "top": null,
            "visibility": null,
            "width": null
          }
        },
        "474f1ef5922c4edc88fc0f9838f40c3a": {
          "model_module": "@jupyter-widgets/controls",
          "model_name": "DescriptionStyleModel",
          "model_module_version": "1.5.0",
          "state": {
            "_model_module": "@jupyter-widgets/controls",
            "_model_module_version": "1.5.0",
            "_model_name": "DescriptionStyleModel",
            "_view_count": null,
            "_view_module": "@jupyter-widgets/base",
            "_view_module_version": "1.2.0",
            "_view_name": "StyleView",
            "description_width": ""
          }
        },
        "8d58a6d8365847e2ae314e8a84664fa5": {
          "model_module": "@jupyter-widgets/controls",
          "model_name": "HBoxModel",
          "model_module_version": "1.5.0",
          "state": {
            "_dom_classes": [],
            "_model_module": "@jupyter-widgets/controls",
            "_model_module_version": "1.5.0",
            "_model_name": "HBoxModel",
            "_view_count": null,
            "_view_module": "@jupyter-widgets/controls",
            "_view_module_version": "1.5.0",
            "_view_name": "HBoxView",
            "box_style": "",
            "children": [
              "IPY_MODEL_a30369bce211429fb0cf8465aaae36b9",
              "IPY_MODEL_864d8f55bd5441a5b74b6df759ccef86",
              "IPY_MODEL_0f43473f23b14a13b9ecfe08237c0716"
            ],
            "layout": "IPY_MODEL_d953068338094d5e9304b74db47c8f38"
          }
        },
        "a30369bce211429fb0cf8465aaae36b9": {
          "model_module": "@jupyter-widgets/controls",
          "model_name": "HTMLModel",
          "model_module_version": "1.5.0",
          "state": {
            "_dom_classes": [],
            "_model_module": "@jupyter-widgets/controls",
            "_model_module_version": "1.5.0",
            "_model_name": "HTMLModel",
            "_view_count": null,
            "_view_module": "@jupyter-widgets/controls",
            "_view_module_version": "1.5.0",
            "_view_name": "HTMLView",
            "description": "",
            "description_tooltip": null,
            "layout": "IPY_MODEL_e1fa31b4fe49488d9bd9157e0ce92b3f",
            "placeholder": "​",
            "style": "IPY_MODEL_553ab7f7bb04420f8f341bc9f5d267cb",
            "value": "Downloading: 100%"
          }
        },
        "864d8f55bd5441a5b74b6df759ccef86": {
          "model_module": "@jupyter-widgets/controls",
          "model_name": "FloatProgressModel",
          "model_module_version": "1.5.0",
          "state": {
            "_dom_classes": [],
            "_model_module": "@jupyter-widgets/controls",
            "_model_module_version": "1.5.0",
            "_model_name": "FloatProgressModel",
            "_view_count": null,
            "_view_module": "@jupyter-widgets/controls",
            "_view_module_version": "1.5.0",
            "_view_name": "ProgressView",
            "bar_style": "success",
            "description": "",
            "description_tooltip": null,
            "layout": "IPY_MODEL_2d29b2b9685a492aad36175f8df9638b",
            "max": 772,
            "min": 0,
            "orientation": "horizontal",
            "style": "IPY_MODEL_c174f078c77e43a4b9501211982aa9f2",
            "value": 772
          }
        },
        "0f43473f23b14a13b9ecfe08237c0716": {
          "model_module": "@jupyter-widgets/controls",
          "model_name": "HTMLModel",
          "model_module_version": "1.5.0",
          "state": {
            "_dom_classes": [],
            "_model_module": "@jupyter-widgets/controls",
            "_model_module_version": "1.5.0",
            "_model_name": "HTMLModel",
            "_view_count": null,
            "_view_module": "@jupyter-widgets/controls",
            "_view_module_version": "1.5.0",
            "_view_name": "HTMLView",
            "description": "",
            "description_tooltip": null,
            "layout": "IPY_MODEL_76c2d1ab39b54ff8af46ae3ff91b6e3e",
            "placeholder": "​",
            "style": "IPY_MODEL_c711b8e2175c42e39b9a57dc013a35d8",
            "value": " 772/772 [00:00&lt;00:00, 25.0kB/s]"
          }
        },
        "d953068338094d5e9304b74db47c8f38": {
          "model_module": "@jupyter-widgets/base",
          "model_name": "LayoutModel",
          "model_module_version": "1.2.0",
          "state": {
            "_model_module": "@jupyter-widgets/base",
            "_model_module_version": "1.2.0",
            "_model_name": "LayoutModel",
            "_view_count": null,
            "_view_module": "@jupyter-widgets/base",
            "_view_module_version": "1.2.0",
            "_view_name": "LayoutView",
            "align_content": null,
            "align_items": null,
            "align_self": null,
            "border": null,
            "bottom": null,
            "display": null,
            "flex": null,
            "flex_flow": null,
            "grid_area": null,
            "grid_auto_columns": null,
            "grid_auto_flow": null,
            "grid_auto_rows": null,
            "grid_column": null,
            "grid_gap": null,
            "grid_row": null,
            "grid_template_areas": null,
            "grid_template_columns": null,
            "grid_template_rows": null,
            "height": null,
            "justify_content": null,
            "justify_items": null,
            "left": null,
            "margin": null,
            "max_height": null,
            "max_width": null,
            "min_height": null,
            "min_width": null,
            "object_fit": null,
            "object_position": null,
            "order": null,
            "overflow": null,
            "overflow_x": null,
            "overflow_y": null,
            "padding": null,
            "right": null,
            "top": null,
            "visibility": null,
            "width": null
          }
        },
        "e1fa31b4fe49488d9bd9157e0ce92b3f": {
          "model_module": "@jupyter-widgets/base",
          "model_name": "LayoutModel",
          "model_module_version": "1.2.0",
          "state": {
            "_model_module": "@jupyter-widgets/base",
            "_model_module_version": "1.2.0",
            "_model_name": "LayoutModel",
            "_view_count": null,
            "_view_module": "@jupyter-widgets/base",
            "_view_module_version": "1.2.0",
            "_view_name": "LayoutView",
            "align_content": null,
            "align_items": null,
            "align_self": null,
            "border": null,
            "bottom": null,
            "display": null,
            "flex": null,
            "flex_flow": null,
            "grid_area": null,
            "grid_auto_columns": null,
            "grid_auto_flow": null,
            "grid_auto_rows": null,
            "grid_column": null,
            "grid_gap": null,
            "grid_row": null,
            "grid_template_areas": null,
            "grid_template_columns": null,
            "grid_template_rows": null,
            "height": null,
            "justify_content": null,
            "justify_items": null,
            "left": null,
            "margin": null,
            "max_height": null,
            "max_width": null,
            "min_height": null,
            "min_width": null,
            "object_fit": null,
            "object_position": null,
            "order": null,
            "overflow": null,
            "overflow_x": null,
            "overflow_y": null,
            "padding": null,
            "right": null,
            "top": null,
            "visibility": null,
            "width": null
          }
        },
        "553ab7f7bb04420f8f341bc9f5d267cb": {
          "model_module": "@jupyter-widgets/controls",
          "model_name": "DescriptionStyleModel",
          "model_module_version": "1.5.0",
          "state": {
            "_model_module": "@jupyter-widgets/controls",
            "_model_module_version": "1.5.0",
            "_model_name": "DescriptionStyleModel",
            "_view_count": null,
            "_view_module": "@jupyter-widgets/base",
            "_view_module_version": "1.2.0",
            "_view_name": "StyleView",
            "description_width": ""
          }
        },
        "2d29b2b9685a492aad36175f8df9638b": {
          "model_module": "@jupyter-widgets/base",
          "model_name": "LayoutModel",
          "model_module_version": "1.2.0",
          "state": {
            "_model_module": "@jupyter-widgets/base",
            "_model_module_version": "1.2.0",
            "_model_name": "LayoutModel",
            "_view_count": null,
            "_view_module": "@jupyter-widgets/base",
            "_view_module_version": "1.2.0",
            "_view_name": "LayoutView",
            "align_content": null,
            "align_items": null,
            "align_self": null,
            "border": null,
            "bottom": null,
            "display": null,
            "flex": null,
            "flex_flow": null,
            "grid_area": null,
            "grid_auto_columns": null,
            "grid_auto_flow": null,
            "grid_auto_rows": null,
            "grid_column": null,
            "grid_gap": null,
            "grid_row": null,
            "grid_template_areas": null,
            "grid_template_columns": null,
            "grid_template_rows": null,
            "height": null,
            "justify_content": null,
            "justify_items": null,
            "left": null,
            "margin": null,
            "max_height": null,
            "max_width": null,
            "min_height": null,
            "min_width": null,
            "object_fit": null,
            "object_position": null,
            "order": null,
            "overflow": null,
            "overflow_x": null,
            "overflow_y": null,
            "padding": null,
            "right": null,
            "top": null,
            "visibility": null,
            "width": null
          }
        },
        "c174f078c77e43a4b9501211982aa9f2": {
          "model_module": "@jupyter-widgets/controls",
          "model_name": "ProgressStyleModel",
          "model_module_version": "1.5.0",
          "state": {
            "_model_module": "@jupyter-widgets/controls",
            "_model_module_version": "1.5.0",
            "_model_name": "ProgressStyleModel",
            "_view_count": null,
            "_view_module": "@jupyter-widgets/base",
            "_view_module_version": "1.2.0",
            "_view_name": "StyleView",
            "bar_color": null,
            "description_width": ""
          }
        },
        "76c2d1ab39b54ff8af46ae3ff91b6e3e": {
          "model_module": "@jupyter-widgets/base",
          "model_name": "LayoutModel",
          "model_module_version": "1.2.0",
          "state": {
            "_model_module": "@jupyter-widgets/base",
            "_model_module_version": "1.2.0",
            "_model_name": "LayoutModel",
            "_view_count": null,
            "_view_module": "@jupyter-widgets/base",
            "_view_module_version": "1.2.0",
            "_view_name": "LayoutView",
            "align_content": null,
            "align_items": null,
            "align_self": null,
            "border": null,
            "bottom": null,
            "display": null,
            "flex": null,
            "flex_flow": null,
            "grid_area": null,
            "grid_auto_columns": null,
            "grid_auto_flow": null,
            "grid_auto_rows": null,
            "grid_column": null,
            "grid_gap": null,
            "grid_row": null,
            "grid_template_areas": null,
            "grid_template_columns": null,
            "grid_template_rows": null,
            "height": null,
            "justify_content": null,
            "justify_items": null,
            "left": null,
            "margin": null,
            "max_height": null,
            "max_width": null,
            "min_height": null,
            "min_width": null,
            "object_fit": null,
            "object_position": null,
            "order": null,
            "overflow": null,
            "overflow_x": null,
            "overflow_y": null,
            "padding": null,
            "right": null,
            "top": null,
            "visibility": null,
            "width": null
          }
        },
        "c711b8e2175c42e39b9a57dc013a35d8": {
          "model_module": "@jupyter-widgets/controls",
          "model_name": "DescriptionStyleModel",
          "model_module_version": "1.5.0",
          "state": {
            "_model_module": "@jupyter-widgets/controls",
            "_model_module_version": "1.5.0",
            "_model_name": "DescriptionStyleModel",
            "_view_count": null,
            "_view_module": "@jupyter-widgets/base",
            "_view_module_version": "1.2.0",
            "_view_name": "StyleView",
            "description_width": ""
          }
        },
        "cd46a035aab1428fa62304bbbdb41db0": {
          "model_module": "@jupyter-widgets/controls",
          "model_name": "HBoxModel",
          "model_module_version": "1.5.0",
          "state": {
            "_dom_classes": [],
            "_model_module": "@jupyter-widgets/controls",
            "_model_module_version": "1.5.0",
            "_model_name": "HBoxModel",
            "_view_count": null,
            "_view_module": "@jupyter-widgets/controls",
            "_view_module_version": "1.5.0",
            "_view_name": "HBoxView",
            "box_style": "",
            "children": [
              "IPY_MODEL_c9b352e1c5ab41cbb48fb92863d30fc6",
              "IPY_MODEL_baf30faff91245509289cbf07dc493ca",
              "IPY_MODEL_222503c363994181a0acba35f3796189"
            ],
            "layout": "IPY_MODEL_02771048bdba4b9ca7e4beb54cddce51"
          }
        },
        "c9b352e1c5ab41cbb48fb92863d30fc6": {
          "model_module": "@jupyter-widgets/controls",
          "model_name": "HTMLModel",
          "model_module_version": "1.5.0",
          "state": {
            "_dom_classes": [],
            "_model_module": "@jupyter-widgets/controls",
            "_model_module_version": "1.5.0",
            "_model_name": "HTMLModel",
            "_view_count": null,
            "_view_module": "@jupyter-widgets/controls",
            "_view_module_version": "1.5.0",
            "_view_name": "HTMLView",
            "description": "",
            "description_tooltip": null,
            "layout": "IPY_MODEL_168c28ecdb464612b19b76895f482f24",
            "placeholder": "​",
            "style": "IPY_MODEL_760e3f32a806436e8fdba37e724da04b",
            "value": "Downloading: 100%"
          }
        },
        "baf30faff91245509289cbf07dc493ca": {
          "model_module": "@jupyter-widgets/controls",
          "model_name": "FloatProgressModel",
          "model_module_version": "1.5.0",
          "state": {
            "_dom_classes": [],
            "_model_module": "@jupyter-widgets/controls",
            "_model_module_version": "1.5.0",
            "_model_name": "FloatProgressModel",
            "_view_count": null,
            "_view_module": "@jupyter-widgets/controls",
            "_view_module_version": "1.5.0",
            "_view_name": "ProgressView",
            "bar_style": "success",
            "description": "",
            "description_tooltip": null,
            "layout": "IPY_MODEL_438767b0624a4bbcaa878698f24d42da",
            "max": 27,
            "min": 0,
            "orientation": "horizontal",
            "style": "IPY_MODEL_0784bc89fab44835a46ab5fd5a2eb4b0",
            "value": 27
          }
        },
        "222503c363994181a0acba35f3796189": {
          "model_module": "@jupyter-widgets/controls",
          "model_name": "HTMLModel",
          "model_module_version": "1.5.0",
          "state": {
            "_dom_classes": [],
            "_model_module": "@jupyter-widgets/controls",
            "_model_module_version": "1.5.0",
            "_model_name": "HTMLModel",
            "_view_count": null,
            "_view_module": "@jupyter-widgets/controls",
            "_view_module_version": "1.5.0",
            "_view_name": "HTMLView",
            "description": "",
            "description_tooltip": null,
            "layout": "IPY_MODEL_37cf66db9ace43f7be5ed09c1265bdbe",
            "placeholder": "​",
            "style": "IPY_MODEL_53f5e38915d946549c0a75cd8a8d60cd",
            "value": " 27.0/27.0 [00:00&lt;00:00, 814B/s]"
          }
        },
        "02771048bdba4b9ca7e4beb54cddce51": {
          "model_module": "@jupyter-widgets/base",
          "model_name": "LayoutModel",
          "model_module_version": "1.2.0",
          "state": {
            "_model_module": "@jupyter-widgets/base",
            "_model_module_version": "1.2.0",
            "_model_name": "LayoutModel",
            "_view_count": null,
            "_view_module": "@jupyter-widgets/base",
            "_view_module_version": "1.2.0",
            "_view_name": "LayoutView",
            "align_content": null,
            "align_items": null,
            "align_self": null,
            "border": null,
            "bottom": null,
            "display": null,
            "flex": null,
            "flex_flow": null,
            "grid_area": null,
            "grid_auto_columns": null,
            "grid_auto_flow": null,
            "grid_auto_rows": null,
            "grid_column": null,
            "grid_gap": null,
            "grid_row": null,
            "grid_template_areas": null,
            "grid_template_columns": null,
            "grid_template_rows": null,
            "height": null,
            "justify_content": null,
            "justify_items": null,
            "left": null,
            "margin": null,
            "max_height": null,
            "max_width": null,
            "min_height": null,
            "min_width": null,
            "object_fit": null,
            "object_position": null,
            "order": null,
            "overflow": null,
            "overflow_x": null,
            "overflow_y": null,
            "padding": null,
            "right": null,
            "top": null,
            "visibility": null,
            "width": null
          }
        },
        "168c28ecdb464612b19b76895f482f24": {
          "model_module": "@jupyter-widgets/base",
          "model_name": "LayoutModel",
          "model_module_version": "1.2.0",
          "state": {
            "_model_module": "@jupyter-widgets/base",
            "_model_module_version": "1.2.0",
            "_model_name": "LayoutModel",
            "_view_count": null,
            "_view_module": "@jupyter-widgets/base",
            "_view_module_version": "1.2.0",
            "_view_name": "LayoutView",
            "align_content": null,
            "align_items": null,
            "align_self": null,
            "border": null,
            "bottom": null,
            "display": null,
            "flex": null,
            "flex_flow": null,
            "grid_area": null,
            "grid_auto_columns": null,
            "grid_auto_flow": null,
            "grid_auto_rows": null,
            "grid_column": null,
            "grid_gap": null,
            "grid_row": null,
            "grid_template_areas": null,
            "grid_template_columns": null,
            "grid_template_rows": null,
            "height": null,
            "justify_content": null,
            "justify_items": null,
            "left": null,
            "margin": null,
            "max_height": null,
            "max_width": null,
            "min_height": null,
            "min_width": null,
            "object_fit": null,
            "object_position": null,
            "order": null,
            "overflow": null,
            "overflow_x": null,
            "overflow_y": null,
            "padding": null,
            "right": null,
            "top": null,
            "visibility": null,
            "width": null
          }
        },
        "760e3f32a806436e8fdba37e724da04b": {
          "model_module": "@jupyter-widgets/controls",
          "model_name": "DescriptionStyleModel",
          "model_module_version": "1.5.0",
          "state": {
            "_model_module": "@jupyter-widgets/controls",
            "_model_module_version": "1.5.0",
            "_model_name": "DescriptionStyleModel",
            "_view_count": null,
            "_view_module": "@jupyter-widgets/base",
            "_view_module_version": "1.2.0",
            "_view_name": "StyleView",
            "description_width": ""
          }
        },
        "438767b0624a4bbcaa878698f24d42da": {
          "model_module": "@jupyter-widgets/base",
          "model_name": "LayoutModel",
          "model_module_version": "1.2.0",
          "state": {
            "_model_module": "@jupyter-widgets/base",
            "_model_module_version": "1.2.0",
            "_model_name": "LayoutModel",
            "_view_count": null,
            "_view_module": "@jupyter-widgets/base",
            "_view_module_version": "1.2.0",
            "_view_name": "LayoutView",
            "align_content": null,
            "align_items": null,
            "align_self": null,
            "border": null,
            "bottom": null,
            "display": null,
            "flex": null,
            "flex_flow": null,
            "grid_area": null,
            "grid_auto_columns": null,
            "grid_auto_flow": null,
            "grid_auto_rows": null,
            "grid_column": null,
            "grid_gap": null,
            "grid_row": null,
            "grid_template_areas": null,
            "grid_template_columns": null,
            "grid_template_rows": null,
            "height": null,
            "justify_content": null,
            "justify_items": null,
            "left": null,
            "margin": null,
            "max_height": null,
            "max_width": null,
            "min_height": null,
            "min_width": null,
            "object_fit": null,
            "object_position": null,
            "order": null,
            "overflow": null,
            "overflow_x": null,
            "overflow_y": null,
            "padding": null,
            "right": null,
            "top": null,
            "visibility": null,
            "width": null
          }
        },
        "0784bc89fab44835a46ab5fd5a2eb4b0": {
          "model_module": "@jupyter-widgets/controls",
          "model_name": "ProgressStyleModel",
          "model_module_version": "1.5.0",
          "state": {
            "_model_module": "@jupyter-widgets/controls",
            "_model_module_version": "1.5.0",
            "_model_name": "ProgressStyleModel",
            "_view_count": null,
            "_view_module": "@jupyter-widgets/base",
            "_view_module_version": "1.2.0",
            "_view_name": "StyleView",
            "bar_color": null,
            "description_width": ""
          }
        },
        "37cf66db9ace43f7be5ed09c1265bdbe": {
          "model_module": "@jupyter-widgets/base",
          "model_name": "LayoutModel",
          "model_module_version": "1.2.0",
          "state": {
            "_model_module": "@jupyter-widgets/base",
            "_model_module_version": "1.2.0",
            "_model_name": "LayoutModel",
            "_view_count": null,
            "_view_module": "@jupyter-widgets/base",
            "_view_module_version": "1.2.0",
            "_view_name": "LayoutView",
            "align_content": null,
            "align_items": null,
            "align_self": null,
            "border": null,
            "bottom": null,
            "display": null,
            "flex": null,
            "flex_flow": null,
            "grid_area": null,
            "grid_auto_columns": null,
            "grid_auto_flow": null,
            "grid_auto_rows": null,
            "grid_column": null,
            "grid_gap": null,
            "grid_row": null,
            "grid_template_areas": null,
            "grid_template_columns": null,
            "grid_template_rows": null,
            "height": null,
            "justify_content": null,
            "justify_items": null,
            "left": null,
            "margin": null,
            "max_height": null,
            "max_width": null,
            "min_height": null,
            "min_width": null,
            "object_fit": null,
            "object_position": null,
            "order": null,
            "overflow": null,
            "overflow_x": null,
            "overflow_y": null,
            "padding": null,
            "right": null,
            "top": null,
            "visibility": null,
            "width": null
          }
        },
        "53f5e38915d946549c0a75cd8a8d60cd": {
          "model_module": "@jupyter-widgets/controls",
          "model_name": "DescriptionStyleModel",
          "model_module_version": "1.5.0",
          "state": {
            "_model_module": "@jupyter-widgets/controls",
            "_model_module_version": "1.5.0",
            "_model_name": "DescriptionStyleModel",
            "_view_count": null,
            "_view_module": "@jupyter-widgets/base",
            "_view_module_version": "1.2.0",
            "_view_name": "StyleView",
            "description_width": ""
          }
        },
        "bd25240a4ad2470caec4a07a77c77de5": {
          "model_module": "@jupyter-widgets/controls",
          "model_name": "HBoxModel",
          "model_module_version": "1.5.0",
          "state": {
            "_dom_classes": [],
            "_model_module": "@jupyter-widgets/controls",
            "_model_module_version": "1.5.0",
            "_model_name": "HBoxModel",
            "_view_count": null,
            "_view_module": "@jupyter-widgets/controls",
            "_view_module_version": "1.5.0",
            "_view_name": "HBoxView",
            "box_style": "",
            "children": [
              "IPY_MODEL_3b775af4cc7940458dbcc02adb598395",
              "IPY_MODEL_13bf6a20a4e54fe3b754967ac6a5b3e9",
              "IPY_MODEL_72121d2cd303471fa24e4973a9b07804"
            ],
            "layout": "IPY_MODEL_13acb91892b84232a23e5b4118848267"
          }
        },
        "3b775af4cc7940458dbcc02adb598395": {
          "model_module": "@jupyter-widgets/controls",
          "model_name": "HTMLModel",
          "model_module_version": "1.5.0",
          "state": {
            "_dom_classes": [],
            "_model_module": "@jupyter-widgets/controls",
            "_model_module_version": "1.5.0",
            "_model_name": "HTMLModel",
            "_view_count": null,
            "_view_module": "@jupyter-widgets/controls",
            "_view_module_version": "1.5.0",
            "_view_name": "HTMLView",
            "description": "",
            "description_tooltip": null,
            "layout": "IPY_MODEL_635fdf2858434ee0bd572f928d8f44a4",
            "placeholder": "​",
            "style": "IPY_MODEL_ce462ad8aeb8430c9e8bc91f086c9beb",
            "value": ""
          }
        },
        "13bf6a20a4e54fe3b754967ac6a5b3e9": {
          "model_module": "@jupyter-widgets/controls",
          "model_name": "FloatProgressModel",
          "model_module_version": "1.5.0",
          "state": {
            "_dom_classes": [],
            "_model_module": "@jupyter-widgets/controls",
            "_model_module_version": "1.5.0",
            "_model_name": "FloatProgressModel",
            "_view_count": null,
            "_view_module": "@jupyter-widgets/controls",
            "_view_module_version": "1.5.0",
            "_view_name": "ProgressView",
            "bar_style": "success",
            "description": "",
            "description_tooltip": null,
            "layout": "IPY_MODEL_edabffa7dc8b469b9f501920e4ef91a9",
            "max": 1,
            "min": 0,
            "orientation": "horizontal",
            "style": "IPY_MODEL_ba9305ad86f74c49b12cc7ce834adbcf",
            "value": 1
          }
        },
        "72121d2cd303471fa24e4973a9b07804": {
          "model_module": "@jupyter-widgets/controls",
          "model_name": "HTMLModel",
          "model_module_version": "1.5.0",
          "state": {
            "_dom_classes": [],
            "_model_module": "@jupyter-widgets/controls",
            "_model_module_version": "1.5.0",
            "_model_name": "HTMLModel",
            "_view_count": null,
            "_view_module": "@jupyter-widgets/controls",
            "_view_module_version": "1.5.0",
            "_view_name": "HTMLView",
            "description": "",
            "description_tooltip": null,
            "layout": "IPY_MODEL_cce59ea9890c415f99afc4dad702e3c7",
            "placeholder": "​",
            "style": "IPY_MODEL_fe6df3db9c264d2b9a8a45c196907636",
            "value": " 500/? [00:05&lt;00:00, 138.32it/s]"
          }
        },
        "13acb91892b84232a23e5b4118848267": {
          "model_module": "@jupyter-widgets/base",
          "model_name": "LayoutModel",
          "model_module_version": "1.2.0",
          "state": {
            "_model_module": "@jupyter-widgets/base",
            "_model_module_version": "1.2.0",
            "_model_name": "LayoutModel",
            "_view_count": null,
            "_view_module": "@jupyter-widgets/base",
            "_view_module_version": "1.2.0",
            "_view_name": "LayoutView",
            "align_content": null,
            "align_items": null,
            "align_self": null,
            "border": null,
            "bottom": null,
            "display": null,
            "flex": null,
            "flex_flow": null,
            "grid_area": null,
            "grid_auto_columns": null,
            "grid_auto_flow": null,
            "grid_auto_rows": null,
            "grid_column": null,
            "grid_gap": null,
            "grid_row": null,
            "grid_template_areas": null,
            "grid_template_columns": null,
            "grid_template_rows": null,
            "height": null,
            "justify_content": null,
            "justify_items": null,
            "left": null,
            "margin": null,
            "max_height": null,
            "max_width": null,
            "min_height": null,
            "min_width": null,
            "object_fit": null,
            "object_position": null,
            "order": null,
            "overflow": null,
            "overflow_x": null,
            "overflow_y": null,
            "padding": null,
            "right": null,
            "top": null,
            "visibility": null,
            "width": null
          }
        },
        "635fdf2858434ee0bd572f928d8f44a4": {
          "model_module": "@jupyter-widgets/base",
          "model_name": "LayoutModel",
          "model_module_version": "1.2.0",
          "state": {
            "_model_module": "@jupyter-widgets/base",
            "_model_module_version": "1.2.0",
            "_model_name": "LayoutModel",
            "_view_count": null,
            "_view_module": "@jupyter-widgets/base",
            "_view_module_version": "1.2.0",
            "_view_name": "LayoutView",
            "align_content": null,
            "align_items": null,
            "align_self": null,
            "border": null,
            "bottom": null,
            "display": null,
            "flex": null,
            "flex_flow": null,
            "grid_area": null,
            "grid_auto_columns": null,
            "grid_auto_flow": null,
            "grid_auto_rows": null,
            "grid_column": null,
            "grid_gap": null,
            "grid_row": null,
            "grid_template_areas": null,
            "grid_template_columns": null,
            "grid_template_rows": null,
            "height": null,
            "justify_content": null,
            "justify_items": null,
            "left": null,
            "margin": null,
            "max_height": null,
            "max_width": null,
            "min_height": null,
            "min_width": null,
            "object_fit": null,
            "object_position": null,
            "order": null,
            "overflow": null,
            "overflow_x": null,
            "overflow_y": null,
            "padding": null,
            "right": null,
            "top": null,
            "visibility": null,
            "width": null
          }
        },
        "ce462ad8aeb8430c9e8bc91f086c9beb": {
          "model_module": "@jupyter-widgets/controls",
          "model_name": "DescriptionStyleModel",
          "model_module_version": "1.5.0",
          "state": {
            "_model_module": "@jupyter-widgets/controls",
            "_model_module_version": "1.5.0",
            "_model_name": "DescriptionStyleModel",
            "_view_count": null,
            "_view_module": "@jupyter-widgets/base",
            "_view_module_version": "1.2.0",
            "_view_name": "StyleView",
            "description_width": ""
          }
        },
        "edabffa7dc8b469b9f501920e4ef91a9": {
          "model_module": "@jupyter-widgets/base",
          "model_name": "LayoutModel",
          "model_module_version": "1.2.0",
          "state": {
            "_model_module": "@jupyter-widgets/base",
            "_model_module_version": "1.2.0",
            "_model_name": "LayoutModel",
            "_view_count": null,
            "_view_module": "@jupyter-widgets/base",
            "_view_module_version": "1.2.0",
            "_view_name": "LayoutView",
            "align_content": null,
            "align_items": null,
            "align_self": null,
            "border": null,
            "bottom": null,
            "display": null,
            "flex": null,
            "flex_flow": null,
            "grid_area": null,
            "grid_auto_columns": null,
            "grid_auto_flow": null,
            "grid_auto_rows": null,
            "grid_column": null,
            "grid_gap": null,
            "grid_row": null,
            "grid_template_areas": null,
            "grid_template_columns": null,
            "grid_template_rows": null,
            "height": null,
            "justify_content": null,
            "justify_items": null,
            "left": null,
            "margin": null,
            "max_height": null,
            "max_width": null,
            "min_height": null,
            "min_width": null,
            "object_fit": null,
            "object_position": null,
            "order": null,
            "overflow": null,
            "overflow_x": null,
            "overflow_y": null,
            "padding": null,
            "right": null,
            "top": null,
            "visibility": null,
            "width": "20px"
          }
        },
        "ba9305ad86f74c49b12cc7ce834adbcf": {
          "model_module": "@jupyter-widgets/controls",
          "model_name": "ProgressStyleModel",
          "model_module_version": "1.5.0",
          "state": {
            "_model_module": "@jupyter-widgets/controls",
            "_model_module_version": "1.5.0",
            "_model_name": "ProgressStyleModel",
            "_view_count": null,
            "_view_module": "@jupyter-widgets/base",
            "_view_module_version": "1.2.0",
            "_view_name": "StyleView",
            "bar_color": null,
            "description_width": ""
          }
        },
        "cce59ea9890c415f99afc4dad702e3c7": {
          "model_module": "@jupyter-widgets/base",
          "model_name": "LayoutModel",
          "model_module_version": "1.2.0",
          "state": {
            "_model_module": "@jupyter-widgets/base",
            "_model_module_version": "1.2.0",
            "_model_name": "LayoutModel",
            "_view_count": null,
            "_view_module": "@jupyter-widgets/base",
            "_view_module_version": "1.2.0",
            "_view_name": "LayoutView",
            "align_content": null,
            "align_items": null,
            "align_self": null,
            "border": null,
            "bottom": null,
            "display": null,
            "flex": null,
            "flex_flow": null,
            "grid_area": null,
            "grid_auto_columns": null,
            "grid_auto_flow": null,
            "grid_auto_rows": null,
            "grid_column": null,
            "grid_gap": null,
            "grid_row": null,
            "grid_template_areas": null,
            "grid_template_columns": null,
            "grid_template_rows": null,
            "height": null,
            "justify_content": null,
            "justify_items": null,
            "left": null,
            "margin": null,
            "max_height": null,
            "max_width": null,
            "min_height": null,
            "min_width": null,
            "object_fit": null,
            "object_position": null,
            "order": null,
            "overflow": null,
            "overflow_x": null,
            "overflow_y": null,
            "padding": null,
            "right": null,
            "top": null,
            "visibility": null,
            "width": null
          }
        },
        "fe6df3db9c264d2b9a8a45c196907636": {
          "model_module": "@jupyter-widgets/controls",
          "model_name": "DescriptionStyleModel",
          "model_module_version": "1.5.0",
          "state": {
            "_model_module": "@jupyter-widgets/controls",
            "_model_module_version": "1.5.0",
            "_model_name": "DescriptionStyleModel",
            "_view_count": null,
            "_view_module": "@jupyter-widgets/base",
            "_view_module_version": "1.2.0",
            "_view_name": "StyleView",
            "description_width": ""
          }
        },
        "2a0d9e28ffba48848e8175a309f67ae4": {
          "model_module": "@jupyter-widgets/controls",
          "model_name": "HBoxModel",
          "model_module_version": "1.5.0",
          "state": {
            "_dom_classes": [],
            "_model_module": "@jupyter-widgets/controls",
            "_model_module_version": "1.5.0",
            "_model_name": "HBoxModel",
            "_view_count": null,
            "_view_module": "@jupyter-widgets/controls",
            "_view_module_version": "1.5.0",
            "_view_name": "HBoxView",
            "box_style": "",
            "children": [
              "IPY_MODEL_50991e1ea8f54d46bdb09990357a3297",
              "IPY_MODEL_b2b0004420a84ce6b9ae95395b419461",
              "IPY_MODEL_9876a718f4a54a26b9d0ca164a4a4cc6"
            ],
            "layout": "IPY_MODEL_6118a66a63b147a1b9706d736720a79b"
          }
        },
        "50991e1ea8f54d46bdb09990357a3297": {
          "model_module": "@jupyter-widgets/controls",
          "model_name": "HTMLModel",
          "model_module_version": "1.5.0",
          "state": {
            "_dom_classes": [],
            "_model_module": "@jupyter-widgets/controls",
            "_model_module_version": "1.5.0",
            "_model_name": "HTMLModel",
            "_view_count": null,
            "_view_module": "@jupyter-widgets/controls",
            "_view_module_version": "1.5.0",
            "_view_name": "HTMLView",
            "description": "",
            "description_tooltip": null,
            "layout": "IPY_MODEL_5f45001f65a64b398f7003f64ee605c5",
            "placeholder": "​",
            "style": "IPY_MODEL_295dee7d958242959683970ecb43fef0",
            "value": "Downloading builder script: "
          }
        },
        "b2b0004420a84ce6b9ae95395b419461": {
          "model_module": "@jupyter-widgets/controls",
          "model_name": "FloatProgressModel",
          "model_module_version": "1.5.0",
          "state": {
            "_dom_classes": [],
            "_model_module": "@jupyter-widgets/controls",
            "_model_module_version": "1.5.0",
            "_model_name": "FloatProgressModel",
            "_view_count": null,
            "_view_module": "@jupyter-widgets/controls",
            "_view_module_version": "1.5.0",
            "_view_name": "ProgressView",
            "bar_style": "success",
            "description": "",
            "description_tooltip": null,
            "layout": "IPY_MODEL_916079a3bc294b57826e2248b728ae43",
            "max": 2160,
            "min": 0,
            "orientation": "horizontal",
            "style": "IPY_MODEL_099ebf5859ab4c088366a4adf954008d",
            "value": 2160
          }
        },
        "9876a718f4a54a26b9d0ca164a4a4cc6": {
          "model_module": "@jupyter-widgets/controls",
          "model_name": "HTMLModel",
          "model_module_version": "1.5.0",
          "state": {
            "_dom_classes": [],
            "_model_module": "@jupyter-widgets/controls",
            "_model_module_version": "1.5.0",
            "_model_name": "HTMLModel",
            "_view_count": null,
            "_view_module": "@jupyter-widgets/controls",
            "_view_module_version": "1.5.0",
            "_view_name": "HTMLView",
            "description": "",
            "description_tooltip": null,
            "layout": "IPY_MODEL_4b1af99e3d6a45dc8a62c402f02d3319",
            "placeholder": "​",
            "style": "IPY_MODEL_530dfba5968548afa84bd6eed20cbadb",
            "value": " 5.60k/? [00:00&lt;00:00, 139kB/s]"
          }
        },
        "6118a66a63b147a1b9706d736720a79b": {
          "model_module": "@jupyter-widgets/base",
          "model_name": "LayoutModel",
          "model_module_version": "1.2.0",
          "state": {
            "_model_module": "@jupyter-widgets/base",
            "_model_module_version": "1.2.0",
            "_model_name": "LayoutModel",
            "_view_count": null,
            "_view_module": "@jupyter-widgets/base",
            "_view_module_version": "1.2.0",
            "_view_name": "LayoutView",
            "align_content": null,
            "align_items": null,
            "align_self": null,
            "border": null,
            "bottom": null,
            "display": null,
            "flex": null,
            "flex_flow": null,
            "grid_area": null,
            "grid_auto_columns": null,
            "grid_auto_flow": null,
            "grid_auto_rows": null,
            "grid_column": null,
            "grid_gap": null,
            "grid_row": null,
            "grid_template_areas": null,
            "grid_template_columns": null,
            "grid_template_rows": null,
            "height": null,
            "justify_content": null,
            "justify_items": null,
            "left": null,
            "margin": null,
            "max_height": null,
            "max_width": null,
            "min_height": null,
            "min_width": null,
            "object_fit": null,
            "object_position": null,
            "order": null,
            "overflow": null,
            "overflow_x": null,
            "overflow_y": null,
            "padding": null,
            "right": null,
            "top": null,
            "visibility": null,
            "width": null
          }
        },
        "5f45001f65a64b398f7003f64ee605c5": {
          "model_module": "@jupyter-widgets/base",
          "model_name": "LayoutModel",
          "model_module_version": "1.2.0",
          "state": {
            "_model_module": "@jupyter-widgets/base",
            "_model_module_version": "1.2.0",
            "_model_name": "LayoutModel",
            "_view_count": null,
            "_view_module": "@jupyter-widgets/base",
            "_view_module_version": "1.2.0",
            "_view_name": "LayoutView",
            "align_content": null,
            "align_items": null,
            "align_self": null,
            "border": null,
            "bottom": null,
            "display": null,
            "flex": null,
            "flex_flow": null,
            "grid_area": null,
            "grid_auto_columns": null,
            "grid_auto_flow": null,
            "grid_auto_rows": null,
            "grid_column": null,
            "grid_gap": null,
            "grid_row": null,
            "grid_template_areas": null,
            "grid_template_columns": null,
            "grid_template_rows": null,
            "height": null,
            "justify_content": null,
            "justify_items": null,
            "left": null,
            "margin": null,
            "max_height": null,
            "max_width": null,
            "min_height": null,
            "min_width": null,
            "object_fit": null,
            "object_position": null,
            "order": null,
            "overflow": null,
            "overflow_x": null,
            "overflow_y": null,
            "padding": null,
            "right": null,
            "top": null,
            "visibility": null,
            "width": null
          }
        },
        "295dee7d958242959683970ecb43fef0": {
          "model_module": "@jupyter-widgets/controls",
          "model_name": "DescriptionStyleModel",
          "model_module_version": "1.5.0",
          "state": {
            "_model_module": "@jupyter-widgets/controls",
            "_model_module_version": "1.5.0",
            "_model_name": "DescriptionStyleModel",
            "_view_count": null,
            "_view_module": "@jupyter-widgets/base",
            "_view_module_version": "1.2.0",
            "_view_name": "StyleView",
            "description_width": ""
          }
        },
        "916079a3bc294b57826e2248b728ae43": {
          "model_module": "@jupyter-widgets/base",
          "model_name": "LayoutModel",
          "model_module_version": "1.2.0",
          "state": {
            "_model_module": "@jupyter-widgets/base",
            "_model_module_version": "1.2.0",
            "_model_name": "LayoutModel",
            "_view_count": null,
            "_view_module": "@jupyter-widgets/base",
            "_view_module_version": "1.2.0",
            "_view_name": "LayoutView",
            "align_content": null,
            "align_items": null,
            "align_self": null,
            "border": null,
            "bottom": null,
            "display": null,
            "flex": null,
            "flex_flow": null,
            "grid_area": null,
            "grid_auto_columns": null,
            "grid_auto_flow": null,
            "grid_auto_rows": null,
            "grid_column": null,
            "grid_gap": null,
            "grid_row": null,
            "grid_template_areas": null,
            "grid_template_columns": null,
            "grid_template_rows": null,
            "height": null,
            "justify_content": null,
            "justify_items": null,
            "left": null,
            "margin": null,
            "max_height": null,
            "max_width": null,
            "min_height": null,
            "min_width": null,
            "object_fit": null,
            "object_position": null,
            "order": null,
            "overflow": null,
            "overflow_x": null,
            "overflow_y": null,
            "padding": null,
            "right": null,
            "top": null,
            "visibility": null,
            "width": null
          }
        },
        "099ebf5859ab4c088366a4adf954008d": {
          "model_module": "@jupyter-widgets/controls",
          "model_name": "ProgressStyleModel",
          "model_module_version": "1.5.0",
          "state": {
            "_model_module": "@jupyter-widgets/controls",
            "_model_module_version": "1.5.0",
            "_model_name": "ProgressStyleModel",
            "_view_count": null,
            "_view_module": "@jupyter-widgets/base",
            "_view_module_version": "1.2.0",
            "_view_name": "StyleView",
            "bar_color": null,
            "description_width": ""
          }
        },
        "4b1af99e3d6a45dc8a62c402f02d3319": {
          "model_module": "@jupyter-widgets/base",
          "model_name": "LayoutModel",
          "model_module_version": "1.2.0",
          "state": {
            "_model_module": "@jupyter-widgets/base",
            "_model_module_version": "1.2.0",
            "_model_name": "LayoutModel",
            "_view_count": null,
            "_view_module": "@jupyter-widgets/base",
            "_view_module_version": "1.2.0",
            "_view_name": "LayoutView",
            "align_content": null,
            "align_items": null,
            "align_self": null,
            "border": null,
            "bottom": null,
            "display": null,
            "flex": null,
            "flex_flow": null,
            "grid_area": null,
            "grid_auto_columns": null,
            "grid_auto_flow": null,
            "grid_auto_rows": null,
            "grid_column": null,
            "grid_gap": null,
            "grid_row": null,
            "grid_template_areas": null,
            "grid_template_columns": null,
            "grid_template_rows": null,
            "height": null,
            "justify_content": null,
            "justify_items": null,
            "left": null,
            "margin": null,
            "max_height": null,
            "max_width": null,
            "min_height": null,
            "min_width": null,
            "object_fit": null,
            "object_position": null,
            "order": null,
            "overflow": null,
            "overflow_x": null,
            "overflow_y": null,
            "padding": null,
            "right": null,
            "top": null,
            "visibility": null,
            "width": null
          }
        },
        "530dfba5968548afa84bd6eed20cbadb": {
          "model_module": "@jupyter-widgets/controls",
          "model_name": "DescriptionStyleModel",
          "model_module_version": "1.5.0",
          "state": {
            "_model_module": "@jupyter-widgets/controls",
            "_model_module_version": "1.5.0",
            "_model_name": "DescriptionStyleModel",
            "_view_count": null,
            "_view_module": "@jupyter-widgets/base",
            "_view_module_version": "1.2.0",
            "_view_name": "StyleView",
            "description_width": ""
          }
        },
        "1b25c2402be643a9908ccfec64aaa866": {
          "model_module": "@jupyter-widgets/controls",
          "model_name": "HBoxModel",
          "model_module_version": "1.5.0",
          "state": {
            "_dom_classes": [],
            "_model_module": "@jupyter-widgets/controls",
            "_model_module_version": "1.5.0",
            "_model_name": "HBoxModel",
            "_view_count": null,
            "_view_module": "@jupyter-widgets/controls",
            "_view_module_version": "1.5.0",
            "_view_name": "HBoxView",
            "box_style": "",
            "children": [
              "IPY_MODEL_d4102a6722584a129e362aebb4e91fad",
              "IPY_MODEL_ba704bf50f024074b94f2b6fa32b3820",
              "IPY_MODEL_3f680d632e564553925759e86569e59c"
            ],
            "layout": "IPY_MODEL_876bd79a2bc04a818c4404a79e6c35a9"
          }
        },
        "d4102a6722584a129e362aebb4e91fad": {
          "model_module": "@jupyter-widgets/controls",
          "model_name": "HTMLModel",
          "model_module_version": "1.5.0",
          "state": {
            "_dom_classes": [],
            "_model_module": "@jupyter-widgets/controls",
            "_model_module_version": "1.5.0",
            "_model_name": "HTMLModel",
            "_view_count": null,
            "_view_module": "@jupyter-widgets/controls",
            "_view_module_version": "1.5.0",
            "_view_name": "HTMLView",
            "description": "",
            "description_tooltip": null,
            "layout": "IPY_MODEL_c304feb639c54f4e8aff6621c6a5e5c1",
            "placeholder": "​",
            "style": "IPY_MODEL_6851155932a14b52b83f4522f7f80166",
            "value": "Downloading: 100%"
          }
        },
        "ba704bf50f024074b94f2b6fa32b3820": {
          "model_module": "@jupyter-widgets/controls",
          "model_name": "FloatProgressModel",
          "model_module_version": "1.5.0",
          "state": {
            "_dom_classes": [],
            "_model_module": "@jupyter-widgets/controls",
            "_model_module_version": "1.5.0",
            "_model_name": "FloatProgressModel",
            "_view_count": null,
            "_view_module": "@jupyter-widgets/controls",
            "_view_module_version": "1.5.0",
            "_view_name": "ProgressView",
            "bar_style": "success",
            "description": "",
            "description_tooltip": null,
            "layout": "IPY_MODEL_aee818c4a08a4b7fb197624208399591",
            "max": 647693783,
            "min": 0,
            "orientation": "horizontal",
            "style": "IPY_MODEL_924b1862e6134c33bed943d38646e8ce",
            "value": 647693783
          }
        },
        "3f680d632e564553925759e86569e59c": {
          "model_module": "@jupyter-widgets/controls",
          "model_name": "HTMLModel",
          "model_module_version": "1.5.0",
          "state": {
            "_dom_classes": [],
            "_model_module": "@jupyter-widgets/controls",
            "_model_module_version": "1.5.0",
            "_model_name": "HTMLModel",
            "_view_count": null,
            "_view_module": "@jupyter-widgets/controls",
            "_view_module_version": "1.5.0",
            "_view_name": "HTMLView",
            "description": "",
            "description_tooltip": null,
            "layout": "IPY_MODEL_a1c13f31e91e4e92a7099c8d3caeb4a7",
            "placeholder": "​",
            "style": "IPY_MODEL_ea646d42a78f427abdb5728da4c87883",
            "value": " 648M/648M [00:15&lt;00:00, 42.1MB/s]"
          }
        },
        "876bd79a2bc04a818c4404a79e6c35a9": {
          "model_module": "@jupyter-widgets/base",
          "model_name": "LayoutModel",
          "model_module_version": "1.2.0",
          "state": {
            "_model_module": "@jupyter-widgets/base",
            "_model_module_version": "1.2.0",
            "_model_name": "LayoutModel",
            "_view_count": null,
            "_view_module": "@jupyter-widgets/base",
            "_view_module_version": "1.2.0",
            "_view_name": "LayoutView",
            "align_content": null,
            "align_items": null,
            "align_self": null,
            "border": null,
            "bottom": null,
            "display": null,
            "flex": null,
            "flex_flow": null,
            "grid_area": null,
            "grid_auto_columns": null,
            "grid_auto_flow": null,
            "grid_auto_rows": null,
            "grid_column": null,
            "grid_gap": null,
            "grid_row": null,
            "grid_template_areas": null,
            "grid_template_columns": null,
            "grid_template_rows": null,
            "height": null,
            "justify_content": null,
            "justify_items": null,
            "left": null,
            "margin": null,
            "max_height": null,
            "max_width": null,
            "min_height": null,
            "min_width": null,
            "object_fit": null,
            "object_position": null,
            "order": null,
            "overflow": null,
            "overflow_x": null,
            "overflow_y": null,
            "padding": null,
            "right": null,
            "top": null,
            "visibility": null,
            "width": null
          }
        },
        "c304feb639c54f4e8aff6621c6a5e5c1": {
          "model_module": "@jupyter-widgets/base",
          "model_name": "LayoutModel",
          "model_module_version": "1.2.0",
          "state": {
            "_model_module": "@jupyter-widgets/base",
            "_model_module_version": "1.2.0",
            "_model_name": "LayoutModel",
            "_view_count": null,
            "_view_module": "@jupyter-widgets/base",
            "_view_module_version": "1.2.0",
            "_view_name": "LayoutView",
            "align_content": null,
            "align_items": null,
            "align_self": null,
            "border": null,
            "bottom": null,
            "display": null,
            "flex": null,
            "flex_flow": null,
            "grid_area": null,
            "grid_auto_columns": null,
            "grid_auto_flow": null,
            "grid_auto_rows": null,
            "grid_column": null,
            "grid_gap": null,
            "grid_row": null,
            "grid_template_areas": null,
            "grid_template_columns": null,
            "grid_template_rows": null,
            "height": null,
            "justify_content": null,
            "justify_items": null,
            "left": null,
            "margin": null,
            "max_height": null,
            "max_width": null,
            "min_height": null,
            "min_width": null,
            "object_fit": null,
            "object_position": null,
            "order": null,
            "overflow": null,
            "overflow_x": null,
            "overflow_y": null,
            "padding": null,
            "right": null,
            "top": null,
            "visibility": null,
            "width": null
          }
        },
        "6851155932a14b52b83f4522f7f80166": {
          "model_module": "@jupyter-widgets/controls",
          "model_name": "DescriptionStyleModel",
          "model_module_version": "1.5.0",
          "state": {
            "_model_module": "@jupyter-widgets/controls",
            "_model_module_version": "1.5.0",
            "_model_name": "DescriptionStyleModel",
            "_view_count": null,
            "_view_module": "@jupyter-widgets/base",
            "_view_module_version": "1.2.0",
            "_view_name": "StyleView",
            "description_width": ""
          }
        },
        "aee818c4a08a4b7fb197624208399591": {
          "model_module": "@jupyter-widgets/base",
          "model_name": "LayoutModel",
          "model_module_version": "1.2.0",
          "state": {
            "_model_module": "@jupyter-widgets/base",
            "_model_module_version": "1.2.0",
            "_model_name": "LayoutModel",
            "_view_count": null,
            "_view_module": "@jupyter-widgets/base",
            "_view_module_version": "1.2.0",
            "_view_name": "LayoutView",
            "align_content": null,
            "align_items": null,
            "align_self": null,
            "border": null,
            "bottom": null,
            "display": null,
            "flex": null,
            "flex_flow": null,
            "grid_area": null,
            "grid_auto_columns": null,
            "grid_auto_flow": null,
            "grid_auto_rows": null,
            "grid_column": null,
            "grid_gap": null,
            "grid_row": null,
            "grid_template_areas": null,
            "grid_template_columns": null,
            "grid_template_rows": null,
            "height": null,
            "justify_content": null,
            "justify_items": null,
            "left": null,
            "margin": null,
            "max_height": null,
            "max_width": null,
            "min_height": null,
            "min_width": null,
            "object_fit": null,
            "object_position": null,
            "order": null,
            "overflow": null,
            "overflow_x": null,
            "overflow_y": null,
            "padding": null,
            "right": null,
            "top": null,
            "visibility": null,
            "width": null
          }
        },
        "924b1862e6134c33bed943d38646e8ce": {
          "model_module": "@jupyter-widgets/controls",
          "model_name": "ProgressStyleModel",
          "model_module_version": "1.5.0",
          "state": {
            "_model_module": "@jupyter-widgets/controls",
            "_model_module_version": "1.5.0",
            "_model_name": "ProgressStyleModel",
            "_view_count": null,
            "_view_module": "@jupyter-widgets/base",
            "_view_module_version": "1.2.0",
            "_view_name": "StyleView",
            "bar_color": null,
            "description_width": ""
          }
        },
        "a1c13f31e91e4e92a7099c8d3caeb4a7": {
          "model_module": "@jupyter-widgets/base",
          "model_name": "LayoutModel",
          "model_module_version": "1.2.0",
          "state": {
            "_model_module": "@jupyter-widgets/base",
            "_model_module_version": "1.2.0",
            "_model_name": "LayoutModel",
            "_view_count": null,
            "_view_module": "@jupyter-widgets/base",
            "_view_module_version": "1.2.0",
            "_view_name": "LayoutView",
            "align_content": null,
            "align_items": null,
            "align_self": null,
            "border": null,
            "bottom": null,
            "display": null,
            "flex": null,
            "flex_flow": null,
            "grid_area": null,
            "grid_auto_columns": null,
            "grid_auto_flow": null,
            "grid_auto_rows": null,
            "grid_column": null,
            "grid_gap": null,
            "grid_row": null,
            "grid_template_areas": null,
            "grid_template_columns": null,
            "grid_template_rows": null,
            "height": null,
            "justify_content": null,
            "justify_items": null,
            "left": null,
            "margin": null,
            "max_height": null,
            "max_width": null,
            "min_height": null,
            "min_width": null,
            "object_fit": null,
            "object_position": null,
            "order": null,
            "overflow": null,
            "overflow_x": null,
            "overflow_y": null,
            "padding": null,
            "right": null,
            "top": null,
            "visibility": null,
            "width": null
          }
        },
        "ea646d42a78f427abdb5728da4c87883": {
          "model_module": "@jupyter-widgets/controls",
          "model_name": "DescriptionStyleModel",
          "model_module_version": "1.5.0",
          "state": {
            "_model_module": "@jupyter-widgets/controls",
            "_model_module_version": "1.5.0",
            "_model_name": "DescriptionStyleModel",
            "_view_count": null,
            "_view_module": "@jupyter-widgets/base",
            "_view_module_version": "1.2.0",
            "_view_name": "StyleView",
            "description_width": ""
          }
        },
        "09f433347bc743f68f94b52c1e328fc2": {
          "model_module": "@jupyter-widgets/controls",
          "model_name": "HBoxModel",
          "model_module_version": "1.5.0",
          "state": {
            "_dom_classes": [],
            "_model_module": "@jupyter-widgets/controls",
            "_model_module_version": "1.5.0",
            "_model_name": "HBoxModel",
            "_view_count": null,
            "_view_module": "@jupyter-widgets/controls",
            "_view_module_version": "1.5.0",
            "_view_name": "HBoxView",
            "box_style": "",
            "children": [
              "IPY_MODEL_210c9a7512af4cffb3905ee61d30059e",
              "IPY_MODEL_6495fd04fffa4be7ad90e9baa60f8d4e",
              "IPY_MODEL_aad922404cc543f49cfc62b3a13231aa"
            ],
            "layout": "IPY_MODEL_913f05c5edc94dbeae4a8d28ad0f1794"
          }
        },
        "210c9a7512af4cffb3905ee61d30059e": {
          "model_module": "@jupyter-widgets/controls",
          "model_name": "HTMLModel",
          "model_module_version": "1.5.0",
          "state": {
            "_dom_classes": [],
            "_model_module": "@jupyter-widgets/controls",
            "_model_module_version": "1.5.0",
            "_model_name": "HTMLModel",
            "_view_count": null,
            "_view_module": "@jupyter-widgets/controls",
            "_view_module_version": "1.5.0",
            "_view_name": "HTMLView",
            "description": "",
            "description_tooltip": null,
            "layout": "IPY_MODEL_ab87f946d1c445f5936f96613d9a354c",
            "placeholder": "​",
            "style": "IPY_MODEL_47bfdcd88ff2424e97d6cc588a7b9dc8",
            "value": "100%"
          }
        },
        "6495fd04fffa4be7ad90e9baa60f8d4e": {
          "model_module": "@jupyter-widgets/controls",
          "model_name": "FloatProgressModel",
          "model_module_version": "1.5.0",
          "state": {
            "_dom_classes": [],
            "_model_module": "@jupyter-widgets/controls",
            "_model_module_version": "1.5.0",
            "_model_name": "FloatProgressModel",
            "_view_count": null,
            "_view_module": "@jupyter-widgets/controls",
            "_view_module_version": "1.5.0",
            "_view_name": "ProgressView",
            "bar_style": "success",
            "description": "",
            "description_tooltip": null,
            "layout": "IPY_MODEL_949c3903a6f04dbfb778cae5f8c2dfda",
            "max": 5,
            "min": 0,
            "orientation": "horizontal",
            "style": "IPY_MODEL_70495d92302a42db9efc6ba82903bb48",
            "value": 5
          }
        },
        "aad922404cc543f49cfc62b3a13231aa": {
          "model_module": "@jupyter-widgets/controls",
          "model_name": "HTMLModel",
          "model_module_version": "1.5.0",
          "state": {
            "_dom_classes": [],
            "_model_module": "@jupyter-widgets/controls",
            "_model_module_version": "1.5.0",
            "_model_name": "HTMLModel",
            "_view_count": null,
            "_view_module": "@jupyter-widgets/controls",
            "_view_module_version": "1.5.0",
            "_view_name": "HTMLView",
            "description": "",
            "description_tooltip": null,
            "layout": "IPY_MODEL_8b4b21c00d5549b69a59ef17a55979f7",
            "placeholder": "​",
            "style": "IPY_MODEL_262ac1f54d2e4b1e9381f0747ea73a51",
            "value": " 5/5 [06:05&lt;00:00, 87.68s/ba]"
          }
        },
        "913f05c5edc94dbeae4a8d28ad0f1794": {
          "model_module": "@jupyter-widgets/base",
          "model_name": "LayoutModel",
          "model_module_version": "1.2.0",
          "state": {
            "_model_module": "@jupyter-widgets/base",
            "_model_module_version": "1.2.0",
            "_model_name": "LayoutModel",
            "_view_count": null,
            "_view_module": "@jupyter-widgets/base",
            "_view_module_version": "1.2.0",
            "_view_name": "LayoutView",
            "align_content": null,
            "align_items": null,
            "align_self": null,
            "border": null,
            "bottom": null,
            "display": null,
            "flex": null,
            "flex_flow": null,
            "grid_area": null,
            "grid_auto_columns": null,
            "grid_auto_flow": null,
            "grid_auto_rows": null,
            "grid_column": null,
            "grid_gap": null,
            "grid_row": null,
            "grid_template_areas": null,
            "grid_template_columns": null,
            "grid_template_rows": null,
            "height": null,
            "justify_content": null,
            "justify_items": null,
            "left": null,
            "margin": null,
            "max_height": null,
            "max_width": null,
            "min_height": null,
            "min_width": null,
            "object_fit": null,
            "object_position": null,
            "order": null,
            "overflow": null,
            "overflow_x": null,
            "overflow_y": null,
            "padding": null,
            "right": null,
            "top": null,
            "visibility": null,
            "width": null
          }
        },
        "ab87f946d1c445f5936f96613d9a354c": {
          "model_module": "@jupyter-widgets/base",
          "model_name": "LayoutModel",
          "model_module_version": "1.2.0",
          "state": {
            "_model_module": "@jupyter-widgets/base",
            "_model_module_version": "1.2.0",
            "_model_name": "LayoutModel",
            "_view_count": null,
            "_view_module": "@jupyter-widgets/base",
            "_view_module_version": "1.2.0",
            "_view_name": "LayoutView",
            "align_content": null,
            "align_items": null,
            "align_self": null,
            "border": null,
            "bottom": null,
            "display": null,
            "flex": null,
            "flex_flow": null,
            "grid_area": null,
            "grid_auto_columns": null,
            "grid_auto_flow": null,
            "grid_auto_rows": null,
            "grid_column": null,
            "grid_gap": null,
            "grid_row": null,
            "grid_template_areas": null,
            "grid_template_columns": null,
            "grid_template_rows": null,
            "height": null,
            "justify_content": null,
            "justify_items": null,
            "left": null,
            "margin": null,
            "max_height": null,
            "max_width": null,
            "min_height": null,
            "min_width": null,
            "object_fit": null,
            "object_position": null,
            "order": null,
            "overflow": null,
            "overflow_x": null,
            "overflow_y": null,
            "padding": null,
            "right": null,
            "top": null,
            "visibility": null,
            "width": null
          }
        },
        "47bfdcd88ff2424e97d6cc588a7b9dc8": {
          "model_module": "@jupyter-widgets/controls",
          "model_name": "DescriptionStyleModel",
          "model_module_version": "1.5.0",
          "state": {
            "_model_module": "@jupyter-widgets/controls",
            "_model_module_version": "1.5.0",
            "_model_name": "DescriptionStyleModel",
            "_view_count": null,
            "_view_module": "@jupyter-widgets/base",
            "_view_module_version": "1.2.0",
            "_view_name": "StyleView",
            "description_width": ""
          }
        },
        "949c3903a6f04dbfb778cae5f8c2dfda": {
          "model_module": "@jupyter-widgets/base",
          "model_name": "LayoutModel",
          "model_module_version": "1.2.0",
          "state": {
            "_model_module": "@jupyter-widgets/base",
            "_model_module_version": "1.2.0",
            "_model_name": "LayoutModel",
            "_view_count": null,
            "_view_module": "@jupyter-widgets/base",
            "_view_module_version": "1.2.0",
            "_view_name": "LayoutView",
            "align_content": null,
            "align_items": null,
            "align_self": null,
            "border": null,
            "bottom": null,
            "display": null,
            "flex": null,
            "flex_flow": null,
            "grid_area": null,
            "grid_auto_columns": null,
            "grid_auto_flow": null,
            "grid_auto_rows": null,
            "grid_column": null,
            "grid_gap": null,
            "grid_row": null,
            "grid_template_areas": null,
            "grid_template_columns": null,
            "grid_template_rows": null,
            "height": null,
            "justify_content": null,
            "justify_items": null,
            "left": null,
            "margin": null,
            "max_height": null,
            "max_width": null,
            "min_height": null,
            "min_width": null,
            "object_fit": null,
            "object_position": null,
            "order": null,
            "overflow": null,
            "overflow_x": null,
            "overflow_y": null,
            "padding": null,
            "right": null,
            "top": null,
            "visibility": null,
            "width": null
          }
        },
        "70495d92302a42db9efc6ba82903bb48": {
          "model_module": "@jupyter-widgets/controls",
          "model_name": "ProgressStyleModel",
          "model_module_version": "1.5.0",
          "state": {
            "_model_module": "@jupyter-widgets/controls",
            "_model_module_version": "1.5.0",
            "_model_name": "ProgressStyleModel",
            "_view_count": null,
            "_view_module": "@jupyter-widgets/base",
            "_view_module_version": "1.2.0",
            "_view_name": "StyleView",
            "bar_color": null,
            "description_width": ""
          }
        },
        "8b4b21c00d5549b69a59ef17a55979f7": {
          "model_module": "@jupyter-widgets/base",
          "model_name": "LayoutModel",
          "model_module_version": "1.2.0",
          "state": {
            "_model_module": "@jupyter-widgets/base",
            "_model_module_version": "1.2.0",
            "_model_name": "LayoutModel",
            "_view_count": null,
            "_view_module": "@jupyter-widgets/base",
            "_view_module_version": "1.2.0",
            "_view_name": "LayoutView",
            "align_content": null,
            "align_items": null,
            "align_self": null,
            "border": null,
            "bottom": null,
            "display": null,
            "flex": null,
            "flex_flow": null,
            "grid_area": null,
            "grid_auto_columns": null,
            "grid_auto_flow": null,
            "grid_auto_rows": null,
            "grid_column": null,
            "grid_gap": null,
            "grid_row": null,
            "grid_template_areas": null,
            "grid_template_columns": null,
            "grid_template_rows": null,
            "height": null,
            "justify_content": null,
            "justify_items": null,
            "left": null,
            "margin": null,
            "max_height": null,
            "max_width": null,
            "min_height": null,
            "min_width": null,
            "object_fit": null,
            "object_position": null,
            "order": null,
            "overflow": null,
            "overflow_x": null,
            "overflow_y": null,
            "padding": null,
            "right": null,
            "top": null,
            "visibility": null,
            "width": null
          }
        },
        "262ac1f54d2e4b1e9381f0747ea73a51": {
          "model_module": "@jupyter-widgets/controls",
          "model_name": "DescriptionStyleModel",
          "model_module_version": "1.5.0",
          "state": {
            "_model_module": "@jupyter-widgets/controls",
            "_model_module_version": "1.5.0",
            "_model_name": "DescriptionStyleModel",
            "_view_count": null,
            "_view_module": "@jupyter-widgets/base",
            "_view_module_version": "1.2.0",
            "_view_name": "StyleView",
            "description_width": ""
          }
        }
      }
    },
    "accelerator": "GPU"
  },
  "cells": [
    {
      "cell_type": "markdown",
      "source": [
        "# US Legislation Summarization"
      ],
      "metadata": {
        "id": "kIsY0hfCWVNv"
      }
    },
    {
      "cell_type": "markdown",
      "source": [
        "## Data Description\n",
        "\n",
        "The dataset was taken from: https://www.kaggle.com/datasets/undersc0re/billsum-processed-train?select=ustrain_processed.csv\n",
        "\n",
        "The datset contains the text of bills and human-written summaries from the US Congress Legislature. The corpus consists of bills from the 103rd-115th (1993-2016) sessions of Congress."
      ],
      "metadata": {
        "id": "fgQmaoOAWWMd"
      }
    },
    {
      "cell_type": "markdown",
      "source": [
        "## Importing necessary libraries & loading data"
      ],
      "metadata": {
        "id": "N1jhSxM-WZzr"
      }
    },
    {
      "cell_type": "code",
      "source": [
        "%%capture\n",
        "! pip install transformers==4.5.0\n",
        "! pip install rouge_score\n",
        "! pip install datasets"
      ],
      "metadata": {
        "id": "uV3gayPkWc9i"
      },
      "execution_count": 1,
      "outputs": []
    },
    {
      "cell_type": "code",
      "source": [
        "# installing apex\n",
        "%%writefile setup.sh\n",
        "git clone https://github.com/NVIDIA/apex\n",
        "cd apex\n",
        "pip install -v --disable-pip-version-check --no-cache-dir ./"
      ],
      "metadata": {
        "colab": {
          "base_uri": "https://localhost:8080/"
        },
        "id": "JhuPt45RxyLc",
        "outputId": "41965824-482e-4085-d191-f2be2ee421bd"
      },
      "execution_count": 2,
      "outputs": [
        {
          "output_type": "stream",
          "name": "stdout",
          "text": [
            "Writing setup.sh\n"
          ]
        }
      ]
    },
    {
      "cell_type": "code",
      "source": [
        "%%capture\n",
        "!sh setup.sh"
      ],
      "metadata": {
        "id": "3TJxzCseyflY"
      },
      "execution_count": 3,
      "outputs": []
    },
    {
      "cell_type": "code",
      "source": [
        "import pandas as pd\n",
        "import numpy as np\n",
        "import matplotlib.pyplot as plt\n",
        "import seaborn as sns\n",
        "import json\n",
        "import torch\n",
        "from tqdm.autonotebook import tqdm\n",
        "from transformers import Seq2SeqTrainer, Seq2SeqTrainingArguments, AutoTokenizer, AutoModelForSeq2SeqLM\n",
        "from datasets import load_dataset, load_metric, Dataset, load_from_disk\n",
        "from apex import amp\n",
        "import os\n",
        "from google.colab import drive"
      ],
      "metadata": {
        "id": "I8sdpxawWkwl"
      },
      "execution_count": 4,
      "outputs": []
    },
    {
      "cell_type": "code",
      "source": [
        "drive.mount('drive')"
      ],
      "metadata": {
        "colab": {
          "base_uri": "https://localhost:8080/"
        },
        "id": "EWLaPUf7ev0B",
        "outputId": "fd48e26e-71fc-4a94-f164-4e2b06fcf485"
      },
      "execution_count": 5,
      "outputs": [
        {
          "output_type": "stream",
          "name": "stdout",
          "text": [
            "Mounted at drive\n"
          ]
        }
      ]
    },
    {
      "cell_type": "code",
      "source": [
        "! mkdir ~/.kaggle"
      ],
      "metadata": {
        "id": "bOTma2OBY9Sd"
      },
      "execution_count": 6,
      "outputs": []
    },
    {
      "cell_type": "code",
      "source": [
        "! cp kaggle.json ~/.kaggle/"
      ],
      "metadata": {
        "id": "TObW2_rDaCns"
      },
      "execution_count": 7,
      "outputs": []
    },
    {
      "cell_type": "code",
      "source": [
        "! chmod 600 ~/.kaggle/kaggle.json"
      ],
      "metadata": {
        "id": "EQP5ys8jaGfl"
      },
      "execution_count": 8,
      "outputs": []
    },
    {
      "cell_type": "code",
      "source": [
        "! kaggle datasets download -d undersc0re/billsum-processed-train"
      ],
      "metadata": {
        "colab": {
          "base_uri": "https://localhost:8080/"
        },
        "id": "b1ajNMLMaJLB",
        "outputId": "5e2c07fa-860b-4c33-d704-5653c0f8cf40"
      },
      "execution_count": 9,
      "outputs": [
        {
          "output_type": "stream",
          "name": "stdout",
          "text": [
            "Downloading billsum-processed-train.zip to /content\n",
            " 99% 52.0M/52.7M [00:02<00:00, 31.1MB/s]\n",
            "100% 52.7M/52.7M [00:02<00:00, 24.6MB/s]\n"
          ]
        }
      ]
    },
    {
      "cell_type": "code",
      "source": [
        "%%capture\n",
        "! unzip billsum-processed-train.zip"
      ],
      "metadata": {
        "id": "63EZiLGbaaGX"
      },
      "execution_count": 10,
      "outputs": []
    },
    {
      "cell_type": "code",
      "source": [
        "train_df = pd.read_csv('/content/ustrain_processed.csv')\n",
        "train_df.head()"
      ],
      "metadata": {
        "colab": {
          "base_uri": "https://localhost:8080/",
          "height": 250
        },
        "id": "u5WC_UABaea4",
        "outputId": "0ac9c2e4-ae66-49aa-e7e3-6831b4916f2e"
      },
      "execution_count": 11,
      "outputs": [
        {
          "output_type": "execute_result",
          "data": {
            "text/plain": [
              "      bill_id                                         clean_text  \\\n",
              "0  107_hr2256  SECTIONHEADER SHORT TITLE. This Act may be cit...   \n",
              "1  111_hr4710  SECTIONHEADER SHORT TITLE. This Act may be cit...   \n",
              "2    107_s409  SECTIONHEADER SHORT TITLE. This Act may be cit...   \n",
              "3   109_s2759  SECTIONHEADER SHORT TITLE. This Act may be cit...   \n",
              "4  107_hr5568  SECTIONHEADER SHORT TITLE. This Act may be cit...   \n",
              "\n",
              "                                             summary  sum_len  text_len  \\\n",
              "0  Border Hospital Survival and Illegal Immigrant...      527      6100   \n",
              "1  Farm to School Improvements Act of 2010 - Amen...     1161      8628   \n",
              "2  Persian Gulf War Illness Compensation Act of 2...      694      5567   \n",
              "3  Medicare Part D Outreach and Enrollment Enhanc...      810      6361   \n",
              "4  Seniors' Retirement Recovery Act of 2002 - Ame...      380      5368   \n",
              "\n",
              "   cleantext_len  \n",
              "0           4999  \n",
              "1           6215  \n",
              "2           4624  \n",
              "3           4408  \n",
              "4           4081  "
            ],
            "text/html": [
              "\n",
              "  <div id=\"df-cbfb0f16-a1e7-4981-b1ac-95154d541f80\">\n",
              "    <div class=\"colab-df-container\">\n",
              "      <div>\n",
              "<style scoped>\n",
              "    .dataframe tbody tr th:only-of-type {\n",
              "        vertical-align: middle;\n",
              "    }\n",
              "\n",
              "    .dataframe tbody tr th {\n",
              "        vertical-align: top;\n",
              "    }\n",
              "\n",
              "    .dataframe thead th {\n",
              "        text-align: right;\n",
              "    }\n",
              "</style>\n",
              "<table border=\"1\" class=\"dataframe\">\n",
              "  <thead>\n",
              "    <tr style=\"text-align: right;\">\n",
              "      <th></th>\n",
              "      <th>bill_id</th>\n",
              "      <th>clean_text</th>\n",
              "      <th>summary</th>\n",
              "      <th>sum_len</th>\n",
              "      <th>text_len</th>\n",
              "      <th>cleantext_len</th>\n",
              "    </tr>\n",
              "  </thead>\n",
              "  <tbody>\n",
              "    <tr>\n",
              "      <th>0</th>\n",
              "      <td>107_hr2256</td>\n",
              "      <td>SECTIONHEADER SHORT TITLE. This Act may be cit...</td>\n",
              "      <td>Border Hospital Survival and Illegal Immigrant...</td>\n",
              "      <td>527</td>\n",
              "      <td>6100</td>\n",
              "      <td>4999</td>\n",
              "    </tr>\n",
              "    <tr>\n",
              "      <th>1</th>\n",
              "      <td>111_hr4710</td>\n",
              "      <td>SECTIONHEADER SHORT TITLE. This Act may be cit...</td>\n",
              "      <td>Farm to School Improvements Act of 2010 - Amen...</td>\n",
              "      <td>1161</td>\n",
              "      <td>8628</td>\n",
              "      <td>6215</td>\n",
              "    </tr>\n",
              "    <tr>\n",
              "      <th>2</th>\n",
              "      <td>107_s409</td>\n",
              "      <td>SECTIONHEADER SHORT TITLE. This Act may be cit...</td>\n",
              "      <td>Persian Gulf War Illness Compensation Act of 2...</td>\n",
              "      <td>694</td>\n",
              "      <td>5567</td>\n",
              "      <td>4624</td>\n",
              "    </tr>\n",
              "    <tr>\n",
              "      <th>3</th>\n",
              "      <td>109_s2759</td>\n",
              "      <td>SECTIONHEADER SHORT TITLE. This Act may be cit...</td>\n",
              "      <td>Medicare Part D Outreach and Enrollment Enhanc...</td>\n",
              "      <td>810</td>\n",
              "      <td>6361</td>\n",
              "      <td>4408</td>\n",
              "    </tr>\n",
              "    <tr>\n",
              "      <th>4</th>\n",
              "      <td>107_hr5568</td>\n",
              "      <td>SECTIONHEADER SHORT TITLE. This Act may be cit...</td>\n",
              "      <td>Seniors' Retirement Recovery Act of 2002 - Ame...</td>\n",
              "      <td>380</td>\n",
              "      <td>5368</td>\n",
              "      <td>4081</td>\n",
              "    </tr>\n",
              "  </tbody>\n",
              "</table>\n",
              "</div>\n",
              "      <button class=\"colab-df-convert\" onclick=\"convertToInteractive('df-cbfb0f16-a1e7-4981-b1ac-95154d541f80')\"\n",
              "              title=\"Convert this dataframe to an interactive table.\"\n",
              "              style=\"display:none;\">\n",
              "        \n",
              "  <svg xmlns=\"http://www.w3.org/2000/svg\" height=\"24px\"viewBox=\"0 0 24 24\"\n",
              "       width=\"24px\">\n",
              "    <path d=\"M0 0h24v24H0V0z\" fill=\"none\"/>\n",
              "    <path d=\"M18.56 5.44l.94 2.06.94-2.06 2.06-.94-2.06-.94-.94-2.06-.94 2.06-2.06.94zm-11 1L8.5 8.5l.94-2.06 2.06-.94-2.06-.94L8.5 2.5l-.94 2.06-2.06.94zm10 10l.94 2.06.94-2.06 2.06-.94-2.06-.94-.94-2.06-.94 2.06-2.06.94z\"/><path d=\"M17.41 7.96l-1.37-1.37c-.4-.4-.92-.59-1.43-.59-.52 0-1.04.2-1.43.59L10.3 9.45l-7.72 7.72c-.78.78-.78 2.05 0 2.83L4 21.41c.39.39.9.59 1.41.59.51 0 1.02-.2 1.41-.59l7.78-7.78 2.81-2.81c.8-.78.8-2.07 0-2.86zM5.41 20L4 18.59l7.72-7.72 1.47 1.35L5.41 20z\"/>\n",
              "  </svg>\n",
              "      </button>\n",
              "      \n",
              "  <style>\n",
              "    .colab-df-container {\n",
              "      display:flex;\n",
              "      flex-wrap:wrap;\n",
              "      gap: 12px;\n",
              "    }\n",
              "\n",
              "    .colab-df-convert {\n",
              "      background-color: #E8F0FE;\n",
              "      border: none;\n",
              "      border-radius: 50%;\n",
              "      cursor: pointer;\n",
              "      display: none;\n",
              "      fill: #1967D2;\n",
              "      height: 32px;\n",
              "      padding: 0 0 0 0;\n",
              "      width: 32px;\n",
              "    }\n",
              "\n",
              "    .colab-df-convert:hover {\n",
              "      background-color: #E2EBFA;\n",
              "      box-shadow: 0px 1px 2px rgba(60, 64, 67, 0.3), 0px 1px 3px 1px rgba(60, 64, 67, 0.15);\n",
              "      fill: #174EA6;\n",
              "    }\n",
              "\n",
              "    [theme=dark] .colab-df-convert {\n",
              "      background-color: #3B4455;\n",
              "      fill: #D2E3FC;\n",
              "    }\n",
              "\n",
              "    [theme=dark] .colab-df-convert:hover {\n",
              "      background-color: #434B5C;\n",
              "      box-shadow: 0px 1px 3px 1px rgba(0, 0, 0, 0.15);\n",
              "      filter: drop-shadow(0px 1px 2px rgba(0, 0, 0, 0.3));\n",
              "      fill: #FFFFFF;\n",
              "    }\n",
              "  </style>\n",
              "\n",
              "      <script>\n",
              "        const buttonEl =\n",
              "          document.querySelector('#df-cbfb0f16-a1e7-4981-b1ac-95154d541f80 button.colab-df-convert');\n",
              "        buttonEl.style.display =\n",
              "          google.colab.kernel.accessAllowed ? 'block' : 'none';\n",
              "\n",
              "        async function convertToInteractive(key) {\n",
              "          const element = document.querySelector('#df-cbfb0f16-a1e7-4981-b1ac-95154d541f80');\n",
              "          const dataTable =\n",
              "            await google.colab.kernel.invokeFunction('convertToInteractive',\n",
              "                                                     [key], {});\n",
              "          if (!dataTable) return;\n",
              "\n",
              "          const docLinkHtml = 'Like what you see? Visit the ' +\n",
              "            '<a target=\"_blank\" href=https://colab.research.google.com/notebooks/data_table.ipynb>data table notebook</a>'\n",
              "            + ' to learn more about interactive tables.';\n",
              "          element.innerHTML = '';\n",
              "          dataTable['output_type'] = 'display_data';\n",
              "          await google.colab.output.renderOutput(dataTable, element);\n",
              "          const docLink = document.createElement('div');\n",
              "          docLink.innerHTML = docLinkHtml;\n",
              "          element.appendChild(docLink);\n",
              "        }\n",
              "      </script>\n",
              "    </div>\n",
              "  </div>\n",
              "  "
            ]
          },
          "metadata": {},
          "execution_count": 11
        }
      ]
    },
    {
      "cell_type": "code",
      "source": [
        "train_df['clean_text'].loc[0]"
      ],
      "metadata": {
        "colab": {
          "base_uri": "https://localhost:8080/",
          "height": 643
        },
        "id": "90M_Ld-Bai0T",
        "outputId": "795d79bf-92b1-4bfe-82c6-1c2b98a61c50"
      },
      "execution_count": 12,
      "outputs": [
        {
          "output_type": "execute_result",
          "data": {
            "text/plain": [
              "'SECTIONHEADER SHORT TITLE. This Act may be cited as the \"Border Hospital Survival and Illegal Immigrant Care Act\". SECTIONHEADER FINDINGS. The Congress finds as follows: Immigration is a Federal responsibility. The Immigration and Naturalization Service does not take into custody all aliens who are unlawfully present in the United States. Section 1867 of the Social Security Act and State laws require that, if any individual comes to a hospital and the hospital determines that the individual has an emergency medical condition, the hospital must provide either, within the staff and facilities available at the hospital, for such further medical examination and such treatment as may be required to stabilize the medical condition, or, if appropriate, for transfer of the individual to another medical facility. The Southwest border region is ill-equipped to absorb the expense of providing health care to undocumented aliens because it ranks last in the country in terms of per capita income. The Southwest border region has been designated as a health professional shortage area under section 332 of the Public Health Service Act . The unreimbursed costs associated with caring for undocumented aliens are severely threatening the financial stability of health care providers in Arizona. SECTIONHEADER REIMBURSEMENT TO HEALTH CARE PROVIDERS FOR EMERGENCY MEDICAL CARE RENDERED TO CERTAIN ALIENS. Section 322 of the Public Health Service Act is amended by adding at the end the following: (1) The Secretary shall establish and implement a 5-year pilot program under which funds made available under paragraph (6) are used to reimburse providers for items and services described in section 411(b)(1) of the Personal Responsibility and Work Opportunity Reconciliation Act of 1996 (8 USC. 1621(b)(1)) provided in Arizona to aliens described in paragraph (3), and to reimburse suppliers of emergency ambulance services furnished to such aliens for which the transportation originates in Arizona , if payment may not be made to reimburse the provider or supplier under any Federal program or law other than this subsection , any State or local program or law, any group or individual health plan, or any insurance policy. As part of the pilot program, in a case in which an alien described in paragraph (3) arrived at a hospital in Arizona and the hospital provided for such medical examination and treatment of the alien as the hospital determined was required to stabilize an emergency medical condition (within the meaning of section 1867(e)(1) of the Social Security Act (42 USC. 1395dd(e)(1))), the Secretary shall use funds made available under paragraph (6) to reimburse the hospital for any transportation costs paid by the hospital to return the alien to the United States border, if the hospital requested the Attorney General to take the alien into custody after such stabilization; such request was denied within 24 hours after its receipt, or the Attorney General gave no response to it within such period; and the hospital determined that discharging the alien without providing for such transportation might pose a threat to the health or safety of the alien . An alien is described in this paragraph if the alien is not lawfully present in the United States and not detained by any Federal, State, or local law enforcement authority; or is paroled into the United States under section 212(d)(5) of the Immigration and Nationality Act (8 USC. 1182(d)(5)) for less than one year in order to receive treatment for an emergency medical condition. During the period in which the pilot program is operating, the Secretary shall submit annual reports to the Congress on its operation. Each report shall contain at least the following information: The number of aliens to whom assistance was rendered for which payment was made under this subsection during the previous year. The nationality of such aliens. The average cost per alien of such assistance. The total annual amount paid to each provider or supplier of assistance. The feasibility and estimated cost of expanding the pilot program to items and services provided anywhere in the Southwest border region of the United States. Nothing in this subsection shall be construed to authorize any reduction in the funds payable to any person under any Federal program or law other than this subsection , any State or local program or law, any group or individual health plan, or any insurance policy. To the extent provided in appropriations Acts, from amounts made available to the Immigration and Naturalization Service for enforcement and border affairs for each of the 5 fiscal years following the fiscal year in which the Border Hospital Survival and Illegal Immigrant Care Act is enacted, the Attorney General may transfer to the Health Resources and Services Administration of the Department of Health and Human Services such amounts as may be necessary to carry out this subsection, not to exceed $50,000,000 for each such year.\".'"
            ],
            "application/vnd.google.colaboratory.intrinsic+json": {
              "type": "string"
            }
          },
          "metadata": {},
          "execution_count": 12
        }
      ]
    },
    {
      "cell_type": "code",
      "source": [
        "train_df['summary'].loc[0]"
      ],
      "metadata": {
        "colab": {
          "base_uri": "https://localhost:8080/",
          "height": 87
        },
        "id": "B5vLwpTxamlg",
        "outputId": "8a264228-7336-427f-f4c3-344dcc0d8465"
      },
      "execution_count": 13,
      "outputs": [
        {
          "output_type": "execute_result",
          "data": {
            "text/plain": [
              "'Border Hospital Survival and Illegal Immigrant Care Act - Amends the Public Health Service Act to direct the Secretary of Health and Human Services to establish a five-year pilot program of health care provider reimbursement for the costs associated with providing emergency medical and ambulance services in Arizona to: (1) illegal aliens who are not detained by any Federal, State, or local law enforcement authority. Or (2) aliens paroled into the United States for less than one year to receive emergency medical treatment.'"
            ],
            "application/vnd.google.colaboratory.intrinsic+json": {
              "type": "string"
            }
          },
          "metadata": {},
          "execution_count": 13
        }
      ]
    },
    {
      "cell_type": "markdown",
      "source": [
        "Longformer - neural network architecture that I am going to use for summarization - is very computationaly expensive. Training on the whole BillSum dataset will take 56 hours, so I will reduce training and validation data to make training possible in colab."
      ],
      "metadata": {
        "id": "M2AZKuu-747T"
      }
    },
    {
      "cell_type": "code",
      "source": [
        "train_df.drop(['bill_id', 'sum_len', 'text_len', 'cleantext_len'], axis=1, inplace=True)\n",
        "train_df = train_df.sample(500, random_state=42)"
      ],
      "metadata": {
        "id": "jT4qDPMo-WAP"
      },
      "execution_count": 14,
      "outputs": []
    },
    {
      "cell_type": "code",
      "source": [
        "val_df = pd.read_csv('/content/ustest_processed.csv')\n",
        "val_df.drop(['bill_id', 'sum_len', 'text_len', 'cleantext_len'], axis=1, inplace=True)\n",
        "val_df = val_df.sample(20, random_state=42)"
      ],
      "metadata": {
        "id": "bZgMzMNB-bch"
      },
      "execution_count": 15,
      "outputs": []
    },
    {
      "cell_type": "markdown",
      "source": [
        "## Data Preprocessing"
      ],
      "metadata": {
        "id": "J2wNC7v7fptD"
      }
    },
    {
      "cell_type": "code",
      "source": [
        "tokenizer = AutoTokenizer.from_pretrained('allenai/led-base-16384')"
      ],
      "metadata": {
        "colab": {
          "base_uri": "https://localhost:8080/",
          "height": 177,
          "referenced_widgets": [
            "547c50a2de0e4f998ccd362cf24c6770",
            "4b1d45fe50a040ea9881e6f1bf31dad3",
            "225ddbc2a4024f18818781c61c653bcf",
            "0946ea6d4ac145fe9e3c75b6af92fe4e",
            "7ed33398e7c44e039ea157ba9fbade2f",
            "42959dfc9e814af0a88cfdf467c439ee",
            "4c7bcd3ca6074d3c8c89dda9df2c0d5c",
            "15054c97139f4687860e5f1638f697fe",
            "83f57bdd75c6426583276a402e0d3965",
            "6e7946b62c6e4720924ea1891c7f7446",
            "4806828acb5b47c191e2256fd7fb61ad",
            "11fa7b7e6bfe4a3083d080f5d5b49d1c",
            "00571d0c2fb24998bc6619b1f4452410",
            "8dc80cc3613148ed80bbab5b70ab0578",
            "2eadc93faa56437bb4b1f31f4f8d6142",
            "9d158b3a3a2c4e559bdba26d6c7bba4e",
            "c645d89077d14aa797eab473f65c1e82",
            "5acd1f72a6874bd19be456607116406f",
            "142a99e315a24afeb897745f590847a4",
            "5d22b81b78cf49a581b8587b5ad69cad",
            "d4c9a719267b4ced8ebc1309d7182ace",
            "46d67e24655845a19cc94d72c26079f4",
            "1903da9429d64e2796e0111e22dc554b",
            "29d89dc7ae794252b68c705de0a20e28",
            "aa3c0bd5bc6846c1bd91b1dc00f2b2d6",
            "711c30084f074865975e554fd2fa34dd",
            "721e28cb45ed446c86583e880e8c16a0",
            "887fecc2d38e4328b94816a35800892d",
            "fa985449b799426483dbff4060a52b4f",
            "eedeef923f6b48c0903c06ff07a140ac",
            "0e73f77d7d294592849250746f1047c5",
            "9ba2a354c2e942f5943ad1fc350e34f6",
            "474f1ef5922c4edc88fc0f9838f40c3a",
            "8d58a6d8365847e2ae314e8a84664fa5",
            "a30369bce211429fb0cf8465aaae36b9",
            "864d8f55bd5441a5b74b6df759ccef86",
            "0f43473f23b14a13b9ecfe08237c0716",
            "d953068338094d5e9304b74db47c8f38",
            "e1fa31b4fe49488d9bd9157e0ce92b3f",
            "553ab7f7bb04420f8f341bc9f5d267cb",
            "2d29b2b9685a492aad36175f8df9638b",
            "c174f078c77e43a4b9501211982aa9f2",
            "76c2d1ab39b54ff8af46ae3ff91b6e3e",
            "c711b8e2175c42e39b9a57dc013a35d8",
            "cd46a035aab1428fa62304bbbdb41db0",
            "c9b352e1c5ab41cbb48fb92863d30fc6",
            "baf30faff91245509289cbf07dc493ca",
            "222503c363994181a0acba35f3796189",
            "02771048bdba4b9ca7e4beb54cddce51",
            "168c28ecdb464612b19b76895f482f24",
            "760e3f32a806436e8fdba37e724da04b",
            "438767b0624a4bbcaa878698f24d42da",
            "0784bc89fab44835a46ab5fd5a2eb4b0",
            "37cf66db9ace43f7be5ed09c1265bdbe",
            "53f5e38915d946549c0a75cd8a8d60cd"
          ]
        },
        "id": "Pxfyps9_dBQC",
        "outputId": "1b8ca2a0-0d6a-47ee-b826-fa668c4f8f09"
      },
      "execution_count": 16,
      "outputs": [
        {
          "output_type": "display_data",
          "data": {
            "text/plain": [
              "Downloading:   0%|          | 0.00/1.09k [00:00<?, ?B/s]"
            ],
            "application/vnd.jupyter.widget-view+json": {
              "version_major": 2,
              "version_minor": 0,
              "model_id": "547c50a2de0e4f998ccd362cf24c6770"
            }
          },
          "metadata": {}
        },
        {
          "output_type": "display_data",
          "data": {
            "text/plain": [
              "Downloading:   0%|          | 0.00/899k [00:00<?, ?B/s]"
            ],
            "application/vnd.jupyter.widget-view+json": {
              "version_major": 2,
              "version_minor": 0,
              "model_id": "11fa7b7e6bfe4a3083d080f5d5b49d1c"
            }
          },
          "metadata": {}
        },
        {
          "output_type": "display_data",
          "data": {
            "text/plain": [
              "Downloading:   0%|          | 0.00/456k [00:00<?, ?B/s]"
            ],
            "application/vnd.jupyter.widget-view+json": {
              "version_major": 2,
              "version_minor": 0,
              "model_id": "1903da9429d64e2796e0111e22dc554b"
            }
          },
          "metadata": {}
        },
        {
          "output_type": "display_data",
          "data": {
            "text/plain": [
              "Downloading:   0%|          | 0.00/772 [00:00<?, ?B/s]"
            ],
            "application/vnd.jupyter.widget-view+json": {
              "version_major": 2,
              "version_minor": 0,
              "model_id": "8d58a6d8365847e2ae314e8a84664fa5"
            }
          },
          "metadata": {}
        },
        {
          "output_type": "display_data",
          "data": {
            "text/plain": [
              "Downloading:   0%|          | 0.00/27.0 [00:00<?, ?B/s]"
            ],
            "application/vnd.jupyter.widget-view+json": {
              "version_major": 2,
              "version_minor": 0,
              "model_id": "cd46a035aab1428fa62304bbbdb41db0"
            }
          },
          "metadata": {}
        }
      ]
    },
    {
      "cell_type": "code",
      "source": [
        "text_token_counts = []\n",
        "summary_token_counts = []\n",
        "for _, row in tqdm(train_df.iterrows()):\n",
        "  text_token_count = len(tokenizer.encode(row['clean_text']))\n",
        "  text_token_counts.append(text_token_count)\n",
        "  summary_token_count = len(tokenizer.encode(row['summary']))\n",
        "  summary_token_counts.append(summary_token_count)"
      ],
      "metadata": {
        "colab": {
          "base_uri": "https://localhost:8080/",
          "height": 49,
          "referenced_widgets": [
            "bd25240a4ad2470caec4a07a77c77de5",
            "3b775af4cc7940458dbcc02adb598395",
            "13bf6a20a4e54fe3b754967ac6a5b3e9",
            "72121d2cd303471fa24e4973a9b07804",
            "13acb91892b84232a23e5b4118848267",
            "635fdf2858434ee0bd572f928d8f44a4",
            "ce462ad8aeb8430c9e8bc91f086c9beb",
            "edabffa7dc8b469b9f501920e4ef91a9",
            "ba9305ad86f74c49b12cc7ce834adbcf",
            "cce59ea9890c415f99afc4dad702e3c7",
            "fe6df3db9c264d2b9a8a45c196907636"
          ]
        },
        "id": "CCIovQKWIduE",
        "outputId": "b66d29a0-2134-4498-b8b4-7a3e13979ebf"
      },
      "execution_count": 17,
      "outputs": [
        {
          "output_type": "display_data",
          "data": {
            "text/plain": [
              "0it [00:00, ?it/s]"
            ],
            "application/vnd.jupyter.widget-view+json": {
              "version_major": 2,
              "version_minor": 0,
              "model_id": "bd25240a4ad2470caec4a07a77c77de5"
            }
          },
          "metadata": {}
        }
      ]
    },
    {
      "cell_type": "code",
      "source": [
        "# visualizing token length distribution\n",
        "fig, (ax_1, ax_2) = plt.subplots(1, 2, figsize=(12, 8))\n",
        "sns.set_theme()\n",
        "\n",
        "sns.histplot(text_token_counts, ax=ax_1)\n",
        "ax_1.set_title('Text token counts')\n",
        "\n",
        "sns.histplot(summary_token_counts, ax=ax_2)\n",
        "ax_2.set_title('Summary token counts');"
      ],
      "metadata": {
        "colab": {
          "base_uri": "https://localhost:8080/",
          "height": 501
        },
        "id": "NM9JQLblIjav",
        "outputId": "42686e1b-07ec-4325-df02-261877a1714d"
      },
      "execution_count": 20,
      "outputs": [
        {
          "output_type": "display_data",
          "data": {
            "text/plain": [
              "<Figure size 864x576 with 2 Axes>"
            ],
            "image/png": "[encoded data removed]"
          },
          "metadata": {}
        }
      ]
    },
    {
      "cell_type": "code",
      "source": [
        "max(text_token_counts), max(summary_token_counts), min(summary_token_counts)"
      ],
      "metadata": {
        "colab": {
          "base_uri": "https://localhost:8080/"
        },
        "id": "Aq3z8tFpJvh-",
        "outputId": "da4e68c9-350e-4f43-b9c6-b280a955866e"
      },
      "execution_count": null,
      "outputs": [
        {
          "output_type": "execute_result",
          "data": {
            "text/plain": [
              "(6012, 803, 19)"
            ]
          },
          "metadata": {},
          "execution_count": 19
        }
      ]
    },
    {
      "cell_type": "code",
      "source": [
        "encoder_max_length = 3800\n",
        "decoder_max_length = 803\n",
        "batch_size = 4"
      ],
      "metadata": {
        "id": "dDoLFC9eefzP"
      },
      "execution_count": 25,
      "outputs": []
    },
    {
      "cell_type": "code",
      "source": [
        "train_df = Dataset.from_pandas(train_df)\n",
        "val_df = Dataset.from_pandas(val_df)"
      ],
      "metadata": {
        "id": "f1-wyYUAKSY_"
      },
      "execution_count": null,
      "outputs": []
    },
    {
      "cell_type": "code",
      "source": [
        "def process_data_to_model_inputs(batch):\n",
        "  # tokenize the inputs and labels\n",
        "  inputs = tokenizer(batch['clean_text'],\n",
        "                     padding='max_length',\n",
        "                     truncation=True,\n",
        "                     max_length=encoder_max_length)\n",
        "  \n",
        "  outputs = tokenizer(batch['summary'],\n",
        "                      padding='max_length',\n",
        "                      truncation=True,\n",
        "                      max_length=decoder_max_length)\n",
        "\n",
        "  batch['input_ids'] = inputs.input_ids\n",
        "  batch['attention_mask'] = inputs.attention_mask\n",
        "\n",
        "  # create 0 global_attention_mask lists\n",
        "  batch['global_attention_mask'] = len(batch['input_ids']) * [[0 for _ in range(len(batch['input_ids'][0]))]]\n",
        "\n",
        "  # since above lists are references, the following line changes the 0 index for all samples\n",
        "  batch['global_attention_mask'][0][0] = 1\n",
        "  batch['labels'] = outputs.input_ids\n",
        "\n",
        "  # We have to make sure that the PAD token is ignored\n",
        "  batch['labels'] = [[-100 if token == tokenizer.pad_token_id else token for token in labels] for labels in batch['labels']]\n",
        "  return batch"
      ],
      "metadata": {
        "id": "V_DMPUZafhdy"
      },
      "execution_count": null,
      "outputs": []
    },
    {
      "cell_type": "code",
      "source": [
        "# map train data\n",
        "train_df = train_df.map(process_data_to_model_inputs,\n",
        "                        batched=True,\n",
        "                        batch_size=batch_size,\n",
        "                        remove_columns=['clean_text', 'summary'])"
      ],
      "metadata": {
        "colab": {
          "base_uri": "https://localhost:8080/",
          "height": 49,
          "referenced_widgets": [
            "3c22b2c7a9b64eeb8c8825a95c72a37c",
            "6546511d4261492a812798a38be898c8",
            "6b6b7ee8e18b4580b9f0eca166510393",
            "d31d9ea674104d8a91c53789bf1ded81",
            "630186d612b543fd8b049ee9627baaaf",
            "44b210054805451181850ce9be0dbe5c",
            "9ab35271529c47a08587a3923016ddac",
            "ede8db042a6149c5bd362f2b2c1dda1c",
            "6ba874ea635e4359a3382f0e9f0d35d5",
            "5773923e0e9a49778adbe4b907db4db9",
            "fa1b4a6dbda54fffba35ef1522ff0819"
          ]
        },
        "id": "TkrKVYh8ibvP",
        "outputId": "5014072d-e2b7-4226-b151-4a585b98d1b9"
      },
      "execution_count": null,
      "outputs": [
        {
          "output_type": "display_data",
          "data": {
            "text/plain": [
              "  0%|          | 0/125 [00:00<?, ?ba/s]"
            ],
            "application/vnd.jupyter.widget-view+json": {
              "version_major": 2,
              "version_minor": 0,
              "model_id": "3c22b2c7a9b64eeb8c8825a95c72a37c"
            }
          },
          "metadata": {}
        }
      ]
    },
    {
      "cell_type": "code",
      "source": [
        "train_df.save_to_disk('leg_sum_train.hf')"
      ],
      "metadata": {
        "id": "CkIsrFe7wfTy"
      },
      "execution_count": null,
      "outputs": []
    },
    {
      "cell_type": "code",
      "source": [
        "! mv '/content/leg_sum_train.hf' '/content/drive/My Drive/Data/'"
      ],
      "metadata": {
        "id": "bhBuOJaobOHM"
      },
      "execution_count": null,
      "outputs": []
    },
    {
      "cell_type": "code",
      "source": [
        "train_df = load_from_disk('/content/drive/MyDrive/Data/leg_sum_train.hf')"
      ],
      "metadata": {
        "id": "s4sdW6WhrKbv"
      },
      "execution_count": 21,
      "outputs": []
    },
    {
      "cell_type": "code",
      "source": [
        "# map val data\n",
        "val_df = val_df.map(process_data_to_model_inputs,\n",
        "                    batched=True,\n",
        "                    batch_size=batch_size,\n",
        "                    remove_columns=['clean_text', 'summary'])"
      ],
      "metadata": {
        "id": "gdevCMrev4mT",
        "colab": {
          "base_uri": "https://localhost:8080/",
          "height": 49,
          "referenced_widgets": [
            "c19e9b6007ac4f45a25030531017c7a7",
            "5303056ef8c2410ead578675705be8d3",
            "c0f8e65d7a0a4ab1b158694afa35ad07",
            "0e0ac3ed6692423ca353b62eeac969e5",
            "a7935e3b056044729e413a280beeb8be",
            "8bf2f9a4bdce4f94ada13f07adbca17c",
            "d94569f30cfb47bf97a941d92b57fe1c",
            "d98860cf376b4c5f8ce41fe0b9f1e54d",
            "4dc35a331f2d426a9c2b7d6fda92d564",
            "cf07a7c5e35f4c2b97f6161eb73736f4",
            "a49cf30bc6af4957ad9ac24d70314134"
          ]
        },
        "outputId": "86762055-35a1-46c2-c5ac-8943b6f35aca"
      },
      "execution_count": null,
      "outputs": [
        {
          "output_type": "display_data",
          "data": {
            "text/plain": [
              "  0%|          | 0/5 [00:00<?, ?ba/s]"
            ],
            "application/vnd.jupyter.widget-view+json": {
              "version_major": 2,
              "version_minor": 0,
              "model_id": "c19e9b6007ac4f45a25030531017c7a7"
            }
          },
          "metadata": {}
        }
      ]
    },
    {
      "cell_type": "code",
      "source": [
        "val_df.save_to_disk('leg_sum_val.hf')"
      ],
      "metadata": {
        "id": "-7EFPKeQslXx"
      },
      "execution_count": null,
      "outputs": []
    },
    {
      "cell_type": "code",
      "source": [
        "! mv '/content/leg_sum_val.hf' '/content/drive/My Drive/Data/'"
      ],
      "metadata": {
        "id": "ktQVDt8pdkTI"
      },
      "execution_count": null,
      "outputs": []
    },
    {
      "cell_type": "code",
      "source": [
        "val_df = load_from_disk('/content/drive/MyDrive/Data/leg_sum_val.hf')"
      ],
      "metadata": {
        "id": "_5Cv9CobrolC"
      },
      "execution_count": 22,
      "outputs": []
    },
    {
      "cell_type": "code",
      "source": [
        "# set Python list to PyTorch tensor\n",
        "train_df.set_format(type='torch', columns=['input_ids', 'attention_mask', 'global_attention_mask', 'labels'])\n",
        "val_df.set_format(type='torch', columns=['input_ids', 'attention_mask', 'global_attention_mask', 'labels'])"
      ],
      "metadata": {
        "id": "Dcb1-Q97ngq9"
      },
      "execution_count": 23,
      "outputs": []
    },
    {
      "cell_type": "markdown",
      "source": [
        "## Model Training"
      ],
      "metadata": {
        "id": "mHYIST3GwYDW"
      }
    },
    {
      "cell_type": "code",
      "source": [
        "# enable fp16 apex training\n",
        "training_args = Seq2SeqTrainingArguments(predict_with_generate=True,\n",
        "                                         evaluation_strategy='epoch',\n",
        "                                         per_device_train_batch_size=batch_size,\n",
        "                                         per_device_eval_batch_size=batch_size,\n",
        "                                         fp16=True,\n",
        "                                         output_dir='./',\n",
        "                                         logging_steps=5,\n",
        "                                         eval_steps=10,\n",
        "                                         save_steps=10,\n",
        "                                         save_total_limit=2,\n",
        "                                         gradient_accumulation_steps=4,\n",
        "                                         num_train_epochs=4)"
      ],
      "metadata": {
        "id": "ot1XPNkhsbvL"
      },
      "execution_count": 26,
      "outputs": []
    },
    {
      "cell_type": "code",
      "source": [
        "rouge = load_metric('rouge')"
      ],
      "metadata": {
        "colab": {
          "base_uri": "https://localhost:8080/",
          "height": 104,
          "referenced_widgets": [
            "2a0d9e28ffba48848e8175a309f67ae4",
            "50991e1ea8f54d46bdb09990357a3297",
            "b2b0004420a84ce6b9ae95395b419461",
            "9876a718f4a54a26b9d0ca164a4a4cc6",
            "6118a66a63b147a1b9706d736720a79b",
            "5f45001f65a64b398f7003f64ee605c5",
            "295dee7d958242959683970ecb43fef0",
            "916079a3bc294b57826e2248b728ae43",
            "099ebf5859ab4c088366a4adf954008d",
            "4b1af99e3d6a45dc8a62c402f02d3319",
            "530dfba5968548afa84bd6eed20cbadb"
          ]
        },
        "id": "iYZ9Ke2xBRM_",
        "outputId": "7efa3979-9c73-4ec5-d924-25049f38b311"
      },
      "execution_count": 27,
      "outputs": [
        {
          "output_type": "stream",
          "name": "stderr",
          "text": [
            "/usr/local/lib/python3.7/dist-packages/ipykernel_launcher.py:1: FutureWarning: load_metric is deprecated and will be removed in the next major version of datasets. Use 'evaluate.load' instead, from the new library 🤗 Evaluate: https://huggingface.co/docs/evaluate\n",
            "  \"\"\"Entry point for launching an IPython kernel.\n"
          ]
        },
        {
          "output_type": "display_data",
          "data": {
            "text/plain": [
              "Downloading builder script:   0%|          | 0.00/2.16k [00:00<?, ?B/s]"
            ],
            "application/vnd.jupyter.widget-view+json": {
              "version_major": 2,
              "version_minor": 0,
              "model_id": "2a0d9e28ffba48848e8175a309f67ae4"
            }
          },
          "metadata": {}
        }
      ]
    },
    {
      "cell_type": "code",
      "source": [
        "# function for computing rouge score\n",
        "def compute_metrics(pred):\n",
        "  labels_ids = pred.label_ids\n",
        "  pred_ids = pred.predictions\n",
        "\n",
        "  pred_str = tokenizer.batch_decode(pred_ids, skip_special_tokens=True)\n",
        "  labels_ids[labels_ids == -100] = tokenizer.pad_token_id\n",
        "  label_str = tokenizer.batch_decode(labels_ids, skip_special_tokens=True)\n",
        "\n",
        "  rouge_output = rouge.compute(predictions=pred_str, references=label_str, rouge_types=['rouge2'])['rouge2'].mid\n",
        "\n",
        "  return {'rouge2_precision': round(rouge_output.precision, 4),\n",
        "          'rouge2_recall': round(rouge_output.recall, 4),\n",
        "          'rouge2_fmeasure': round(rouge_output.fmeasure, 4)}"
      ],
      "metadata": {
        "id": "jnQ32UBDsxph"
      },
      "execution_count": 28,
      "outputs": []
    },
    {
      "cell_type": "code",
      "source": [
        "# load model, enable gradient checkpointing, disable cache for checkpointing\n",
        "model = AutoModelForSeq2SeqLM.from_pretrained('allenai/led-base-16384', gradient_checkpointing=True, use_cache=False)"
      ],
      "metadata": {
        "id": "MhdWLnzdtLrB",
        "colab": {
          "base_uri": "https://localhost:8080/",
          "height": 49,
          "referenced_widgets": [
            "1b25c2402be643a9908ccfec64aaa866",
            "d4102a6722584a129e362aebb4e91fad",
            "ba704bf50f024074b94f2b6fa32b3820",
            "3f680d632e564553925759e86569e59c",
            "876bd79a2bc04a818c4404a79e6c35a9",
            "c304feb639c54f4e8aff6621c6a5e5c1",
            "6851155932a14b52b83f4522f7f80166",
            "aee818c4a08a4b7fb197624208399591",
            "924b1862e6134c33bed943d38646e8ce",
            "a1c13f31e91e4e92a7099c8d3caeb4a7",
            "ea646d42a78f427abdb5728da4c87883"
          ]
        },
        "outputId": "eadff835-6047-439b-97df-39320a471c8e"
      },
      "execution_count": 29,
      "outputs": [
        {
          "output_type": "display_data",
          "data": {
            "text/plain": [
              "Downloading:   0%|          | 0.00/648M [00:00<?, ?B/s]"
            ],
            "application/vnd.jupyter.widget-view+json": {
              "version_major": 2,
              "version_minor": 0,
              "model_id": "1b25c2402be643a9908ccfec64aaa866"
            }
          },
          "metadata": {}
        }
      ]
    },
    {
      "cell_type": "code",
      "source": [
        "# set generate hyperparameters\n",
        "model.config.num_beams = 2\n",
        "model.config.max_length = 948\n",
        "model.config.min_length = 10\n",
        "model.config.length_penalty = 2.0\n",
        "model.config.early_stopping = True\n",
        "model.config.no_repeat_ngram_size = 3"
      ],
      "metadata": {
        "id": "bjTRe9G3tVQX"
      },
      "execution_count": 30,
      "outputs": []
    },
    {
      "cell_type": "code",
      "source": [
        "# initialize trainer\n",
        "trainer = Seq2SeqTrainer(model=model,\n",
        "                         tokenizer=tokenizer,\n",
        "                         args=training_args,\n",
        "                         compute_metrics=compute_metrics,\n",
        "                         train_dataset=train_df,\n",
        "                         eval_dataset=val_df)"
      ],
      "metadata": {
        "id": "4JK6Tq6VtnkH"
      },
      "execution_count": 31,
      "outputs": []
    },
    {
      "cell_type": "code",
      "source": [
        "# start training\n",
        "trainer.train()"
      ],
      "metadata": {
        "id": "pl_ALSUzuQEg",
        "colab": {
          "base_uri": "https://localhost:8080/",
          "height": 499
        },
        "outputId": "ff746163-eaed-4f04-966c-433ee02da5e1"
      },
      "execution_count": 32,
      "outputs": [
        {
          "output_type": "display_data",
          "data": {
            "text/plain": [
              "<IPython.core.display.HTML object>"
            ],
            "text/html": [
              "\n",
              "    <div>\n",
              "        <style>\n",
              "            /* Turns off some styling */\n",
              "            progress {\n",
              "                /* gets rid of default border in Firefox and Opera. */\n",
              "                border: none;\n",
              "                /* Needs to be in here for Safari polyfill so background images work as expected. */\n",
              "                background-size: auto;\n",
              "            }\n",
              "        </style>\n",
              "      \n",
              "      <progress value='124' max='124' style='width:300px; height:20px; vertical-align: middle;'></progress>\n",
              "      [124/124 1:04:58, Epoch 3/4]\n",
              "    </div>\n",
              "    <table border=\"1\" class=\"dataframe\">\n",
              "  <thead>\n",
              "    <tr style=\"text-align: left;\">\n",
              "      <th>Epoch</th>\n",
              "      <th>Training Loss</th>\n",
              "      <th>Validation Loss</th>\n",
              "      <th>Rouge2 Precision</th>\n",
              "      <th>Rouge2 Recall</th>\n",
              "      <th>Rouge2 Fmeasure</th>\n",
              "      <th>Runtime</th>\n",
              "      <th>Samples Per Second</th>\n",
              "    </tr>\n",
              "  </thead>\n",
              "  <tbody>\n",
              "    <tr>\n",
              "      <td>0</td>\n",
              "      <td>1.657400</td>\n",
              "      <td>1.548037</td>\n",
              "      <td>0.346900</td>\n",
              "      <td>0.292300</td>\n",
              "      <td>0.272200</td>\n",
              "      <td>292.136500</td>\n",
              "      <td>0.068000</td>\n",
              "    </tr>\n",
              "    <tr>\n",
              "      <td>1</td>\n",
              "      <td>1.580500</td>\n",
              "      <td>1.469642</td>\n",
              "      <td>0.375200</td>\n",
              "      <td>0.304800</td>\n",
              "      <td>0.313400</td>\n",
              "      <td>219.321400</td>\n",
              "      <td>0.091000</td>\n",
              "    </tr>\n",
              "    <tr>\n",
              "      <td>2</td>\n",
              "      <td>1.309900</td>\n",
              "      <td>1.448785</td>\n",
              "      <td>0.373500</td>\n",
              "      <td>0.309300</td>\n",
              "      <td>0.295700</td>\n",
              "      <td>420.215000</td>\n",
              "      <td>0.048000</td>\n",
              "    </tr>\n",
              "    <tr>\n",
              "      <td>3</td>\n",
              "      <td>1.269900</td>\n",
              "      <td>1.446528</td>\n",
              "      <td>0.383700</td>\n",
              "      <td>0.311700</td>\n",
              "      <td>0.300700</td>\n",
              "      <td>402.633500</td>\n",
              "      <td>0.050000</td>\n",
              "    </tr>\n",
              "  </tbody>\n",
              "</table><p>"
            ]
          },
          "metadata": {}
        },
        {
          "output_type": "stream",
          "name": "stderr",
          "text": [
            "/usr/local/lib/python3.7/dist-packages/transformers/generation_utils.py:1777: UserWarning: __floordiv__ is deprecated, and its behavior will change in a future version of pytorch. It currently rounds toward 0 (like the 'trunc' function NOT 'floor'). This results in incorrect rounding for negative values. To keep the current behavior, use torch.div(a, b, rounding_mode='trunc'), or for actual floor division, use torch.div(a, b, rounding_mode='floor').\n",
            "  next_indices = next_tokens // vocab_size\n",
            "INFO:absl:Using default tokenizer.\n",
            "/usr/local/lib/python3.7/dist-packages/transformers/generation_utils.py:1777: UserWarning: __floordiv__ is deprecated, and its behavior will change in a future version of pytorch. It currently rounds toward 0 (like the 'trunc' function NOT 'floor'). This results in incorrect rounding for negative values. To keep the current behavior, use torch.div(a, b, rounding_mode='trunc'), or for actual floor division, use torch.div(a, b, rounding_mode='floor').\n",
            "  next_indices = next_tokens // vocab_size\n",
            "INFO:absl:Using default tokenizer.\n",
            "/usr/local/lib/python3.7/dist-packages/transformers/generation_utils.py:1777: UserWarning: __floordiv__ is deprecated, and its behavior will change in a future version of pytorch. It currently rounds toward 0 (like the 'trunc' function NOT 'floor'). This results in incorrect rounding for negative values. To keep the current behavior, use torch.div(a, b, rounding_mode='trunc'), or for actual floor division, use torch.div(a, b, rounding_mode='floor').\n",
            "  next_indices = next_tokens // vocab_size\n",
            "INFO:absl:Using default tokenizer.\n",
            "/usr/local/lib/python3.7/dist-packages/transformers/generation_utils.py:1777: UserWarning: __floordiv__ is deprecated, and its behavior will change in a future version of pytorch. It currently rounds toward 0 (like the 'trunc' function NOT 'floor'). This results in incorrect rounding for negative values. To keep the current behavior, use torch.div(a, b, rounding_mode='trunc'), or for actual floor division, use torch.div(a, b, rounding_mode='floor').\n",
            "  next_indices = next_tokens // vocab_size\n",
            "INFO:absl:Using default tokenizer.\n"
          ]
        },
        {
          "output_type": "execute_result",
          "data": {
            "text/plain": [
              "TrainOutput(global_step=124, training_loss=1.5234497016476047, metrics={'train_runtime': 3920.4999, 'train_samples_per_second': 0.032, 'total_flos': 7365348071424000.0, 'epoch': 3.99, 'init_mem_cpu_alloc_delta': 1452765184, 'init_mem_gpu_alloc_delta': 648354304, 'init_mem_cpu_peaked_delta': 0, 'init_mem_gpu_peaked_delta': 0, 'train_mem_cpu_alloc_delta': -122826752, 'train_mem_gpu_alloc_delta': 1962374656, 'train_mem_cpu_peaked_delta': 597086208, 'train_mem_gpu_peaked_delta': 4174934016})"
            ]
          },
          "metadata": {},
          "execution_count": 32
        }
      ]
    },
    {
      "cell_type": "code",
      "source": [
        "trainer.save_model('longformer_4epoch')"
      ],
      "metadata": {
        "id": "J4AhTijk84qt"
      },
      "execution_count": 33,
      "outputs": []
    },
    {
      "cell_type": "code",
      "source": [
        "! mv '/content/longformer_4epoch' '/content/drive/My Drive/Data/'"
      ],
      "metadata": {
        "id": "3kZiS81ndOty"
      },
      "execution_count": 34,
      "outputs": []
    },
    {
      "cell_type": "markdown",
      "source": [
        "## Inference"
      ],
      "metadata": {
        "id": "0Q5qhyZni3ss"
      }
    },
    {
      "cell_type": "code",
      "source": [
        "def generate_answer(batch):\n",
        "  inputs_dict = tokenizer(batch['clean_text'], padding='max_length', max_length=3800, return_tensors='pt', truncation=True)\n",
        "  input_ids = inputs_dict.input_ids.to('cuda')\n",
        "  attention_mask = inputs_dict.attention_mask.to('cuda')\n",
        "  global_attention_mask = torch.zeros_like(attention_mask)\n",
        "  # put global attention on <s> token\n",
        "  global_attention_mask[:, 0] = 1\n",
        "\n",
        "  predicted_abstract_ids = model.generate(input_ids, attention_mask=attention_mask, global_attention_mask=global_attention_mask)\n",
        "  batch['predicted_summary'] = tokenizer.batch_decode(predicted_abstract_ids, skip_special_tokens=True)\n",
        "  return batch\n",
        "\n",
        "val_df = pd.read_csv('/content/ustest_processed.csv')\n",
        "val_df.drop(['bill_id', 'sum_len', 'text_len', 'cleantext_len'], axis=1, inplace=True)\n",
        "val_df = val_df.sample(20, random_state=42)\n",
        "val_df = Dataset.from_pandas(val_df)\n",
        "\n",
        "result = val_df.map(generate_answer, batched=True, batch_size=4)\n",
        "\n",
        "# load rouge\n",
        "rouge = load_metric('rouge')\n",
        "\n",
        "print('Result:', rouge.compute(predictions=result['predicted_summary'], references=result['summary'], rouge_types=['rouge2'])['rouge2'].mid)"
      ],
      "metadata": {
        "colab": {
          "base_uri": "https://localhost:8080/",
          "height": 84,
          "referenced_widgets": [
            "09f433347bc743f68f94b52c1e328fc2",
            "210c9a7512af4cffb3905ee61d30059e",
            "6495fd04fffa4be7ad90e9baa60f8d4e",
            "aad922404cc543f49cfc62b3a13231aa",
            "913f05c5edc94dbeae4a8d28ad0f1794",
            "ab87f946d1c445f5936f96613d9a354c",
            "47bfdcd88ff2424e97d6cc588a7b9dc8",
            "949c3903a6f04dbfb778cae5f8c2dfda",
            "70495d92302a42db9efc6ba82903bb48",
            "8b4b21c00d5549b69a59ef17a55979f7",
            "262ac1f54d2e4b1e9381f0747ea73a51"
          ]
        },
        "id": "W9bekDYgdYT0",
        "outputId": "e73bd882-419b-4ecf-a692-632e3ae4f782"
      },
      "execution_count": 35,
      "outputs": [
        {
          "output_type": "display_data",
          "data": {
            "text/plain": [
              "  0%|          | 0/5 [00:00<?, ?ba/s]"
            ],
            "application/vnd.jupyter.widget-view+json": {
              "version_major": 2,
              "version_minor": 0,
              "model_id": "09f433347bc743f68f94b52c1e328fc2"
            }
          },
          "metadata": {}
        },
        {
          "output_type": "stream",
          "name": "stderr",
          "text": [
            "INFO:absl:Using default tokenizer.\n"
          ]
        },
        {
          "output_type": "stream",
          "name": "stdout",
          "text": [
            "Result: Score(precision=0.3586390259503793, recall=0.3258778499315146, fmeasure=0.30499121287081365)\n"
          ]
        }
      ]
    },
    {
      "cell_type": "code",
      "source": [
        "result.save_to_disk('result.hf')"
      ],
      "metadata": {
        "id": "1XA23t0U6p0F"
      },
      "execution_count": null,
      "outputs": []
    },
    {
      "cell_type": "code",
      "source": [
        "! mv '/content/result.hf' '/content/drive/My Drive/Data/'"
      ],
      "metadata": {
        "id": "qUqdxw8r7UTw"
      },
      "execution_count": null,
      "outputs": []
    },
    {
      "cell_type": "code",
      "source": [
        "result_df = result.to_pandas()"
      ],
      "metadata": {
        "id": "9NjbmN0j7fuw"
      },
      "execution_count": 36,
      "outputs": []
    },
    {
      "cell_type": "code",
      "source": [
        "result_df['clean_text'].iloc[1]"
      ],
      "metadata": {
        "colab": {
          "base_uri": "https://localhost:8080/",
          "height": 1000
        },
        "id": "MT06ZzmR8SRu",
        "outputId": "009902e8-4962-44a8-eb8c-b4309ede48f7"
      },
      "execution_count": 37,
      "outputs": [
        {
          "output_type": "execute_result",
          "data": {
            "text/plain": [
              "'SECTIONHEADER SHORT TITLE. This Act may be cited as the \"American Health Security Partnership Act of 1995.\" SECTIONHEADER FINDINGS; PURPOSE. Findings. Congress finds as follows: 40 million Americans do not have health insurance coverage. Cost shifting among payers and providers contributes to the increasing cost of health care in the United States. The only means of ending this cost shifting is to ensure that each individual in the United States has health insurance coverage. Purpose. It is the purpose of this Act to provide assistance to each State to enable the State to ensure, in the manner the State itself considers most appropriate, that each individual has health insurance coverage at least equivalent to the coverage provided to employees of the Federal Government. SECTIONHEADER STATE DEFINED. In this Act, the term \"State\" means each of the 50 States and the District of Columbia. TITLE I FEDERAL PAYMENTS TO STATES Section 101. PAYMENTS TO STATES WITH CERTIFIED PLANS. For purposes of assisting States in carrying out plans approved under title II, the Secretary of Health and Human Services shall make payments to States with comprehensive health insurance plans certified under title II for a fiscal year in an amount determined under section 102. Section 102. AMOUNT OF STATE PAYMENT. The amount of payment made to a State for a fiscal year under section 101 shall be equal to the State\\'s allocation of the total amount available for payments under this title for the fiscal year under section 103, as determined in accordance with the following formula: 50 percent of the total amount available shall be allocated among the States on the basis of the ratio of the population of each State to the population of all States. 50 percent of the total amount available shall be allocated among the States in amounts determined in accordance with the representative revenue system established by the Advisory Commission on Intergovernmental Relations. Section 103. TOTAL AMOUNT AVAILABLE FOR PAYMENTS. The total amount available for payments to States for a fiscal year under this title is equal to the following: For fiscal year 1998, $1,000,000,000. For fiscal year 1999, $2,000,000,000. For fiscal year 2000, $28,000,000,000. For fiscal year 2001, $29,000,000,000. For fiscal year 2002, $30,000,000,000. For fiscal year 2003, $31,000,000,000. TITLE II REQUIREMENTS FOR COMPREHENSIVE HEALTH PLANS Section 201. IMPLEMENTATION OF CERTIFIED HEALTH INSURANCE PLANS BY STATES. In General. Not later than July 1, 1999, each State shall submit to the Secretary a comprehensive health insurance plan designed to be administered by the State and containing the provisions required under this title, and shall have such plan in place and operating not later than January 1, 2000. Certification of Plans by Secretary. The Secretary shall certify for a fiscal year those State plans developed and implemented under this title which meet the applicable requirements of this title for the fiscal year. Section 202. REQUIRED PROVISIONS OF HEALTH INSURANCE PLAN. Each State shall have maximum flexibility in developing and implementing its comprehensive health insurance plan under this title, except that the plan shall include at least the following provisions: Coverage. Health insurance coverage meeting the requirements of this title for all individuals in the State without regard to employment status, income, or pre-existing condition or other health status. Portability and guaranteed renewal. A prohibition against the denial, cancellation, or refusal to renew the coverage of an individual or employer except on the basis of nonpayment of premiums, on the basis of fraud or misrepresentation, or because the plan is ceasing to provide any coverage in a geographic area. Benefits. Comparable to fehbp. Coverage comparable to the coverage available to employees of the Federal Government under the Federal Employees Health Benefits Program (FEHBP) . Coverage under title XVIII of the Social Security Act or coverage under a State plan under title XIX of such Act shall be deemed to meet the requirement of the previous sentence. Availability of home- and community-based care. The offering of home- and community-based care as an alternative to institutional care if medically appropriate. Community rating of premiums. A requirement that the premium charged shall be equivalent for all individuals within any community, except that the premium may vary with respect to an individual on the basis of the individual\\'s age or the number of members of the individual\\'s family covered. State supplemental premium payments. The payment by the State of supplemental amounts to ensure that all individuals may obtain coverage at reasonable rates. Quality of care. The creation of adequate mechanisms designed to assure, monitor, and maintain the provision of high quality health care to individuals in the State. Cost containment. The creation of adequate mechanisms designed to control premiums and the costs of providing high quality health care to individuals in the State. Section 203. WAIVER OF ERISA LIMITATION ON STATE REGULATION OF SELF- INSURED PLANS. Section 514(b) of the Employee Retirement Income Security Act of 1974 (29 USC. 1144(b)) is amended by adding at the end the following paragraph: Subsection (a) shall not apply to any State law to the extent such law conforms to or reflects the provisions of a comprehensive health insurance plan developed and implemented by the State and certified by the Secretary of Health and Human Services under title II of the American Health Security Partnership Act of 1995.\". Section 204. REQUIRING OPERATION OF CERTIFIED PLAN TO RECEIVE MEDICAID PAYMENTS. Section 1903 of the Social Security Act is amended by adding at the end the following new subsection: (1) In order to receive payments under this title for any quarter beginning on or after January 1, 2000, a State must have in effect a comprehensive health insurance plan certified for the fiscal year in which the quarter occurs by the Secretary under section 201(b) of the American Health Security Partnership Act of 1995. (A) The provisions of this subsection shall not apply to a State for any quarter that follows the quarter during which the State meets the requirements of this subsection; or with respect to which the Secretary determines that the State is unable to comply with the relevant requirements of this subsection for good cause , or due to circumstances beyond the control of such State. For purposes of determining deadlines imposed under this subsection, any time period during which a State was found under subparagraph (A)(ii)(II) to be unable to comply with the requirements of this subsection shall not be taken into account, and the Secretary shall modify all such deadlines with respect to such State accordingly.\". Section 205. INCREASE IN MINIMUM COMMUNITY SPOUSE RESOURCE ALLOWANCE UNDER MEDICAID. In General. Section 1924(f)(2)(A)(i) of the Social Security Act (42 USC. 1396r-5(f)(2)(A)(i)) is amended by striking \"$12,000\" and inserting \"$50,000\". Effective Date. The amendment made by subsection (a) shall apply to quarters beginning on or after October 1, 1995. TITLE III FINANCING MECHANISMS Section 301. INCREASE IN TOP INCOME TAX RATE APPLICABLE TO CORPORATIONS. In General. Subsection (b) of section 11 of the Internal Revenue Code of 1986 is amended by striking \"35 percent\" each place it appears and inserting \"36 percent\". Conforming Amendments. The last sentence of section 11(b) of such Code is amended by striking \"$100,000\" and inserting \"$200,000\". Clause (iii) of section 852(b)(3)(D) of such Code is amended by striking \"65 percent\" and inserting \"64 percent\". Subsection (a) of section 1201 of such Code is amended by striking \"35 percent\" each place it appears and inserting \"36 percent\". Paragraphs (1) and (2) of section 1445(e) of such Code are each amended by striking \"35 percent\" and inserting \"36 percent\". Effective Date. The amendments made by this section shall apply to taxable years beginning after December 31, 1995. Section 302. REVISION OF FEDERAL MEDICAL ASSISTANCE PERCENTAGE UNDER MEDICAID. Section 1905(b) of the Social Security Act (42 USC. 1396d(b)) is amended in the first sentence, by striking \"83 per centum\" and inserting \"the applicable maximum percentage described in the second sentence\"; and by inserting after the first sentence the following new sentence: \"In the previous sentence, the `applicable maximum percentage\\' is 83 per centum for quarters occurring during fiscal years prior to fiscal year 1998 and 60 per centum for quarters occurring during fiscal year 1998 and each succeeding fiscal year.\". Section 303. INCREASE IN EXCISE TAXES ON TOBACCO PRODUCTS. Cigarettes. Subsection (b) of section 5701 of the Internal Revenue Code of 1986 is amended by striking \"$12 per thousand \" in paragraph (1) and inserting \"$49.50 per thousand\", and by striking \"$25.20 per thousand \" in paragraph (2) and inserting \"$103.95 per thousand\". Cigars. Subsection (a) of section 5701 of such Code is amended by striking \"$1.125 cents per thousand \" in paragraph (1) and inserting \"$38.6212 per thousand\", and by striking \"equal to\" and all that follows in paragraph (2) and inserting \"equal to 52.594 percent of the price for which sold but not more than $123.75 per thousand.\". Cigarette Papers. Subsection (c) of section 5701 of such Code is amended by striking \"0.75 cent \" and inserting \"3.09 cents\". Cigarette Tubes. Subsection (d) of section 5701 of such Code is amended by striking \"1.5 cents \" and inserting \"6.19 cents\". Smokeless Tobacco. Subsection (e) of section 5701 of such Code is amended by striking \"36 cents \" in paragraph (1) and inserting \"$12.86\", and by striking \"12 cents \" in paragraph (2) and inserting \"$12.62\". Pipe Tobacco. Subsection (f) of section 5701 of such Code is amended by striking \"67.5 cents \" and inserting \"$13.1712\". Effective Date. The amendments made by this section shall apply to articles removed (as defined in section 5702 after December 31, 1996. TITLE IV TAX DEDUCTIBILITY OF HEALTH INSURANCE Section 401. TAX DEDUCTIBILITY OF HEALTH INSURANCE. In General. Part VII of subchapter B of chapter 1 of the Internal Revenue Code of 1986 is amended by redesignating section 220 as section 221 and by inserting after section 219 the following new section: \"Section 220. HEALTH INSURANCE COSTS. In General. In the case of an individual, there shall be allowed as a deduction an amount equal to 80 percent (or 100 percent, in the case of an individual who is a self-employed individual within the meaning of section 401(c)) of the amount paid during the taxable year for insurance which constitutes medical care for the taxpayer, his spouse, and dependents. Limitation Based on Earned Income. No deduction shall be allowed under subsection (a) to the extent that the amount of such deduction exceeds the sum of the taxpayer\\'s wages, salaries, tips, and other employee compensation includible in gross income, plus the taxpayer\\'s earned income (as defined in section 401(c)(2)). Other Coverage. Subsection (a) shall not apply to any taxpayer for any calendar month for which the taxpayer is eligible to participate in any subsidized health plan maintained by any employer of the taxpayer or of the spouse of the taxpayer. Special Rules. Coordination with medical deduction, etc. Any amount paid by a taxpayer for insurance to which subsection (a) applies shall not be taken into account in computing the amount allowable to the taxpayer as a deduction under section 213(a). Deduction not allowed for self-employment tax purposes. The deduction allowable by reason of this section shall not be taken into account in determining an individual\\'s net earnings from self-employment (within the meaning of section 1402(a)) for purposes of chapter 2.\" Conforming Amendments. Subsection (l) of section 162 of such Code is hereby repealed. Subsection (a) of section 62 of such Code is amended by inserting after paragraph (15) the following new item: Health insurance costs. The deduction allowed by section 220.\" The table of sections for part VII of subchapter B of chapter 1 of such Code is amended by striking the last item and inserting the following new items: \"Section 220. Health insurance costs. \"Section 221. Cross reference.\" Effective Date. The amendments made by this section shall apply to taxable years beginning after December 31, 1995.'"
            ],
            "application/vnd.google.colaboratory.intrinsic+json": {
              "type": "string"
            }
          },
          "metadata": {},
          "execution_count": 37
        }
      ]
    },
    {
      "cell_type": "code",
      "source": [
        "result_df['summary'].iloc[1]"
      ],
      "metadata": {
        "colab": {
          "base_uri": "https://localhost:8080/",
          "height": 278
        },
        "id": "D1PhEjYT8dpQ",
        "outputId": "1480177f-5b2c-4096-a043-89a1c063b5f9"
      },
      "execution_count": 38,
      "outputs": [
        {
          "output_type": "execute_result",
          "data": {
            "text/plain": [
              "'TABLE OF CONTENTS: Title I: Federal Payments to States Title II: Requirements for Comprehensive Health Plans Title III: Financing Mechanisms Title IV: Tax Deductibility of Health Insurance American Health Security Partnership Act of 1995 - Title I: Federal Payments to States - Mandates payments to States for comprehensive health insurance plans certified under title II of this Act. Title II: Requirements for Comprehensive Health Plans - Requires each State to submit and operate a comprehensive health insurance plan designed to be administered by the State and having at least: (1) coverage for all individuals in the State. (2) benefits comparable to that available under the Federal Employees Health Benefits Program (deeming coverage under titles XVIII (Medicare) and XIX, (3) home- and community-based care when medically appropriate, (4) community premium rating. (5) payment by the State of supplemental amounts to ensure that all individuals may obtain coverage at reasonable rates, (6) quality control mechanisms. And (7) premium control and cost control mechanisms. Amends the Employee Retirement Income Security Act of 1974 (ERISA) to exempt from ERISA State laws conforming to or reflecting a plan certified under this Act. Amends title XIX (Medicaid) of the Social Security Act to condition Medicaid payments to a State on the State having a certified plan in effect by the deadline. Modifies the method for determining the amount of the community spouse resource allowance for Medicaid provisions relating to transferring resources to a community spouse. Title III: Financing Mechanisms - Amends the Internal Revenue Code (IRC) to increase the highest corporate income tax rate. Amends Medicaid provisions to reduce the maximum Federal medical assistance percentage. Amends the IRC to increase the tax rate on tobacco and related products. Title IV: Tax Deductibility of Health Insurance - Allows a tax deduction for insurance that constitutes medical care.'"
            ],
            "application/vnd.google.colaboratory.intrinsic+json": {
              "type": "string"
            }
          },
          "metadata": {},
          "execution_count": 38
        }
      ]
    },
    {
      "cell_type": "code",
      "source": [
        "result_df['predicted_summary'].iloc[1]"
      ],
      "metadata": {
        "colab": {
          "base_uri": "https://localhost:8080/",
          "height": 105
        },
        "id": "rCNvn8ru9OdA",
        "outputId": "67fac7fe-1385-45e7-d375-3ee80ca71cae"
      },
      "execution_count": 39,
      "outputs": [
        {
          "output_type": "execute_result",
          "data": {
            "text/plain": [
              "'American Health Security Partnership Act of 1995 - Amends the Internal Revenue Code to require the Secretary of Health and Human Services to make payments to states with comprehensive health insurance plans certified for any quarter beginning on or after January 1, 2000, to ensure that each individual in the United States has health insurance coverage at least equivalent to the coverage provided to employees of the federal government. Requires the Secretary to certify for a fiscal year those state plans developed and implemented under this Act which meet the requirements of this Act.'"
            ],
            "application/vnd.google.colaboratory.intrinsic+json": {
              "type": "string"
            }
          },
          "metadata": {},
          "execution_count": 39
        }
      ]
    },
    {
      "cell_type": "code",
      "source": [
        "result_df['clean_text'].iloc[2]"
      ],
      "metadata": {
        "colab": {
          "base_uri": "https://localhost:8080/",
          "height": 1000
        },
        "id": "yDndm7p80HEK",
        "outputId": "6b075423-df87-4723-da9a-f9d59379dacd"
      },
      "execution_count": 40,
      "outputs": [
        {
          "output_type": "execute_result",
          "data": {
            "text/plain": [
              "'SECTIONHEADER SHORT TITLE. This Act may be cited as the \"Pueblo of Isleta Settlement and Natural Resources Restoration Act of 2006\". SECTIONHEADER FINDINGS AND PURPOSES. Findings. Congress finds that there is pending before the United States Court of Federal Claims a civil action filed by the Pueblo against the United States in which the Pueblo seeks to recover damages pursuant to the Isleta Jurisdictional Act; the Pueblo and the United States, after a diligent investigation of the Pueblo claims, have negotiated a Settlement Agreement, the validity and effectiveness of which is contingent on the enactment of enabling legislation; certain land of the Pueblo is waterlogged, and it would be to the benefit of the Pueblo and other water users to drain the land and return water to the Rio Grande River; and there is Pueblo forest land in need of remediation in order to improve timber yields, reduce the threat of fire, reduce erosion, and improve grazing conditions. Purposes. The purposes of this Act are to improve the drainage of the irrigated land, the health of the forest land, and other natural resources of the Pueblo; and to settle all claims that were raised or could have been raised by the Pueblo against the United States under the Isleta Jurisdictional Act in accordance with section 5. SECTIONHEADER DEFINITIONS. In this Act: Isleta jurisdictional act. The term \"Isleta Jurisdictional Act\" means Public Law 104-198 . Pueblo. The term \"Pueblo\" means the Pueblo of Isleta, a federally-recognized Indian tribe. Restoration fund. The term \"Restoration Fund\" means the Pueblo of Isleta Natural Resources Restoration Fund established by section 4(a). Secretary. The term \"Secretary\" means the Secretary of the Interior. Settlement agreement. The term \"Settlement Agreement\" means the Agreement of Compromise and Settlement entered into between the United States and the Pueblo dated July 12, 2005, as modified by the Extension and Modification Agreement executed by the United States and the Pueblo on June 22, 2006, to settle the claims of the Pueblo in Docket No. 98- 166L, a case pending in the United States Court of Federal Claims. SECTIONHEADER PUEBLO OF ISLETA NATURAL RESOURCES RESTORATION TRUST FUND. Establishment. There is established in the Treasury of the United States a trust fund, to be known as the \"Pueblo of Isleta Natural Resources Restoration Fund\", consisting of such amounts as are transferred to the Restoration Fund under subsection (b); and any interest earned on investment of amounts in the Restoration Fund under subsection (d). Transfers to Restoration Fund. Upon entry of the final judgment described in section 5(b), there shall be transferred to the Restoration Fund, in accordance with conditions specified in the Settlement Agreement and this Act $32,838,750 from the permanent judgment appropriation established pursuant to section 1304 of title 31, United States Code; and in addition to the amounts transferred under paragraph , at such times and in such amounts as are specified for that purpose in the annual budget of the Department of the Interior, authorized to be appropriated by subsection (f), and made available by an Act of appropriation, a total of $7,200,000. Distribution of Amounts From Restoration Fund. Appropriated amounts. In general. Subject to paragraph (3), upon the request of the Pueblo, the Secretary shall distribute amounts deposited in the Restoration Fund pursuant to section V of the Settlement Agreement and subsection (2), in accordance with the terms and conditions of the Settlement Agreement and this Act, on the condition that the Secretary, before any such distribution, receives from the Pueblo such assurances as are satisfactory to the Secretary that the Pueblo shall deliver funds in the amount of $7,100,000 toward drainage and remediation of the agricultural land and rehabilitation of forest and range land of the Pueblo in accordance with section IV(C) and IV(D) of the Settlement Agreement; and those funds shall be available for expenditure for drainage and remediation expenses as provided in sections IV(C) and IV(D) of the Settlement Agreement on the dates on which the Secretary makes distributions, and in amounts equal to the amounts so distributed, in accordance with sections IV(A) and IV(B) of the Settlement Agreement. Use of funds. Of the amounts distributed by the Secretary from the Restoration Fund under subparagraph (A) $5,700,000 shall be available to the Pueblo for use in carrying out the drainage and remediation of approximately 1,081 acres of waterlogged agricultural land, as described in section IV(A) of the Settlement Agreement; and $1,500,000 shall be available to the Pueblo for use in carrying out the rehabilitation and remediation of forest and range land, as described in section IV(B) of the Settlement Agreement. Federal consultation. Restoration work carried out using funds distributed under this paragraph shall be planned and performed in consultation with the Bureau of Indian Affairs; and such other Federal agencies as are necessary. Unused funds. Any funds, including any interest income, that are distributed under this paragraph but that are not needed to carry out this paragraph shall be available for use in accordance with paragraph (2)(A). Amounts from judgment fund. In general. Subject to paragraph (3), the amount paid into the Restoration Fund under subsection (1), and interest income resulting from investment of that amount, shall be available to the Pueblo for the acquisition, restoration, improvement, development, and protection of land, natural resources, and cultural resources within the exterior boundaries of the Pueblo, including improvements to the water supply and sewage treatment facilities of the Pueblo; and for the payment and reimbursement of attorney and expert witness fees and expenses incurred in connection with Docket No. 98-166L of the United States Court of Federal Claims, as provided in the Settlement Agreement. No contingency on provision of funds by pueblo. The receipt and use of funds by the Pueblo under this paragraph shall not be contingent upon the provision by the Pueblo of the funds described in paragraph (1)(A)(i). Expenditures and withdrawal. Tribal management plan. In general. Subject to clause (ii), the Pueblo may withdraw all or part of the Restoration Fund on approval by the Secretary of a tribal management plan in accordance with section 202 of the American Indian Trust Fund Management Reform Act of 1994 . Requirements. In addition to the requirements under the American Indian Trust Fund Management Reform Act of 1994 , a tribal management plan described in clause (i) shall require that the Pueblo shall expend any funds withdrawn from the Restoration Fund under this paragraph in a manner consistent with the purposes described in the Settlement Agreement. Enforcement. The Secretary may take judicial or administrative action to enforce the provisions of any tribal management plan described in subparagraph (i) to ensure that any funds withdrawn from the Restoration Fund under this paragraph are used in accordance with this Act. Liability. If the Pueblo exercises the right to withdraw funds from the Restoration Fund under this paragraph, neither the Secretary nor the Secretary of the Treasury shall retain any liability for the accounting, disbursement, or investment of the funds withdrawn. Expenditure plan. In general. The Pueblo shall submit to the Secretary for approval an expenditure plan for any portion of the funds in the Restoration Fund made available under this Act that the Pueblo does not withdraw under this paragraph. Description. The expenditure plan shall describe the manner in which, and the purposes for which, funds of the Pueblo remaining in the Restoration Fund will be used. Approval. On receipt of an expenditure plan under clause (i), the Secretary shall approve the plan if the Secretary determines that the plan is reasonable and consistent with this Act and the Settlement Agreement. Annual report. The Pueblo shall submit to the Secretary an annual report that describes expenditures from the Restoration Fund during the year covered by the report. Maintenance and Investment of Restoration Fund. In general. The Restoration Fund and amounts in the Restoration Fund shall be maintained and invested by the Secretary of the Interior pursuant to the first section of the Act of June 24, 1938 . Credits to restoration fund. The interest on, and the proceeds from the sale or redemption of, any obligations held in the Restoration Fund shall be credited to, and form a part of, the Restoration Fund. Prohibition on Per-Capita Payments. No portion of the amounts in the Restoration Fund shall be available for payment on a per-capita basis to members of the Pueblo. Authorization of Appropriations. There is authorized to be appropriated to the Restoration Fund $7,200,000. SECTIONHEADER RATIFICATION OF SETTLEMENT, DISMISSAL OF LITIGATION, AND COMPENSATION TO PUEBLO. Ratification of Settlement Agreement. The Settlement Agreement is ratified. Dismissal. Not later than 90 days after the date of enactment of this Act, the Pueblo and the United States shall execute and file a joint stipulation for entry of final judgment in the case of Pueblo of Isleta v. United States, Docket 98-166L, in the United States Court of Federal Claims in such form and such manner as are acceptable to the Attorney General and the Pueblo. Compensation. After the date of enactment of this Act, in accordance with the Settlement Agreement, and upon entry of the final judgment described in subsection (b) compensation to the Pueblo shall be paid from the permanent judgment appropriation established pursuant to section 1304 of title 31, United States Code, in the total amount of $32,838,750 for all monetary damages and attorney fees, interest, and any other fees and costs of any kind that were or could have been presented in connection with Docket No. 98-166L of the United States Court of Federal Claims; but the Pueblo shall retain all rights, including the right to bring civil actions based on causes of action, relating to the removal of ordnance under the Comprehensive Environmental Response, Compensation, and Liability Act of 1980 ; the Defense Environmental Restoration Program under section 2701 of title 10, United States Code; and any contract entered into by the Pueblo for the removal of ordnance. Other Limitations on Use of Funds. The Indian Tribal Judgment Funds Use or Distribution Act shall not apply to funds distributed or withdrawn from the Restoration Fund under this Act. No Effect on Land, Resources, or Water Rights. Nothing in this Act affects the status of land and natural resources of the Pueblo or any water right of the Pueblo. '"
            ],
            "application/vnd.google.colaboratory.intrinsic+json": {
              "type": "string"
            }
          },
          "metadata": {},
          "execution_count": 40
        }
      ]
    },
    {
      "cell_type": "code",
      "source": [
        "result_df['summary'].iloc[2]"
      ],
      "metadata": {
        "colab": {
          "base_uri": "https://localhost:8080/",
          "height": 157
        },
        "id": "dNkyPyNc0PQp",
        "outputId": "3b2cf146-ac28-4965-95b1-44a66862374a"
      },
      "execution_count": 41,
      "outputs": [
        {
          "output_type": "execute_result",
          "data": {
            "text/plain": [
              "'Pueblo of Isleta Settlement and Natural Resources Restoration Act of 2006 - Establishes in the Treasury the Pueblo of Isleta Natural Resources Restoration Fund for: (1) settlement of the claims of the Pueblo of Isleta. And (2) the acquisition, restoration, improvement, development, and protection of land, natural resources, and cultural resources within the exterior boundaries of the Pueblo. Provides for the maintenance and investment of the restoration fund. Ratifies the Agreement of Compromise and Settlement entered into between the United States and the Pueblo on July 12, 2005, as modified by the Extension and Modification Agreement executed by the United States and the Pueblo on June 22, 2006, to settle the claims in the case of Pueblo of Isleta v. United States, Docket No. 98-166L, pending in the US Court of Federal Claims. Directs the Pueblo and the United States to execute and file a joint stipulation for entry of final judgment in dismissal of such case. Provides for the payment of compensation to the Pueblo from the permanent judgment appropriation for all monetary damages and attorney fees, interest, and other fees and costs of any kind that were or could have been presented in connection with Docket No. 98-166L.'"
            ],
            "application/vnd.google.colaboratory.intrinsic+json": {
              "type": "string"
            }
          },
          "metadata": {},
          "execution_count": 41
        }
      ]
    },
    {
      "cell_type": "code",
      "source": [
        "result_df['predicted_summary'].iloc[2]"
      ],
      "metadata": {
        "colab": {
          "base_uri": "https://localhost:8080/",
          "height": 122
        },
        "id": "HYSP191f0bxL",
        "outputId": "640cd116-1b62-47fe-8dee-27fafc6601b3"
      },
      "execution_count": 42,
      "outputs": [
        {
          "output_type": "execute_result",
          "data": {
            "text/plain": [
              "'Pueblo of Isleta Settlement and Natural Resources Restoration Act of 2006 - Directs the Secretary of the Interior to establish in the Treasury of the United States a trust fund, to be known as the Pueblo, to make payments to the Puebleo for the acquisition, improvement, development, and protection of land, natural resources, and cultural resources within the exterior boundaries of Pueblos. Directs that: (1) any funds, including any interest income, that are not needed to carry out this Act, be available for use in accordance with this Act. And (2) any contract entered into by Puebloes for the removal of ordnance shall be available to be used for drainage and remediation of forest and range land. Authorizes appropriations.'"
            ],
            "application/vnd.google.colaboratory.intrinsic+json": {
              "type": "string"
            }
          },
          "metadata": {},
          "execution_count": 42
        }
      ]
    },
    {
      "cell_type": "code",
      "source": [
        "result_df['clean_text'].iloc[3]"
      ],
      "metadata": {
        "colab": {
          "base_uri": "https://localhost:8080/",
          "height": 626
        },
        "id": "zFtp6hPx1juP",
        "outputId": "b71412c4-babe-403c-e701-028753c7e44d"
      },
      "execution_count": 44,
      "outputs": [
        {
          "output_type": "execute_result",
          "data": {
            "text/plain": [
              "'SECTIONHEADER SHORT TITLE. This Act may be cited as the \"Migratory Bird Hunting and Conservation Stamp Promotion Act of 1998\". SECTIONHEADER PROMOTION OF STAMP SALES. In General. Section 4 of the Act of March 16, 1934 , is amended in subsection (b), by striking \"subsection (c) of this section\" and inserting \"subsections (c) and (d)\"; and by adding at the end the following: Promotion of Stamp Sales. In general. Subject to approval of an annual marketing plan by the Migratory Bird Conservation Commission established by section 2 of the Migratory Bird Conservation Act , the Secretary of the Interior may use from receipts from the sale of migratory bird hunting and conservation stamps an amount not to exceed $1,000,000 for each of fiscal years 1999 through 2003 for the promotion of additional stamp sales. Annual report. The Secretary of the Interior shall include in each report under section 3 of the Migratory Bird Conservation Act a statement of all expenditures under paragraph (1); and provide a copy to the Migratory Bird Conservation Commission, the Committee on Environment and Public Works of the Senate, and the Committee on Resources of the House of Representatives.\". Technical Amendments. Short title. The Act of March 16, 1934 , is amended by adding at the end the following: \"Section 11. SHORT TITLE. \"This Act may be cited as the `Migratory Bird Hunting and Conservation Stamp Act\\'.\". Section 4(d)(2) of the National Wildlife Refuge System Administration Act of 1966 (16 USC. 668dd(d)(2)) is amended in the last sentence by striking \"Migratory Bird Hunting Stamp Act\" and inserting \"Migratory Bird Hunting and Conservation Stamp Act\". Section 102 of the Sikes Act is amended by striking \"Migratory Bird Hunting Stamp Act as amended\" and inserting \"Migratory Bird Hunting and Conservation Stamp Act \". Section 203(b)(4)(A) of the Sikes Act (16 USC. 670i(b)(4)(A)) is amended by striking \"Act of March 16, 1934, commonly referred to as the Migratory Bird Hunting Stamp Act\" and inserting \"Migratory Bird Hunting and Conservation Stamp Act\". Section 2 of Public Law 87-383 is amended by striking \"Migratory Bird Hunting Stamp Act of March 16, 1934, as amended\" and inserting \"Migratory Bird Hunting and Conservation Stamp Act\". Section 201 of the Emergency Wetlands Resources Act of 1986 is amended in subsection (b)(1)(A), by striking \"Act of March 16, 1934 \" and inserting \"Migratory Bird Hunting and Conservation Stamp Act \"; and in subsection (c)(B), by striking \"Act of March 16, 1934\" and inserting \"Migratory Bird Hunting and Conservation Stamp Act\". Section 203 of the Emergency Wetlands Resources Act of 1986 is amended by striking \"Act of March 16, 1934\" and inserting \"Migratory Bird Hunting and Conservation Stamp Act\". Clause (ii) of section 504(1) of title 18, United States Code, is amended by striking \"Migratory Bird Hunting Stamp Act of 1934\" and inserting \"Migratory Bird Hunting and Conservation Stamp Act \". Section 28(f) of the Act of August 13, 1954 (25 USC. 564w-1(f) is amended in the second sentence, by striking \"Migratory Bird Hunting Stamp Act of March 16, 1934, as amended \" and inserting \"Migratory Bird Hunting and Conservation Stamp Act \"; and in the third sentence, by striking \"section 4 of the Act of March 16, 1934 , as amended or supplemented\" and inserting \"section 4 of the Migratory Bird Hunting and Conservation Stamp Act \". Migratory bird hunting and conservation stamp. The first section and section 10 of the Act of March 16, 1934 , are amended by striking \"migratory-bird hunting and conservation stamp\" each place it appears and inserting \"migratory bird hunting and conservation stamp\". Section 2(a) of the Act of March 16, 1934 (16 USC. 718b(a)), is amended in the fifth sentence by striking \"migratory-bird hunting stamps\" and inserting \"migratory bird hunting and conservation stamps\". Sections 4(a) and 5(c) of the Act of March 16, 1934 (16 USC. 718d(a), 718e(c)), are amended by striking \"migratory bird hunting stamps\" each place it appears and inserting \"migratory bird hunting and conservation stamps\". Section 5(a) of the Act of March 16, 1934 (16 USC. 718e(a)), is amended by striking \"migratory- bird hunting stamp\" and inserting \"migratory bird hunting and conservation stamp\". Section 2(4) of the Act of September 28, 1962 (16 USC. 460k-1(4)), is amended by striking \"migratory bird hunting stamps\" and inserting \"migratory bird hunting and conservation stamps\". Section 203(b)(4)(A) of the Sikes Act (16 USC. 670i(b)(4)(A)) is amended by striking \"migratory bird hunting stamp\" and inserting \"migratory bird hunting and conservation stamp\". Section 3(a) of the Act of July 30, 1956 , is amended by striking \"migratory-bird hunting stamps\" and inserting \"migratory bird hunting and conservation stamps\". '"
            ],
            "application/vnd.google.colaboratory.intrinsic+json": {
              "type": "string"
            }
          },
          "metadata": {},
          "execution_count": 44
        }
      ]
    },
    {
      "cell_type": "code",
      "source": [
        "result_df['summary'].iloc[3]"
      ],
      "metadata": {
        "colab": {
          "base_uri": "https://localhost:8080/",
          "height": 122
        },
        "id": "m6fPBHTa1qne",
        "outputId": "4949d52c-97c4-4a42-8d6b-0e6cb7655a43"
      },
      "execution_count": 45,
      "outputs": [
        {
          "output_type": "execute_result",
          "data": {
            "text/plain": [
              "'Migratory Bird Hunting and Conservation Stamp Promotion Act of 1998 - Amends the Act commonly referred to as the Migratory Bird Hunting and Conservation Stamp Act to: (1) make such title the legislated short title. And (2) allow the Secretary of the Interior, subject to approval of an annual marketing plan by the Migratory Bird Conservation Commission, to use from receipts from the sale of migratory bird hunting and conservation stamps an amount not to exceed $1 million for each FY from 1999 through 2003 for the promotion of additional stamp sales. Requires the Secretary to: (1) include in each report under the Migratory Bird Conservation Act a statement of all expenditures. And (2) provide a copy to the Commission and specified congressional committees.'"
            ],
            "application/vnd.google.colaboratory.intrinsic+json": {
              "type": "string"
            }
          },
          "metadata": {},
          "execution_count": 45
        }
      ]
    },
    {
      "cell_type": "code",
      "source": [
        "result_df['predicted_summary'].iloc[3]"
      ],
      "metadata": {
        "colab": {
          "base_uri": "https://localhost:8080/",
          "height": 70
        },
        "id": "u6D13OsV1whg",
        "outputId": "f3121461-75ec-4f27-e5bf-6e798546b272"
      },
      "execution_count": 46,
      "outputs": [
        {
          "output_type": "execute_result",
          "data": {
            "text/plain": [
              "'Migratory Bird Hunting and Conservation Stamp Promotion Act of 1998 - Amends the National Wildlife Refuge System Administration Act of 1966 to authorize the Secretary of the Interior to use receipts from the sale of migratory bird hunting and conservation stamps an amount not to exceed $1,000,000 for each of fiscal years 1999 through 2003 for the promotion of additional stamp sales.'"
            ],
            "application/vnd.google.colaboratory.intrinsic+json": {
              "type": "string"
            }
          },
          "metadata": {},
          "execution_count": 46
        }
      ]
    },
    {
      "cell_type": "markdown",
      "source": [
        "As can be seen from the texts above, summaries generated by model are shorter than original summaries, but they are quite qualitative and reflect the essence of the original text."
      ],
      "metadata": {
        "id": "YtHvYg549jgW"
      }
    }
  ]
}